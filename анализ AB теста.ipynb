{
 "cells": [
  {
   "cell_type": "markdown",
   "metadata": {},
   "source": [
    "<div style=\"border:solid Purple 2px; padding: 40px\">\n",
    "\n",
  
  {
   "cell_type": "markdown",
   "metadata": {},
   "source": [
    "# Проект   \n",
    "Анализ результатов A/B-теста"
   ]
  },
  {
   "cell_type": "markdown",
   "metadata": {},
   "source": [
    "Цель проекта  \n",
    "Как аналитику крупного интернет-магазина, вместе с отделом маркетинга, был подготовлен список гипотез для увеличения выручки.\n",
    "Необходимо приоритизировать гипотезы, запустить A/B-тест и проанализировать результаты. "
   ]
  },
  {
   "cell_type": "markdown",
   "metadata": {},
   "source": [
    "Описание данных:  \n",
    "Данные для первой части  \n",
    "hypothesis    \n",
    "Hypothesis — краткое описание гипотезы;  \n",
    "Reach — охват пользователей по 10-балльной шкале;  \n",
    "Impact — влияние на пользователей по 10-балльной шкале;  \n",
    "Confidence — уверенность в гипотезе по 10-балльной шкале;  \n",
    "Efforts — затраты ресурсов на проверку гипотезы по 10-балльной шкале. Чем больше значение Efforts, тем дороже проверка гипотезы.  \n",
    "Данные для второй части  \n",
    "orders    \n",
    "transactionId — идентификатор заказа;  \n",
    "visitorId — идентификатор пользователя, совершившего заказ;  \n",
    "date — дата, когда был совершён заказ;  \n",
    "revenue — выручка заказа;  \n",
    "group — группа A/B-теста, в которую попал заказ.  \n",
    "visitors    \n",
    "date — дата;  \n",
    "group — группа A/B-теста;  \n",
    "visitors — количество пользователей в указанную дату в указанной группе A/B-теста"
   ]
  },
  {
   "cell_type": "markdown",
   "metadata": {},
   "source": [
    "<div class=\"alert alert-success\">\n",
    "<h2> Комментарий ревьюера 😊<a class=\"tocSkip\"> </h2>\n",
    "    \n",
    "Очень здорово, что ты начинаешь проект с такого подробного введения, так держать!\n",
    "</div>"
   ]
  },
  {
   "cell_type": "markdown",
   "metadata": {},
   "source": [
    "#### Загрузка библиотек"
   ]
  },
  {
   "cell_type": "code",
   "execution_count": 1,
   "metadata": {},
   "outputs": [],
   "source": [
    "import pandas as pd\n",
    "import scipy.stats as st\n",
    "from scipy import stats\n",
    "import numpy as np\n",
    "import datetime as dt\n",
    "import matplotlib.pyplot as plt\n",
    "import seaborn as sns\n",
    "import warnings\n"
   ]
  },
  {
   "cell_type": "markdown",
   "metadata": {},
   "source": [
    "<div class=\"alert alert-success\">\n",
    "<h2> Комментарий ревьюера 😊<a class=\"tocSkip\"> </h2>\n",
    " \n",
    "Молодец, что загружаешь все библиотеки в начале проекта. Так сложней случайно удалить ячейку с загрузкой нужной библиотеки и сделать код не работающим. А получатель отчета сразу поймет, какие библиотеки ты используешь и какие ему нужно установить для запуска проекта.\n",
    "\n",
    "Все ли библиотеки используются? Лучше оставить только используемые в данном проекте)"
   ]
  },
  {
   "cell_type": "markdown",
   "metadata": {},
   "source": [
    "#### Предобработка данных"
   ]
  },
  {
   "cell_type": "code",
   "execution_count": 2,
   "metadata": {},
   "outputs": [],
   "source": [
    "hypothesis = pd.read_csv('/datasets/hypothesis.csv')\n",
    "orders = pd.read_csv('/datasets/orders.csv')\n",
    "visitors = pd.read_csv('/datasets/visitors.csv')"
   ]
  },
  {
   "cell_type": "markdown",
   "metadata": {},
   "source": [
    "посмотрим общую информацию о датасетах"
   ]
  },
  {
   "cell_type": "code",
   "execution_count": 3,
   "metadata": {},
   "outputs": [
    {
     "data": {
      "text/html": [
       "<div>\n",
       "<style scoped>\n",
       "    .dataframe tbody tr th:only-of-type {\n",
       "        vertical-align: middle;\n",
       "    }\n",
       "\n",
       "    .dataframe tbody tr th {\n",
       "        vertical-align: top;\n",
       "    }\n",
       "\n",
       "    .dataframe thead th {\n",
       "        text-align: right;\n",
       "    }\n",
       "</style>\n",
       "<table border=\"1\" class=\"dataframe\">\n",
       "  <thead>\n",
       "    <tr style=\"text-align: right;\">\n",
       "      <th></th>\n",
       "      <th>Hypothesis</th>\n",
       "      <th>Reach</th>\n",
       "      <th>Impact</th>\n",
       "      <th>Confidence</th>\n",
       "      <th>Efforts</th>\n",
       "    </tr>\n",
       "  </thead>\n",
       "  <tbody>\n",
       "    <tr>\n",
       "      <th>0</th>\n",
       "      <td>Добавить два новых канала привлечения трафика, что позволит привлекать на 30% больше пользователей</td>\n",
       "      <td>3</td>\n",
       "      <td>10</td>\n",
       "      <td>8</td>\n",
       "      <td>6</td>\n",
       "    </tr>\n",
       "    <tr>\n",
       "      <th>1</th>\n",
       "      <td>Запустить собственную службу доставки, что сократит срок доставки заказов</td>\n",
       "      <td>2</td>\n",
       "      <td>5</td>\n",
       "      <td>4</td>\n",
       "      <td>10</td>\n",
       "    </tr>\n",
       "    <tr>\n",
       "      <th>2</th>\n",
       "      <td>Добавить блоки рекомендаций товаров на сайт интернет магазина, чтобы повысить конверсию и средний чек заказа</td>\n",
       "      <td>8</td>\n",
       "      <td>3</td>\n",
       "      <td>7</td>\n",
       "      <td>3</td>\n",
       "    </tr>\n",
       "    <tr>\n",
       "      <th>3</th>\n",
       "      <td>Изменить структура категорий, что увеличит конверсию, т.к. пользователи быстрее найдут нужный товар</td>\n",
       "      <td>8</td>\n",
       "      <td>3</td>\n",
       "      <td>3</td>\n",
       "      <td>8</td>\n",
       "    </tr>\n",
       "    <tr>\n",
       "      <th>4</th>\n",
       "      <td>Изменить цвет фона главной страницы, чтобы увеличить вовлеченность пользователей</td>\n",
       "      <td>3</td>\n",
       "      <td>1</td>\n",
       "      <td>1</td>\n",
       "      <td>1</td>\n",
       "    </tr>\n",
       "    <tr>\n",
       "      <th>5</th>\n",
       "      <td>Добавить страницу отзывов клиентов о магазине, что позволит увеличить количество заказов</td>\n",
       "      <td>3</td>\n",
       "      <td>2</td>\n",
       "      <td>2</td>\n",
       "      <td>3</td>\n",
       "    </tr>\n",
       "    <tr>\n",
       "      <th>6</th>\n",
       "      <td>Показать на главной странице баннеры с актуальными акциями и распродажами, чтобы увеличить конверсию</td>\n",
       "      <td>5</td>\n",
       "      <td>3</td>\n",
       "      <td>8</td>\n",
       "      <td>3</td>\n",
       "    </tr>\n",
       "    <tr>\n",
       "      <th>7</th>\n",
       "      <td>Добавить форму подписки на все основные страницы, чтобы собрать базу клиентов для email-рассылок</td>\n",
       "      <td>10</td>\n",
       "      <td>7</td>\n",
       "      <td>8</td>\n",
       "      <td>5</td>\n",
       "    </tr>\n",
       "    <tr>\n",
       "      <th>8</th>\n",
       "      <td>Запустить акцию, дающую скидку на товар в день рождения</td>\n",
       "      <td>1</td>\n",
       "      <td>9</td>\n",
       "      <td>9</td>\n",
       "      <td>5</td>\n",
       "    </tr>\n",
       "  </tbody>\n",
       "</table>\n",
       "</div>"
      ],
      "text/plain": [
       "                                                                                                     Hypothesis  \\\n",
       "0            Добавить два новых канала привлечения трафика, что позволит привлекать на 30% больше пользователей   \n",
       "1                                     Запустить собственную службу доставки, что сократит срок доставки заказов   \n",
       "2  Добавить блоки рекомендаций товаров на сайт интернет магазина, чтобы повысить конверсию и средний чек заказа   \n",
       "3           Изменить структура категорий, что увеличит конверсию, т.к. пользователи быстрее найдут нужный товар   \n",
       "4                              Изменить цвет фона главной страницы, чтобы увеличить вовлеченность пользователей   \n",
       "5                      Добавить страницу отзывов клиентов о магазине, что позволит увеличить количество заказов   \n",
       "6          Показать на главной странице баннеры с актуальными акциями и распродажами, чтобы увеличить конверсию   \n",
       "7              Добавить форму подписки на все основные страницы, чтобы собрать базу клиентов для email-рассылок   \n",
       "8                                                       Запустить акцию, дающую скидку на товар в день рождения   \n",
       "\n",
       "   Reach  Impact  Confidence  Efforts  \n",
       "0      3      10           8        6  \n",
       "1      2       5           4       10  \n",
       "2      8       3           7        3  \n",
       "3      8       3           3        8  \n",
       "4      3       1           1        1  \n",
       "5      3       2           2        3  \n",
       "6      5       3           8        3  \n",
       "7     10       7           8        5  \n",
       "8      1       9           9        5  "
      ]
     },
     "execution_count": 3,
     "metadata": {},
     "output_type": "execute_result"
    }
   ],
   "source": [
    "pd.options.display.max_colwidth = 130\n",
    "hypothesis.head(10)\n"
   ]
  },
  {
   "cell_type": "markdown",
   "metadata": {},
   "source": [
    "<div class=\"alert alert-warning\">\n",
    "<h2> Комментарий ревьюера 🤓<a class=\"tocSkip\"> </h2>\n",
    "        \n",
    "Расширить вывод содержимого ячеек мы можем с помощью следующей настройки, так мы сможем увидеть полный текст гипотез:\n",
    "    \n",
    "```python\n",
    "pd.options.display.max_colwidth = 130\n",
    "```\n",
    "</div>"
   ]
  },
  {
   "cell_type": "markdown",
   "metadata": {},
   "source": [
    "<div class=\"alert alert-info\"> <b>Комментарий студента:</b> Добавила,круто, спасибо большое!</div>"
   ]
  },
  {
   "cell_type": "markdown",
   "metadata": {},
   "source": [
    "<div class=\"alert alert-success\">\n",
    "<h2> Комментарий ревьюера 😊 v_2 <a class=\"tocSkip\"> </h2>\n",
    "\n",
    "👍"
   ]
  },
  {
   "cell_type": "code",
   "execution_count": 4,
   "metadata": {},
   "outputs": [
    {
     "data": {
      "text/html": [
       "<div>\n",
       "<style scoped>\n",
       "    .dataframe tbody tr th:only-of-type {\n",
       "        vertical-align: middle;\n",
       "    }\n",
       "\n",
       "    .dataframe tbody tr th {\n",
       "        vertical-align: top;\n",
       "    }\n",
       "\n",
       "    .dataframe thead th {\n",
       "        text-align: right;\n",
       "    }\n",
       "</style>\n",
       "<table border=\"1\" class=\"dataframe\">\n",
       "  <thead>\n",
       "    <tr style=\"text-align: right;\">\n",
       "      <th></th>\n",
       "      <th>transactionId</th>\n",
       "      <th>visitorId</th>\n",
       "      <th>date</th>\n",
       "      <th>revenue</th>\n",
       "      <th>group</th>\n",
       "    </tr>\n",
       "  </thead>\n",
       "  <tbody>\n",
       "    <tr>\n",
       "      <th>0</th>\n",
       "      <td>3667963787</td>\n",
       "      <td>3312258926</td>\n",
       "      <td>2019-08-15</td>\n",
       "      <td>1650</td>\n",
       "      <td>B</td>\n",
       "    </tr>\n",
       "    <tr>\n",
       "      <th>1</th>\n",
       "      <td>2804400009</td>\n",
       "      <td>3642806036</td>\n",
       "      <td>2019-08-15</td>\n",
       "      <td>730</td>\n",
       "      <td>B</td>\n",
       "    </tr>\n",
       "    <tr>\n",
       "      <th>2</th>\n",
       "      <td>2961555356</td>\n",
       "      <td>4069496402</td>\n",
       "      <td>2019-08-15</td>\n",
       "      <td>400</td>\n",
       "      <td>A</td>\n",
       "    </tr>\n",
       "    <tr>\n",
       "      <th>3</th>\n",
       "      <td>3797467345</td>\n",
       "      <td>1196621759</td>\n",
       "      <td>2019-08-15</td>\n",
       "      <td>9759</td>\n",
       "      <td>B</td>\n",
       "    </tr>\n",
       "    <tr>\n",
       "      <th>4</th>\n",
       "      <td>2282983706</td>\n",
       "      <td>2322279887</td>\n",
       "      <td>2019-08-15</td>\n",
       "      <td>2308</td>\n",
       "      <td>B</td>\n",
       "    </tr>\n",
       "    <tr>\n",
       "      <th>5</th>\n",
       "      <td>182168103</td>\n",
       "      <td>935554773</td>\n",
       "      <td>2019-08-15</td>\n",
       "      <td>2210</td>\n",
       "      <td>B</td>\n",
       "    </tr>\n",
       "    <tr>\n",
       "      <th>6</th>\n",
       "      <td>398296753</td>\n",
       "      <td>2900797465</td>\n",
       "      <td>2019-08-15</td>\n",
       "      <td>1860</td>\n",
       "      <td>B</td>\n",
       "    </tr>\n",
       "    <tr>\n",
       "      <th>7</th>\n",
       "      <td>2626614568</td>\n",
       "      <td>78758296</td>\n",
       "      <td>2019-08-15</td>\n",
       "      <td>1044</td>\n",
       "      <td>A</td>\n",
       "    </tr>\n",
       "    <tr>\n",
       "      <th>8</th>\n",
       "      <td>1576988021</td>\n",
       "      <td>295230930</td>\n",
       "      <td>2019-08-15</td>\n",
       "      <td>13710</td>\n",
       "      <td>A</td>\n",
       "    </tr>\n",
       "    <tr>\n",
       "      <th>9</th>\n",
       "      <td>1506739906</td>\n",
       "      <td>1882260405</td>\n",
       "      <td>2019-08-15</td>\n",
       "      <td>1855</td>\n",
       "      <td>B</td>\n",
       "    </tr>\n",
       "  </tbody>\n",
       "</table>\n",
       "</div>"
      ],
      "text/plain": [
       "   transactionId   visitorId        date  revenue group\n",
       "0     3667963787  3312258926  2019-08-15     1650     B\n",
       "1     2804400009  3642806036  2019-08-15      730     B\n",
       "2     2961555356  4069496402  2019-08-15      400     A\n",
       "3     3797467345  1196621759  2019-08-15     9759     B\n",
       "4     2282983706  2322279887  2019-08-15     2308     B\n",
       "5      182168103   935554773  2019-08-15     2210     B\n",
       "6      398296753  2900797465  2019-08-15     1860     B\n",
       "7     2626614568    78758296  2019-08-15     1044     A\n",
       "8     1576988021   295230930  2019-08-15    13710     A\n",
       "9     1506739906  1882260405  2019-08-15     1855     B"
      ]
     },
     "execution_count": 4,
     "metadata": {},
     "output_type": "execute_result"
    }
   ],
   "source": [
    "orders.head(10)"
   ]
  },
  {
   "cell_type": "code",
   "execution_count": 5,
   "metadata": {},
   "outputs": [
    {
     "data": {
      "text/html": [
       "<div>\n",
       "<style scoped>\n",
       "    .dataframe tbody tr th:only-of-type {\n",
       "        vertical-align: middle;\n",
       "    }\n",
       "\n",
       "    .dataframe tbody tr th {\n",
       "        vertical-align: top;\n",
       "    }\n",
       "\n",
       "    .dataframe thead th {\n",
       "        text-align: right;\n",
       "    }\n",
       "</style>\n",
       "<table border=\"1\" class=\"dataframe\">\n",
       "  <thead>\n",
       "    <tr style=\"text-align: right;\">\n",
       "      <th></th>\n",
       "      <th>date</th>\n",
       "      <th>group</th>\n",
       "      <th>visitors</th>\n",
       "    </tr>\n",
       "  </thead>\n",
       "  <tbody>\n",
       "    <tr>\n",
       "      <th>0</th>\n",
       "      <td>2019-08-01</td>\n",
       "      <td>A</td>\n",
       "      <td>719</td>\n",
       "    </tr>\n",
       "    <tr>\n",
       "      <th>1</th>\n",
       "      <td>2019-08-02</td>\n",
       "      <td>A</td>\n",
       "      <td>619</td>\n",
       "    </tr>\n",
       "    <tr>\n",
       "      <th>2</th>\n",
       "      <td>2019-08-03</td>\n",
       "      <td>A</td>\n",
       "      <td>507</td>\n",
       "    </tr>\n",
       "    <tr>\n",
       "      <th>3</th>\n",
       "      <td>2019-08-04</td>\n",
       "      <td>A</td>\n",
       "      <td>717</td>\n",
       "    </tr>\n",
       "    <tr>\n",
       "      <th>4</th>\n",
       "      <td>2019-08-05</td>\n",
       "      <td>A</td>\n",
       "      <td>756</td>\n",
       "    </tr>\n",
       "    <tr>\n",
       "      <th>5</th>\n",
       "      <td>2019-08-06</td>\n",
       "      <td>A</td>\n",
       "      <td>667</td>\n",
       "    </tr>\n",
       "    <tr>\n",
       "      <th>6</th>\n",
       "      <td>2019-08-07</td>\n",
       "      <td>A</td>\n",
       "      <td>644</td>\n",
       "    </tr>\n",
       "    <tr>\n",
       "      <th>7</th>\n",
       "      <td>2019-08-08</td>\n",
       "      <td>A</td>\n",
       "      <td>610</td>\n",
       "    </tr>\n",
       "    <tr>\n",
       "      <th>8</th>\n",
       "      <td>2019-08-09</td>\n",
       "      <td>A</td>\n",
       "      <td>617</td>\n",
       "    </tr>\n",
       "    <tr>\n",
       "      <th>9</th>\n",
       "      <td>2019-08-10</td>\n",
       "      <td>A</td>\n",
       "      <td>406</td>\n",
       "    </tr>\n",
       "  </tbody>\n",
       "</table>\n",
       "</div>"
      ],
      "text/plain": [
       "         date group  visitors\n",
       "0  2019-08-01     A       719\n",
       "1  2019-08-02     A       619\n",
       "2  2019-08-03     A       507\n",
       "3  2019-08-04     A       717\n",
       "4  2019-08-05     A       756\n",
       "5  2019-08-06     A       667\n",
       "6  2019-08-07     A       644\n",
       "7  2019-08-08     A       610\n",
       "8  2019-08-09     A       617\n",
       "9  2019-08-10     A       406"
      ]
     },
     "execution_count": 5,
     "metadata": {},
     "output_type": "execute_result"
    }
   ],
   "source": [
    "visitors.head(10)"
   ]
  },
  {
   "cell_type": "markdown",
   "metadata": {},
   "source": [
    "посмотрим основные характеристики в датафреймах"
   ]
  },
  {
   "cell_type": "code",
   "execution_count": 6,
   "metadata": {},
   "outputs": [
    {
     "name": "stdout",
     "output_type": "stream",
     "text": [
      "<class 'pandas.core.frame.DataFrame'>\n",
      "RangeIndex: 9 entries, 0 to 8\n",
      "Data columns (total 5 columns):\n",
      " #   Column      Non-Null Count  Dtype \n",
      "---  ------      --------------  ----- \n",
      " 0   Hypothesis  9 non-null      object\n",
      " 1   Reach       9 non-null      int64 \n",
      " 2   Impact      9 non-null      int64 \n",
      " 3   Confidence  9 non-null      int64 \n",
      " 4   Efforts     9 non-null      int64 \n",
      "dtypes: int64(4), object(1)\n",
      "memory usage: 488.0+ bytes\n"
     ]
    }
   ],
   "source": [
    "hypothesis.info()"
   ]
  },
  {
   "cell_type": "code",
   "execution_count": 7,
   "metadata": {},
   "outputs": [
    {
     "name": "stdout",
     "output_type": "stream",
     "text": [
      "<class 'pandas.core.frame.DataFrame'>\n",
      "RangeIndex: 1197 entries, 0 to 1196\n",
      "Data columns (total 5 columns):\n",
      " #   Column         Non-Null Count  Dtype \n",
      "---  ------         --------------  ----- \n",
      " 0   transactionId  1197 non-null   int64 \n",
      " 1   visitorId      1197 non-null   int64 \n",
      " 2   date           1197 non-null   object\n",
      " 3   revenue        1197 non-null   int64 \n",
      " 4   group          1197 non-null   object\n",
      "dtypes: int64(3), object(2)\n",
      "memory usage: 46.9+ KB\n"
     ]
    }
   ],
   "source": [
    "orders.info()"
   ]
  },
  {
   "cell_type": "code",
   "execution_count": 8,
   "metadata": {},
   "outputs": [
    {
     "name": "stdout",
     "output_type": "stream",
     "text": [
      "<class 'pandas.core.frame.DataFrame'>\n",
      "RangeIndex: 62 entries, 0 to 61\n",
      "Data columns (total 3 columns):\n",
      " #   Column    Non-Null Count  Dtype \n",
      "---  ------    --------------  ----- \n",
      " 0   date      62 non-null     object\n",
      " 1   group     62 non-null     object\n",
      " 2   visitors  62 non-null     int64 \n",
      "dtypes: int64(1), object(2)\n",
      "memory usage: 1.6+ KB\n"
     ]
    }
   ],
   "source": [
    "visitors.info()"
   ]
  },
  {
   "cell_type": "markdown",
   "metadata": {},
   "source": [
    "Посмотрели общую информацию. Пропусков нет, есть некорректный тип данных столбцов date - object, нам нужен date.Проведем проверку на дубликаты."
   ]
  },
  {
   "cell_type": "code",
   "execution_count": 9,
   "metadata": {},
   "outputs": [],
   "source": [
    "visitors['date'] = pd.to_datetime(visitors['date']).dt.date\n",
    "orders['date'] = pd.to_datetime(orders['date']).dt.date"
   ]
  },
  {
   "cell_type": "code",
   "execution_count": 10,
   "metadata": {},
   "outputs": [
    {
     "data": {
      "text/plain": [
       "0"
      ]
     },
     "execution_count": 10,
     "metadata": {},
     "output_type": "execute_result"
    }
   ],
   "source": [
    "hypothesis.duplicated().sum()\n",
    "orders.duplicated().sum()\n",
    "visitors.duplicated().sum()"
   ]
  },
  {
   "cell_type": "markdown",
   "metadata": {},
   "source": [
    "Вывод  \n",
    "Данные готовы к анализу"
   ]
  },
  {
   "cell_type": "markdown",
   "metadata": {},
   "source": [
    "<div class=\"alert alert-warning\">\n",
    "<h2> Комментарий ревьюера 🤓<a class=\"tocSkip\"> </h2>\n",
    "        \n",
    "Можно провести дополнительные исследования, например: \n",
    "    \n",
    "* Посмотреть сколько у нас групп в АВ-тесте;\n",
    "* Изучить временной интервал, узнав даты начала и окончания теста;\n",
    "* Рассмотреть количество пользователей в каждой группе - по таблице с заказами;\n",
    "* Посмотреть не попадают ли какие-то пользователи в обе группы - по таблице с заказами.\n",
    "* Посмотреть динамику посетителей по дням по группам (visitos).\n",
    "</div>"
   ]
  },
  {
   "cell_type": "markdown",
   "metadata": {},
   "source": [
    "<div class=\"alert alert-info\"> <b>Комментарий студента:</b> Ниже провела дополнительное исследование </div>"
   ]
  },
  {
   "cell_type": "markdown",
   "metadata": {},
   "source": [
    "Посмотрим сколько групп в АВ-тесте и узнаем количество пользователей в каждой группе"
   ]
  },
  {
   "cell_type": "code",
   "execution_count": 11,
   "metadata": {},
   "outputs": [
    {
     "data": {
      "text/html": [
       "<div>\n",
       "<style scoped>\n",
       "    .dataframe tbody tr th:only-of-type {\n",
       "        vertical-align: middle;\n",
       "    }\n",
       "\n",
       "    .dataframe tbody tr th {\n",
       "        vertical-align: top;\n",
       "    }\n",
       "\n",
       "    .dataframe thead th {\n",
       "        text-align: right;\n",
       "    }\n",
       "</style>\n",
       "<table border=\"1\" class=\"dataframe\">\n",
       "  <thead>\n",
       "    <tr style=\"text-align: right;\">\n",
       "      <th></th>\n",
       "      <th>visitorId</th>\n",
       "    </tr>\n",
       "    <tr>\n",
       "      <th>group</th>\n",
       "      <th></th>\n",
       "    </tr>\n",
       "  </thead>\n",
       "  <tbody>\n",
       "    <tr>\n",
       "      <th>A</th>\n",
       "      <td>557</td>\n",
       "    </tr>\n",
       "    <tr>\n",
       "      <th>B</th>\n",
       "      <td>640</td>\n",
       "    </tr>\n",
       "  </tbody>\n",
       "</table>\n",
       "</div>"
      ],
      "text/plain": [
       "       visitorId\n",
       "group           \n",
       "A            557\n",
       "B            640"
      ]
     },
     "execution_count": 11,
     "metadata": {},
     "output_type": "execute_result"
    }
   ],
   "source": [
    "orders.groupby('group').agg({'visitorId' : 'count'})"
   ]
  },
  {
   "cell_type": "markdown",
   "metadata": {},
   "source": [
    "Вывод  \n",
    "У нас 2 группы:  \n",
    "А - 557 участников  \n",
    "В - 640 участников"
   ]
  },
  {
   "cell_type": "markdown",
   "metadata": {},
   "source": [
    "Посмотрим количество уникальных пользователей"
   ]
  },
  {
   "cell_type": "code",
   "execution_count": 12,
   "metadata": {},
   "outputs": [
    {
     "data": {
      "text/html": [
       "<div>\n",
       "<style scoped>\n",
       "    .dataframe tbody tr th:only-of-type {\n",
       "        vertical-align: middle;\n",
       "    }\n",
       "\n",
       "    .dataframe tbody tr th {\n",
       "        vertical-align: top;\n",
       "    }\n",
       "\n",
       "    .dataframe thead th {\n",
       "        text-align: right;\n",
       "    }\n",
       "</style>\n",
       "<table border=\"1\" class=\"dataframe\">\n",
       "  <thead>\n",
       "    <tr style=\"text-align: right;\">\n",
       "      <th></th>\n",
       "      <th>visitorId</th>\n",
       "    </tr>\n",
       "    <tr>\n",
       "      <th>group</th>\n",
       "      <th></th>\n",
       "    </tr>\n",
       "  </thead>\n",
       "  <tbody>\n",
       "    <tr>\n",
       "      <th>A</th>\n",
       "      <td>503</td>\n",
       "    </tr>\n",
       "    <tr>\n",
       "      <th>B</th>\n",
       "      <td>586</td>\n",
       "    </tr>\n",
       "  </tbody>\n",
       "</table>\n",
       "</div>"
      ],
      "text/plain": [
       "       visitorId\n",
       "group           \n",
       "A            503\n",
       "B            586"
      ]
     },
     "execution_count": 12,
     "metadata": {},
     "output_type": "execute_result"
    }
   ],
   "source": [
    "orders.groupby('group').agg({'visitorId' : 'nunique'})"
   ]
  },
  {
   "cell_type": "markdown",
   "metadata": {},
   "source": [
    "Вывод  \n",
    "Часть участников попала в обе группы"
   ]
  },
  {
   "cell_type": "code",
   "execution_count": 13,
   "metadata": {},
   "outputs": [
    {
     "data": {
      "text/plain": [
       "58"
      ]
     },
     "metadata": {},
     "output_type": "display_data"
    }
   ],
   "source": [
    "visitors_in_both= orders.groupby('visitorId').filter(lambda x: x['group'].nunique() == 2)\n",
    "\n",
    "\n",
    "unique_visitors = visitors_in_both['visitorId'].nunique()\n",
    "\n",
    "display(unique_visitors)"
   ]
  },
  {
   "cell_type": "markdown",
   "metadata": {},
   "source": [
    "58 участников попало в обе группы"
   ]
  },
  {
   "cell_type": "markdown",
   "metadata": {},
   "source": [
    "Узнаем даты начала и окончания теста"
   ]
  },
  {
   "cell_type": "code",
   "execution_count": 14,
   "metadata": {},
   "outputs": [
    {
     "data": {
      "text/plain": [
       "datetime.date(2019, 8, 1)"
      ]
     },
     "metadata": {},
     "output_type": "display_data"
    },
    {
     "data": {
      "text/plain": [
       "datetime.date(2019, 8, 31)"
      ]
     },
     "metadata": {},
     "output_type": "display_data"
    }
   ],
   "source": [
    "min_date = visitors['date'].min()\n",
    "max_date = visitors['date'].max()\n",
    "display (min_date)\n",
    "display(max_date)"
   ]
  },
  {
   "cell_type": "markdown",
   "metadata": {},
   "source": [
    "Посмотрим динамику по дням"
   ]
  },
  {
   "cell_type": "code",
   "execution_count": 15,
   "metadata": {},
   "outputs": [
    {
     "data": {
      "image/png": "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\n",
      "text/plain": [
       "<Figure size 1440x576 with 1 Axes>"
      ]
     },
     "metadata": {
      "needs_background": "light"
     },
     "output_type": "display_data"
    }
   ],
   "source": [
    "grouped_data = orders.groupby(['date', 'group'])['visitorId'].sum()\n",
    "\n",
    "plt.figure(figsize=(20, 8))\n",
    "grouped_data.plot(kind='bar', stacked=True)\n",
    "plt.xlabel('Дата')\n",
    "plt.ylabel('Количество посетителей')\n",
    "plt.title('Динамика посетителей по дням и по группам')\n",
    "plt.legend(title='Группа')\n",
    "plt.show()"
   ]
  },
  {
   "cell_type": "markdown",
   "metadata": {},
   "source": [
    "<div class=\"alert alert-warning\">\n",
    "<h2> Комментарий ревьюера 🤓 v_2 <a class=\"tocSkip\"> </h2>\n",
    "\n",
    "Будет хорошо каждую группу свои цветом выделить)"
   ]
  },
  {
   "cell_type": "markdown",
   "metadata": {},
   "source": [
    "#### Приоритизация гипотез."
   ]
  },
  {
   "cell_type": "markdown",
   "metadata": {},
   "source": [
    "У нас есть 9 гипотез, посмотрим их по методу RICE:  \n",
    "- Reach (Охват) - сколько пользователей затронет изменение.\n",
    "- Impact (Влияние) - как сильно изменение повлияет на пользователей.\n",
    "- Confidence (Уверенность) - насколько вы уверены в результатах тестирования.\n",
    "- Effort (Усилия) - сколько усилий потребуется для реализации изменения."
   ]
  },
  {
   "cell_type": "code",
   "execution_count": 16,
   "metadata": {},
   "outputs": [
    {
     "data": {
      "text/html": [
       "<div>\n",
       "<style scoped>\n",
       "    .dataframe tbody tr th:only-of-type {\n",
       "        vertical-align: middle;\n",
       "    }\n",
       "\n",
       "    .dataframe tbody tr th {\n",
       "        vertical-align: top;\n",
       "    }\n",
       "\n",
       "    .dataframe thead th {\n",
       "        text-align: right;\n",
       "    }\n",
       "</style>\n",
       "<table border=\"1\" class=\"dataframe\">\n",
       "  <thead>\n",
       "    <tr style=\"text-align: right;\">\n",
       "      <th></th>\n",
       "      <th>Hypothesis</th>\n",
       "      <th>Reach</th>\n",
       "      <th>Impact</th>\n",
       "      <th>Confidence</th>\n",
       "      <th>Efforts</th>\n",
       "      <th>ice</th>\n",
       "      <th>rice</th>\n",
       "    </tr>\n",
       "  </thead>\n",
       "  <tbody>\n",
       "    <tr>\n",
       "      <th>8</th>\n",
       "      <td>Запустить акцию, дающую скидку на товар в день рождения</td>\n",
       "      <td>1</td>\n",
       "      <td>9</td>\n",
       "      <td>9</td>\n",
       "      <td>5</td>\n",
       "      <td>16.20</td>\n",
       "      <td>16.2</td>\n",
       "    </tr>\n",
       "    <tr>\n",
       "      <th>0</th>\n",
       "      <td>Добавить два новых канала привлечения трафика, что позволит привлекать на 30% больше пользователей</td>\n",
       "      <td>3</td>\n",
       "      <td>10</td>\n",
       "      <td>8</td>\n",
       "      <td>6</td>\n",
       "      <td>13.33</td>\n",
       "      <td>40.0</td>\n",
       "    </tr>\n",
       "    <tr>\n",
       "      <th>7</th>\n",
       "      <td>Добавить форму подписки на все основные страницы, чтобы собрать базу клиентов для email-рассылок</td>\n",
       "      <td>10</td>\n",
       "      <td>7</td>\n",
       "      <td>8</td>\n",
       "      <td>5</td>\n",
       "      <td>11.20</td>\n",
       "      <td>112.0</td>\n",
       "    </tr>\n",
       "    <tr>\n",
       "      <th>6</th>\n",
       "      <td>Показать на главной странице баннеры с актуальными акциями и распродажами, чтобы увеличить конверсию</td>\n",
       "      <td>5</td>\n",
       "      <td>3</td>\n",
       "      <td>8</td>\n",
       "      <td>3</td>\n",
       "      <td>8.00</td>\n",
       "      <td>40.0</td>\n",
       "    </tr>\n",
       "    <tr>\n",
       "      <th>2</th>\n",
       "      <td>Добавить блоки рекомендаций товаров на сайт интернет магазина, чтобы повысить конверсию и средний чек заказа</td>\n",
       "      <td>8</td>\n",
       "      <td>3</td>\n",
       "      <td>7</td>\n",
       "      <td>3</td>\n",
       "      <td>7.00</td>\n",
       "      <td>56.0</td>\n",
       "    </tr>\n",
       "    <tr>\n",
       "      <th>1</th>\n",
       "      <td>Запустить собственную службу доставки, что сократит срок доставки заказов</td>\n",
       "      <td>2</td>\n",
       "      <td>5</td>\n",
       "      <td>4</td>\n",
       "      <td>10</td>\n",
       "      <td>2.00</td>\n",
       "      <td>4.0</td>\n",
       "    </tr>\n",
       "    <tr>\n",
       "      <th>5</th>\n",
       "      <td>Добавить страницу отзывов клиентов о магазине, что позволит увеличить количество заказов</td>\n",
       "      <td>3</td>\n",
       "      <td>2</td>\n",
       "      <td>2</td>\n",
       "      <td>3</td>\n",
       "      <td>1.33</td>\n",
       "      <td>4.0</td>\n",
       "    </tr>\n",
       "    <tr>\n",
       "      <th>3</th>\n",
       "      <td>Изменить структура категорий, что увеличит конверсию, т.к. пользователи быстрее найдут нужный товар</td>\n",
       "      <td>8</td>\n",
       "      <td>3</td>\n",
       "      <td>3</td>\n",
       "      <td>8</td>\n",
       "      <td>1.12</td>\n",
       "      <td>9.0</td>\n",
       "    </tr>\n",
       "    <tr>\n",
       "      <th>4</th>\n",
       "      <td>Изменить цвет фона главной страницы, чтобы увеличить вовлеченность пользователей</td>\n",
       "      <td>3</td>\n",
       "      <td>1</td>\n",
       "      <td>1</td>\n",
       "      <td>1</td>\n",
       "      <td>1.00</td>\n",
       "      <td>3.0</td>\n",
       "    </tr>\n",
       "  </tbody>\n",
       "</table>\n",
       "</div>"
      ],
      "text/plain": [
       "                                                                                                     Hypothesis  \\\n",
       "8                                                       Запустить акцию, дающую скидку на товар в день рождения   \n",
       "0            Добавить два новых канала привлечения трафика, что позволит привлекать на 30% больше пользователей   \n",
       "7              Добавить форму подписки на все основные страницы, чтобы собрать базу клиентов для email-рассылок   \n",
       "6          Показать на главной странице баннеры с актуальными акциями и распродажами, чтобы увеличить конверсию   \n",
       "2  Добавить блоки рекомендаций товаров на сайт интернет магазина, чтобы повысить конверсию и средний чек заказа   \n",
       "1                                     Запустить собственную службу доставки, что сократит срок доставки заказов   \n",
       "5                      Добавить страницу отзывов клиентов о магазине, что позволит увеличить количество заказов   \n",
       "3           Изменить структура категорий, что увеличит конверсию, т.к. пользователи быстрее найдут нужный товар   \n",
       "4                              Изменить цвет фона главной страницы, чтобы увеличить вовлеченность пользователей   \n",
       "\n",
       "   Reach  Impact  Confidence  Efforts    ice   rice  \n",
       "8      1       9           9        5  16.20   16.2  \n",
       "0      3      10           8        6  13.33   40.0  \n",
       "7     10       7           8        5  11.20  112.0  \n",
       "6      5       3           8        3   8.00   40.0  \n",
       "2      8       3           7        3   7.00   56.0  \n",
       "1      2       5           4       10   2.00    4.0  \n",
       "5      3       2           2        3   1.33    4.0  \n",
       "3      8       3           3        8   1.12    9.0  \n",
       "4      3       1           1        1   1.00    3.0  "
      ]
     },
     "execution_count": 16,
     "metadata": {},
     "output_type": "execute_result"
    }
   ],
   "source": [
    "#приоритизация ICE\n",
    "hypothesis['ice'] = round (hypothesis['Impact'] * hypothesis['Confidence'] / hypothesis['Efforts'],2)\n",
    "hypothesis['rice'] = hypothesis['Reach'] * hypothesis['Impact'] * hypothesis['Confidence'] / hypothesis['Efforts']\n",
    "hypothesis.sort_values(by='ice', ascending =False)"
   ]
  },
  {
   "cell_type": "markdown",
   "metadata": {},
   "source": [
    "<div class=\"alert alert-warning\">\n",
    "<h2> Комментарий ревьюера 🤓<a class=\"tocSkip\"> </h2>\n",
    "        \n",
    "Будет лучше округлить значения до 2 знаков после запятой. </div>   "
   ]
  },
  {
   "cell_type": "markdown",
   "metadata": {},
   "source": [
    "<div class=\"alert alert-info\"> <b> Исправила </b> </div>"
   ]
  },
  {
   "cell_type": "markdown",
   "metadata": {},
   "source": [
    "<div class=\"alert alert-success\">\n",
    "<h2> Комментарий ревьюера 😊 v_2 <a class=\"tocSkip\"> </h2>\n",
    "\n",
    "👍"
   ]
  },
  {
   "cell_type": "markdown",
   "metadata": {},
   "source": [
    "здесь видим приоритет на акцию \"скидка\" и два новых канала привлечения"
   ]
  },
  {
   "cell_type": "code",
   "execution_count": 17,
   "metadata": {},
   "outputs": [
    {
     "data": {
      "text/html": [
       "<div>\n",
       "<style scoped>\n",
       "    .dataframe tbody tr th:only-of-type {\n",
       "        vertical-align: middle;\n",
       "    }\n",
       "\n",
       "    .dataframe tbody tr th {\n",
       "        vertical-align: top;\n",
       "    }\n",
       "\n",
       "    .dataframe thead th {\n",
       "        text-align: right;\n",
       "    }\n",
       "</style>\n",
       "<table border=\"1\" class=\"dataframe\">\n",
       "  <thead>\n",
       "    <tr style=\"text-align: right;\">\n",
       "      <th></th>\n",
       "      <th>Hypothesis</th>\n",
       "      <th>Reach</th>\n",
       "      <th>Impact</th>\n",
       "      <th>Confidence</th>\n",
       "      <th>Efforts</th>\n",
       "      <th>ice</th>\n",
       "      <th>rice</th>\n",
       "    </tr>\n",
       "  </thead>\n",
       "  <tbody>\n",
       "    <tr>\n",
       "      <th>7</th>\n",
       "      <td>Добавить форму подписки на все основные страницы, чтобы собрать базу клиентов для email-рассылок</td>\n",
       "      <td>10</td>\n",
       "      <td>7</td>\n",
       "      <td>8</td>\n",
       "      <td>5</td>\n",
       "      <td>11.20</td>\n",
       "      <td>112.0</td>\n",
       "    </tr>\n",
       "    <tr>\n",
       "      <th>2</th>\n",
       "      <td>Добавить блоки рекомендаций товаров на сайт интернет магазина, чтобы повысить конверсию и средний чек заказа</td>\n",
       "      <td>8</td>\n",
       "      <td>3</td>\n",
       "      <td>7</td>\n",
       "      <td>3</td>\n",
       "      <td>7.00</td>\n",
       "      <td>56.0</td>\n",
       "    </tr>\n",
       "    <tr>\n",
       "      <th>0</th>\n",
       "      <td>Добавить два новых канала привлечения трафика, что позволит привлекать на 30% больше пользователей</td>\n",
       "      <td>3</td>\n",
       "      <td>10</td>\n",
       "      <td>8</td>\n",
       "      <td>6</td>\n",
       "      <td>13.33</td>\n",
       "      <td>40.0</td>\n",
       "    </tr>\n",
       "    <tr>\n",
       "      <th>6</th>\n",
       "      <td>Показать на главной странице баннеры с актуальными акциями и распродажами, чтобы увеличить конверсию</td>\n",
       "      <td>5</td>\n",
       "      <td>3</td>\n",
       "      <td>8</td>\n",
       "      <td>3</td>\n",
       "      <td>8.00</td>\n",
       "      <td>40.0</td>\n",
       "    </tr>\n",
       "    <tr>\n",
       "      <th>8</th>\n",
       "      <td>Запустить акцию, дающую скидку на товар в день рождения</td>\n",
       "      <td>1</td>\n",
       "      <td>9</td>\n",
       "      <td>9</td>\n",
       "      <td>5</td>\n",
       "      <td>16.20</td>\n",
       "      <td>16.2</td>\n",
       "    </tr>\n",
       "    <tr>\n",
       "      <th>3</th>\n",
       "      <td>Изменить структура категорий, что увеличит конверсию, т.к. пользователи быстрее найдут нужный товар</td>\n",
       "      <td>8</td>\n",
       "      <td>3</td>\n",
       "      <td>3</td>\n",
       "      <td>8</td>\n",
       "      <td>1.12</td>\n",
       "      <td>9.0</td>\n",
       "    </tr>\n",
       "    <tr>\n",
       "      <th>1</th>\n",
       "      <td>Запустить собственную службу доставки, что сократит срок доставки заказов</td>\n",
       "      <td>2</td>\n",
       "      <td>5</td>\n",
       "      <td>4</td>\n",
       "      <td>10</td>\n",
       "      <td>2.00</td>\n",
       "      <td>4.0</td>\n",
       "    </tr>\n",
       "    <tr>\n",
       "      <th>5</th>\n",
       "      <td>Добавить страницу отзывов клиентов о магазине, что позволит увеличить количество заказов</td>\n",
       "      <td>3</td>\n",
       "      <td>2</td>\n",
       "      <td>2</td>\n",
       "      <td>3</td>\n",
       "      <td>1.33</td>\n",
       "      <td>4.0</td>\n",
       "    </tr>\n",
       "    <tr>\n",
       "      <th>4</th>\n",
       "      <td>Изменить цвет фона главной страницы, чтобы увеличить вовлеченность пользователей</td>\n",
       "      <td>3</td>\n",
       "      <td>1</td>\n",
       "      <td>1</td>\n",
       "      <td>1</td>\n",
       "      <td>1.00</td>\n",
       "      <td>3.0</td>\n",
       "    </tr>\n",
       "  </tbody>\n",
       "</table>\n",
       "</div>"
      ],
      "text/plain": [
       "                                                                                                     Hypothesis  \\\n",
       "7              Добавить форму подписки на все основные страницы, чтобы собрать базу клиентов для email-рассылок   \n",
       "2  Добавить блоки рекомендаций товаров на сайт интернет магазина, чтобы повысить конверсию и средний чек заказа   \n",
       "0            Добавить два новых канала привлечения трафика, что позволит привлекать на 30% больше пользователей   \n",
       "6          Показать на главной странице баннеры с актуальными акциями и распродажами, чтобы увеличить конверсию   \n",
       "8                                                       Запустить акцию, дающую скидку на товар в день рождения   \n",
       "3           Изменить структура категорий, что увеличит конверсию, т.к. пользователи быстрее найдут нужный товар   \n",
       "1                                     Запустить собственную службу доставки, что сократит срок доставки заказов   \n",
       "5                      Добавить страницу отзывов клиентов о магазине, что позволит увеличить количество заказов   \n",
       "4                              Изменить цвет фона главной страницы, чтобы увеличить вовлеченность пользователей   \n",
       "\n",
       "   Reach  Impact  Confidence  Efforts    ice   rice  \n",
       "7     10       7           8        5  11.20  112.0  \n",
       "2      8       3           7        3   7.00   56.0  \n",
       "0      3      10           8        6  13.33   40.0  \n",
       "6      5       3           8        3   8.00   40.0  \n",
       "8      1       9           9        5  16.20   16.2  \n",
       "3      8       3           3        8   1.12    9.0  \n",
       "1      2       5           4       10   2.00    4.0  \n",
       "5      3       2           2        3   1.33    4.0  \n",
       "4      3       1           1        1   1.00    3.0  "
      ]
     },
     "execution_count": 17,
     "metadata": {},
     "output_type": "execute_result"
    }
   ],
   "source": [
    "#приоритизация RICE\n",
    "hypothesis.sort_values(by='rice', ascending =False)"
   ]
  },
  {
   "cell_type": "markdown",
   "metadata": {},
   "source": [
    "здесь видим приоритет на форму подписки и блоки рекомендаций"
   ]
  },
  {
   "cell_type": "markdown",
   "metadata": {},
   "source": [
    "Вывод\n",
    "\n",
    "Фреймворк RICE, в отличие от ICE, охватывает такой показатель, как Reach - количество пользователей,которых затронет изменение. Нам нужно учитывать все компоненты метода, значит,приоритетными будут следующие:  \n",
    "Добавить форму подписки на все основные страницы, чтобы собрать базу клиентов для email-рассылок  \n",
    "Добавить блоки рекомендаций товаров на сайт интернет магазина, чтобы повысить конверсию и средний чек заказа\t\n",
    "Добавить два новых канала привлечения трафика, что позволит привлекать на 30% больше пользователей  \n",
    "Показать на главной странице баннеры с актуальными акциями и распродажами, чтобы увеличить конверсию"
   ]
  },
  {
   "cell_type": "markdown",
   "metadata": {},
   "source": [
    "<div class=\"alert alert-success\">\n",
    "<h2> Комментарий ревьюера 😊<a class=\"tocSkip\"> </h2>\n",
    "    \n",
    "Приоритизация гипотез проведена успешно! Молодец, что выводишь таблицу дважды, каждый раз с сортировкой по одному из фреймоврков, так различия в их работе будут максимально наглядными. Согласна с твоими выводами по поводу их различия. "
   ]
  },
  {
   "cell_type": "markdown",
   "metadata": {},
   "source": [
    "<div class=\"alert alert-block alert-danger\">\n",
    "<h2> Комментарий ревьюера ⛔️<a class=\"tocSkip\"></h2>\n",
    "<s>\n",
    "Обрати внимание, что, на самом деле - мы выводим не номер, а индекс гипотезы в конкретном файле. Если такой вывод передать коллегам, то у них под этими номерами могут быть иные гипотезы. Поэтому следует указать полное название гипотез в выводах."
   ]
  },
  {
   "cell_type": "markdown",
   "metadata": {},
   "source": [
    "<div class=\"alert alert-info\"> <b> Исправила, спасибо! </b> </div>"
   ]
  },
  {
   "cell_type": "markdown",
   "metadata": {},
   "source": [
    "<div class=\"alert alert-success\">\n",
    "<h2> Комментарий ревьюера 😊 v_2 <a class=\"tocSkip\"> </h2>\n",
    "\n",
    "Хорошо)"
   ]
  },
  {
   "cell_type": "markdown",
   "metadata": {},
   "source": [
    "#### Анализ A/B-теста"
   ]
  },
  {
   "cell_type": "markdown",
   "metadata": {},
   "source": [
    "##### Постройте график кумулятивной выручки по группам. Сделайте выводы и предположения.\n",
    "Для этого необходимо: Создать массив уникальных пар значений дат и групп теста,cобрать агрегированные кумулятивные по дням данные о заказах и посетителях интернет-магазина, объединить полученные данные в одной таблице."
   ]
  },
  {
   "cell_type": "code",
   "execution_count": 18,
   "metadata": {},
   "outputs": [
    {
     "name": "stdout",
     "output_type": "stream",
     "text": [
      "         date group  orders  buyers  revenue  visitors\n",
      "0  2019-08-01     A      24      20   148579       719\n",
      "1  2019-08-01     B      21      20   101217       713\n",
      "2  2019-08-02     A      44      38   242401      1338\n",
      "3  2019-08-02     B      45      43   266748      1294\n",
      "4  2019-08-03     A      68      62   354874      1845\n"
     ]
    }
   ],
   "source": [
    "# создаем массив уникальных пар значений дат и групп теста\n",
    "datesGroups = orders[['date','group']].drop_duplicates().sort_values(by=['date', 'group'])\n",
    "\n",
    "# получаем агрегированные кумулятивные по дням данные о заказах \n",
    "ordersAggregated = datesGroups.apply(lambda x: orders[np.logical_and(orders['date'] <= x['date'], orders['group'] == x['group'])]\\\n",
    "                                     .agg({'date' : 'max', 'group' : 'max', 'transactionId' : 'nunique', 'visitorId' : 'nunique', 'revenue' : 'sum'}), axis=1)\n",
    "\n",
    "# получаем агрегированные кумулятивные по дням данные о посетителях интернет-магазина \n",
    "visitorsAggregated = datesGroups.apply(lambda x: visitors[np.logical_and(visitors['date'] <= x['date'], visitors['group'] == x['group'])]\\\n",
    "                                       .agg({'date' : 'max', 'group' : 'max', 'visitors' : 'sum'}), axis=1)\n",
    "\n",
    "# объединяем кумулятивные данные в одной таблице и присваиваем ее столбцам понятные названия\n",
    "cumulativeData = ordersAggregated.merge(visitorsAggregated, left_on=['date', 'group'], right_on=['date', 'group'])\n",
    "cumulativeData.columns = ['date', 'group', 'orders', 'buyers', 'revenue', 'visitors']\n",
    "\n",
    "print(cumulativeData.head(5))"
   ]
  },
  {
   "cell_type": "markdown",
   "metadata": {},
   "source": [
    "<div class=\"alert alert-warning\">\n",
    "<h2> Комментарий ревьюера 🤓<a class=\"tocSkip\"> </h2>\n",
    "        \n",
    "Можно проверить, корректно ли был содан датафрейм cummulativeData. Например, совпадают ли минимальная и максимальная даты в этом датафрейме с минимальной и максимальной датой в исходных данных. </div>   "
   ]
  },
  {
   "cell_type": "code",
   "execution_count": 19,
   "metadata": {},
   "outputs": [
    {
     "data": {
      "text/plain": [
       "datetime.date(2019, 8, 1)"
      ]
     },
     "metadata": {},
     "output_type": "display_data"
    },
    {
     "data": {
      "text/plain": [
       "datetime.date(2019, 8, 31)"
      ]
     },
     "metadata": {},
     "output_type": "display_data"
    }
   ],
   "source": [
    "min_date_cumul = cumulativeData['date'].min()\n",
    "max_date_cumul = cumulativeData['date'].max()\n",
    "display (min_date_cumul)\n",
    "display(max_date_cumul)"
   ]
  },
  {
   "cell_type": "markdown",
   "metadata": {},
   "source": [
    "<div class=\"alert alert-info\"> <b>Комментарий студента:</b> Минимальная и максимальная даты в датафрейм cummulativeData и в исходных данных совпадают </div>"
   ]
  },
  {
   "cell_type": "code",
   "execution_count": 20,
   "metadata": {},
   "outputs": [
    {
     "data": {
      "image/png": "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\n",
      "text/plain": [
       "<Figure size 720x288 with 1 Axes>"
      ]
     },
     "metadata": {
      "needs_background": "light"
     },
     "output_type": "display_data"
    }
   ],
   "source": [
    "\n",
    "# датафрейм с кумулятивным количеством заказов и кумулятивной выручкой по дням в группе А\n",
    "cumulativeRevenueA = cumulativeData[cumulativeData['group']=='A'][['date','revenue', 'orders']]\n",
    "\n",
    "# датафрейм с кумулятивным количеством заказов и кумулятивной выручкой по дням в группе B\n",
    "cumulativeRevenueB = cumulativeData[cumulativeData['group']=='B'][['date','revenue', 'orders']]\n",
    "\n",
    "plt.figure(figsize=(10, 4))\n",
    "plt.plot(cumulativeRevenueA['date'], cumulativeRevenueA['revenue'], label='A')\n",
    "\n",
    "# Строим график выручки группы B\n",
    "plt.plot(cumulativeRevenueB['date'], cumulativeRevenueB['revenue'], label='B')\n",
    "\n",
    "plt.legend() \n",
    "plt.title('График кумулятивной выручки по группам')\n",
    "plt.ylabel('Выручка')\n",
    "plt.xlabel('Дата');"
   ]
  },
  {
   "cell_type": "markdown",
   "metadata": {},
   "source": [
    "<div class=\"alert alert-block alert-danger\">\n",
    "<h2> Комментарий ревьюера ⛔️<a class=\"tocSkip\"></h2>\n",
    "    <s>\n",
    "Поскольку это проект второго модуля, давай оформим все графики проекта, добавив подписи по осям ко всем графикам. Можешь использовать `plt.xlabel()` и `plt.ylabel()`.  Также скорректировать отображние по оси Х, для этого можно увеличить размер графика, например."
   ]
  },
  {
   "cell_type": "markdown",
   "metadata": {},
   "source": [
    "<div class=\"alert alert-info\"> Добавила подписи ко всем графикам </b> </div>"
   ]
  },
  {
   "cell_type": "markdown",
   "metadata": {},
   "source": [
    "<div class=\"alert alert-success\">\n",
    "<h2> Комментарий ревьюера 😊 v_2 <a class=\"tocSkip\"> </h2>\n",
    "\n",
    "Так лучше)"
   ]
  },
  {
   "cell_type": "markdown",
   "metadata": {},
   "source": [
    "Вывод  \n",
    "Видим увеличение выручки на обоих графиках, но график группы В вырывается вперед.  \n",
    "Кумулятивная выручка группы А растет плавно, тогда как в группе В наблюдаем резкий скачок, что может быть обусловлено аномалиями - например,дорогостоящими заказами"
   ]
  },
  {
   "cell_type": "markdown",
   "metadata": {},
   "source": [
    "<div class=\"alert alert-block alert-danger\">\n",
    "<h2> Комментарий ревьюера ⛔️<a class=\"tocSkip\"></h2>\n",
    "    <s>\n",
    "Важно отметить скачки на графике и указать возможные причины)"
   ]
  },
  {
   "cell_type": "markdown",
   "metadata": {},
   "source": [
    "<div class=\"alert alert-info\"> <b> Добавила в вывод про скачки и причины </b> </div>"
   ]
  },
  {
   "cell_type": "markdown",
   "metadata": {},
   "source": [
    "<div class=\"alert alert-warning\">\n",
    "<h2> Комментарий ревьюера 🤓  v_2 <a class=\"tocSkip\"> </h2>\n",
    "\n",
    "Сейчас при анализе графика мы не учитываем, что на графике виден рост выручки. Если упростить, то выручка = конверсия * средний чек. Если выручка выросла, то мог увеличится средний чек, а могло увеличится количество заказов (т.е. конверсия).\n",
    "\n",
    "Здесь нужно  дать полное описание возможных причин такого поведения графика. Если мы предлагаем только одну причину скачка, можно предположить, что мы не вполне понимаем всю картину."
   ]
  },
  {
   "cell_type": "markdown",
   "metadata": {},
   "source": [
    "#####  Постройте график кумулятивного среднего чека по группам. Сделайте выводы и предположения."
   ]
  },
  {
   "cell_type": "code",
   "execution_count": 21,
   "metadata": {},
   "outputs": [
    {
     "data": {
      "image/png": "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\n",
      "text/plain": [
       "<Figure size 720x288 with 1 Axes>"
      ]
     },
     "metadata": {
      "needs_background": "light"
     },
     "output_type": "display_data"
    }
   ],
   "source": [
    "plt.figure(figsize=(10, 4))\n",
    "plt.plot(cumulativeRevenueA['date'], cumulativeRevenueA['revenue']/cumulativeRevenueA['orders'], label='A')\n",
    "plt.plot(cumulativeRevenueB['date'], cumulativeRevenueB['revenue']/cumulativeRevenueB['orders'], label='B')\n",
    "plt.legend()\n",
    "\n",
    "plt.title('График кумулятивного среднего чека по группам')\n",
    "plt.ylabel('Средний чек')\n",
    "plt.xlabel('Дата');"
   ]
  },
  {
   "cell_type": "markdown",
   "metadata": {},
   "source": [
    "Вывод  \n",
    "График группы В сразу показывает рост, но на обоих графиках видны скачки, что может свидетельствовать об аномалиях"
   ]
  },
  {
   "cell_type": "markdown",
   "metadata": {},
   "source": [
    "#####  Постройте график относительного изменения кумулятивного среднего чека группы B к группе A. Сделайте выводы и предположения."
   ]
  },
  {
   "cell_type": "code",
   "execution_count": 22,
   "metadata": {},
   "outputs": [
    {
     "data": {
      "image/png": "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\n",
      "text/plain": [
       "<Figure size 720x288 with 1 Axes>"
      ]
     },
     "metadata": {
      "needs_background": "light"
     },
     "output_type": "display_data"
    }
   ],
   "source": [
    "# собираем данные в одном датафрейме\n",
    "mergedCumulativeRevenue = cumulativeRevenueA.merge(cumulativeRevenueB, left_on='date', right_on='date', how='left', suffixes=['A', 'B'])\n",
    "\n",
    "plt.figure(figsize=(10, 4))\n",
    "# cтроим отношение средних чеков\n",
    "plt.plot(mergedCumulativeRevenue['date'], (mergedCumulativeRevenue['revenueB']/mergedCumulativeRevenue['ordersB'])/(mergedCumulativeRevenue['revenueA']/mergedCumulativeRevenue['ordersA'])-1)\n",
    "\n",
    "# добавляем ось X\n",
    "plt.axhline(y=0, color='black', linestyle='--')\n",
    "plt.title('График относительного изменения кумулятивного среднего чека группы B к группе A')\n",
    "plt.xlabel('Дата');\n"
   ]
  },
  {
   "cell_type": "markdown",
   "metadata": {},
   "source": [
    "Вывод  \n",
    "График относительного изменения кумулятивного среднего чека группы B к группе A показывает, что результатыт группы В лучше"
   ]
  },
  {
   "cell_type": "markdown",
   "metadata": {},
   "source": [
    "#####  Постройте график кумулятивного среднего количества заказов на посетителя по группам. Сделайте выводы и предположения."
   ]
  },
  {
   "cell_type": "code",
   "execution_count": 23,
   "metadata": {},
   "outputs": [
    {
     "data": {
      "image/png": "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\n",
      "text/plain": [
       "<Figure size 720x288 with 1 Axes>"
      ]
     },
     "metadata": {
      "needs_background": "light"
     },
     "output_type": "display_data"
    }
   ],
   "source": [
    "# считаем среднее количество заказов на посетителя\n",
    "cumulativeData['conversion'] = cumulativeData['orders']/cumulativeData['visitors']\n",
    "\n",
    "# отделяем данные по группе A\n",
    "cumulativeDataA = cumulativeData[cumulativeData['group']=='A']\n",
    "\n",
    "# отделяем данные по группе B\n",
    "cumulativeDataB = cumulativeData[cumulativeData['group']=='B']\n",
    "\n",
    "# строим графики\n",
    "plt.figure(figsize=(10, 4))\n",
    "plt.plot(cumulativeDataA['date'], cumulativeDataA['conversion'], label='A')\n",
    "plt.plot(cumulativeDataB['date'], cumulativeDataB['conversion'], label='B')\n",
    "plt.legend()\n",
    "plt.title('График кумулятивного среднего количества заказов')\n",
    "plt.xlabel('Дата')\n",
    "plt.ylabel('Конверсия');\n",
    "\n"
   ]
  },
  {
   "cell_type": "markdown",
   "metadata": {},
   "source": [
    "Вывод  \n",
    "График кумулятивного среднего количества заказов показывает, что количество заказов в группе В больше "
   ]
  },
  {
   "cell_type": "markdown",
   "metadata": {},
   "source": [
    "#####  Постройте график относительного изменения кумулятивного среднего количества заказов на посетителя группы B к группе A. Сделайте выводы и предположения."
   ]
  },
  {
   "cell_type": "code",
   "execution_count": 24,
   "metadata": {},
   "outputs": [
    {
     "data": {
      "image/png": "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\n",
      "text/plain": [
       "<Figure size 720x288 with 1 Axes>"
      ]
     },
     "metadata": {
      "needs_background": "light"
     },
     "output_type": "display_data"
    }
   ],
   "source": [
    "mergedCumulativeConversions = cumulativeDataA[['date','conversion']].merge(cumulativeDataB[['date','conversion']], left_on='date', right_on='date', how='left', suffixes=['A', 'B'])\n",
    "\n",
    "plt.figure(figsize=(10, 4))\n",
    "plt.plot(mergedCumulativeConversions['date'], mergedCumulativeConversions['conversionB']/mergedCumulativeConversions['conversionA']-1, label=\"Относительный прирост кумулятивного среднего количества заказов на посетителя группы B относительно группы A\")\n",
    "plt.legend(loc='lower center')\n",
    "\n",
    "plt.axhline(y=0, color='black', linestyle='--')\n",
    "plt.axhline(y=-0.1, color='grey', linestyle='--')\n",
    "\n",
    "plt.title('График относительного изменения кумулятивного среднего количества заказов на посетителя группы B к группе A')\n",
    "plt.xlabel('Дата');\n"
   ]
  },
  {
   "cell_type": "markdown",
   "metadata": {},
   "source": [
    "Вывод  \n",
    "График относительного изменения кумулятивного среднего количества заказов на посетителя группы B к группе A показывает стабильный рост"
   ]
  },
  {
   "cell_type": "markdown",
   "metadata": {},
   "source": [
    "<div class=\"alert alert-success\">\n",
    "<h2> Комментарий ревьюера 😊<a class=\"tocSkip\"> </h2>\n",
    "\n",
    "Графики построены и интерпретированы верно, молодец) Но нужно доработать оформление\n",
    "</div>"
   ]
  },
  {
   "cell_type": "markdown",
   "metadata": {},
   "source": [
    "#####  Постройте точечный график количества заказов по пользователям. Сделайте выводы и предположения."
   ]
  },
  {
   "cell_type": "code",
   "execution_count": 25,
   "metadata": {},
   "outputs": [
    {
     "data": {
      "image/png": "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\n",
      "text/plain": [
       "<Figure size 432x288 with 1 Axes>"
      ]
     },
     "metadata": {
      "needs_background": "light"
     },
     "output_type": "display_data"
    }
   ],
   "source": [
    "ordersByUsers = (\n",
    "    orders.groupby('visitorId', as_index=False)\n",
    "    .agg({'transactionId': 'nunique'})\n",
    ")\n",
    "ordersByUsers.columns = ['visitorId', 'orders']\n",
    "plt.hist(ordersByUsers['orders']) \n",
    "plt.title('График количества заказов на одного пользователя')\n",
    "plt.xlabel('Количество заказов');\n"
   ]
  },
  {
   "cell_type": "code",
   "execution_count": 26,
   "metadata": {},
   "outputs": [
    {
     "data": {
      "image/png": "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\n",
      "text/plain": [
       "<Figure size 432x288 with 1 Axes>"
      ]
     },
     "metadata": {
      "needs_background": "light"
     },
     "output_type": "display_data"
    }
   ],
   "source": [
    "x_values = pd.Series(range(0, len(ordersByUsers)))\n",
    "plt.scatter(x_values, ordersByUsers['orders'])\n",
    "plt.title('Точечный график количества заказов на одного пользователя')\n",
    "plt.ylabel('Количество заказов');"
   ]
  },
  {
   "cell_type": "markdown",
   "metadata": {},
   "source": [
    "Вывод  \n",
    "Большинство покупателей делали один заказ."
   ]
  },
  {
   "cell_type": "markdown",
   "metadata": {},
   "source": [
    "#####  Посчитайте 95-й и 99-й перцентили количества заказов на пользователя. Выберите границу для определения аномальных пользователей."
   ]
  },
  {
   "cell_type": "code",
   "execution_count": 27,
   "metadata": {},
   "outputs": [
    {
     "name": "stdout",
     "output_type": "stream",
     "text": [
      "[2. 4.]\n"
     ]
    }
   ],
   "source": [
    "print(np.percentile(ordersByUsers['orders'], [95, 99]))"
   ]
  },
  {
   "cell_type": "markdown",
   "metadata": {},
   "source": [
    "Вывод  \n",
    "Больше 2х заказов делают 5% пользователей, больше 4х заказов - 1%."
   ]
  },
  {
   "cell_type": "markdown",
   "metadata": {},
   "source": [
    "#####  Постройте точечный график стоимостей заказов. Сделайте выводы и предположения."
   ]
  },
  {
   "cell_type": "code",
   "execution_count": 28,
   "metadata": {},
   "outputs": [
    {
     "data": {
      "image/png": "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\n",
      "text/plain": [
       "<Figure size 432x288 with 1 Axes>"
      ]
     },
     "metadata": {
      "needs_background": "light"
     },
     "output_type": "display_data"
    },
    {
     "data": {
      "text/plain": [
       "<Figure size 720x288 with 0 Axes>"
      ]
     },
     "metadata": {},
     "output_type": "display_data"
    }
   ],
   "source": [
    "plt.hist(orders['revenue'],bins = 100)\n",
    "plt.figure(figsize=(10,4));"
   ]
  },
  {
   "cell_type": "code",
   "execution_count": 29,
   "metadata": {},
   "outputs": [
    {
     "data": {
      "image/png": "iVBORw0KGgoAAAANSUhEUgAAAawAAAEICAYAAAADRcBUAAAAOXRFWHRTb2Z0d2FyZQBNYXRwbG90bGliIHZlcnNpb24zLjMuNCwgaHR0cHM6Ly9tYXRwbG90bGliLm9yZy8QVMy6AAAACXBIWXMAAAsTAAALEwEAmpwYAAA4uElEQVR4nO29e5wdVZnv/f2l00ADQgfNcEInEdCIAzOSQI/EYZyDqNxUCDMMl9EhKIoeh3fUcdCgvoKXURQdHM6rKKMcgiI30RARXkRgxjPOCRIIVwVp7mkCiYQOYlroJM/5o1aF6kpV7dqX7r2r9/P9fPZn771q1apn1Vq1nrWe9axVMjMcx3Ecp9OZ1m4BHMdxHKcMrrAcx3GcSuAKy3Ecx6kErrAcx3GcSuAKy3Ecx6kErrAcx3GcSuAKqwSSdpR0mqReSX8u6c/bLZMzuUjaV9JRknoknShpj3bL5DjdRssUlqTnE58tkkYT/9/Zquu0AzPbCBwMPA18E3imnfJIOlvS99opQxeyDvgU8FvgZGB9e8VxnO5jeqsSMrOd49+SHgXea2Y/a1X67cbMFrdbBqd9mNk6wEfWjtNOzKzlH+BR4C2psO2BrwFPhs/XgO3DsbOB7yXipv8vBP4LGAHuAg5JHDPg1Vn/gYuBzyeOvTrK8tb//06kWNPyfx64OPzeM6Q5Pfx/ffj/+Zy8nwJsBp5PfN6ekO0fgIeJeurnAtPCsVcBNxON3n4LXAr0J9J9K/AYcA/wfeB64D+AtcA/JOKl83xdSv6teQ7XfAI4OicvPcAngIeA3wG3A3OAH4d8/T6kHefzm+G8Pw7XGQHuS6ZfUr4XgT9KxLkyVa67ApcQjXoeIxr5TEvEfx/w6yDzr4ADgP8vIacF2Z8Hrk+k+R1gDTAc6kBPokz/M5H+x0Iab8m5b18OZfg7YAXwJ4ljVwFPARuAnwP7Zd0b4OVB9v8R/s8Arg15fjb8np0499IQvgH4GTCQuh9DRKPC5cAeqeclvhcPAX9T8Fynn7Wtz0mtvGWktUeQZX2Q7X2p428BtiTKbEt8v4FDgNWp+P8JnBJ+Twt14jGi5+MSYNfU85x8Pr9URqbU9S4mqqdxGr9nfNtSK3+nML6dSNbvfyejXSpRt44met5GQhp/nGqTR8O1hoHTE8fezUvPy8PA+xPHRsI5f0jJ+85abXPGfRpNlhuwCHggXDe+B3vm3XMzm9Q5rE+GzM0H9idq+D8Vjm0hxzwpaQD4CdHDsRvwT8DVkmaGKJZ37gRxLlGBF/F/zGznxOfaxLFjgUGiRvQY4D0hXMAXiSr6HxMphrMBJPURNUj/ABwK/AnRfTwN+O/A2ZJelxZC0puAbcLDsVnADcAnzGx5Tj7+ETgJOArYJci60czeYdGIer8Qrz/k8wOSeokU2k+BPwL+H+BSSfvUId9DwOIQ5xXAa1LH/yeRgtk75P9koocOSX9DdN9ODjIfDTxjZqfH5RHS2D/8PzL8vxjYRNSpWQAcBrw3Q+bdiMphJEPumO8Ac4F+ok7IZxLHrgfmEd2bO4jKNX2NnUO875vZBSF4GvC/gFeGtEeJlHDMF4DdQ7rDRGWHpEOJ6tXxwCyiRvzy1CX3D/fls8AFNE7NvCW4HFhNVN+PA74QZI0R8FiizB6vQ45TwudNRHVkZ8bfK3ipzu5sZh8vKVOaLyfk27/O/E0D/itVJ8uQWbckvQa4DPgwMJOoI/hjSdslzo2f278Fzpe0SwhfC7yd6Hl5N3CepAMAzKw/nPMBxrdrl5Zom+N8fimkcSTj+SbwRTN7WchPTSazoX8n8FkzW2uReeUzwN+FY48DfyapP+O8dwHXmdl1ZrbFzG4EVhI1ovG5b51Y0SMkvZ3oQWrG1PklM1tvZo8TjTJPAjCzITO70cxeCPfnX4gaY4gU/fNmdk049kPgJjN7wMx+TdST+6uUrCLqjX06Q4YZRMrqUjP7boGs7wU+Fa5jZnaXmdWav1tI1ECcY2YvmtnNRKOBk+qQ7xJeqhsnA99NnNcDnAicaWa/M7NHga8m4r+XqCG5Lcg8ZGaPFQksaXei+vRhM/u9ma0FzgvXSfMJ4CKiUUQm4X5tJKorEDXe8bGLgtwvECnW/SXtmjh9e2AZ8Gsz+3zivGfM7Goz22hmvwP+mZfqB2Z2n5m9mLjmqvD9TuAiM7sjXPNM4A2S9swQfTpNzM+WyBsAkuYQzQl/3Mz+YGZ3At8mKuuYPqKeeSO8E/gXM3vYzJ4nyvOJknKnQErKVIqSaW1HA/krqFsnAD8JbcgY8BWie5hlxp4OPBdf38x+YmYPheflP4g6m28sIU6tthlq53N6aAtKMZkKaw+i3l3MYyEMot7IXcAjkkaAJYl4rwT+RtJI/AH+gqi3CHA68FFJG8KxNP+UOO+OjOPnh+NrJF0kaYcc+XuIeqofq5HPWjyR+L31HkjaXdLlkoYlPQd8D3hFiLc7kSkoj7XAf0uFHU9kOrg5I/5niIbgh9aoLHOIRjv1sAfwhJltSYQ9BgzUId864DeS3kikiC5JHHsF0Mu2dSlOvxGZXxnSXJOoK98iGilsRdIrg9zn1kpQ0jeIzER/C9wSwnoknSPpoVDGjybyFPP3wE7An4eRdZzejpK+JemxcO7Pgf6gwOM41xKZVxYQmW8h9dyFBvwZxpfHHZKeB75ONMoq4o7EPfqnxLXL5C1mD2B9ULwx6Try3yiu83uk2oSFqfTT9WM60XOUm14JmcpSJq3diEy4eeS2S1l1i23LeQtRW5O85rJQNj8FvmBmfwjpHSlphaT14V4eRXa5panVNtfK5ylEbf0oUVtQk8lUWE8SZTBmbggj9EKOM7MZZtYPnJOI9wTw3TA0jT87mdk54dxrzWxvM9s1nJvmK/F5RGa4NP8Qju0HHEh0E7NYDDxgZitK5jePOYnfW+8BkUnHgD81s12Iei+xMllHcQX6IyIPxphe4HPAx7OjcyVRxRKRyS6PJ4jmuerhSWCOpGTdmst4M2ot+SDqkf5PYCiMKmN+C4yxbV2K029E5ieAF4BXJOrYLma2Xyre54hGb7/bNonxmNkHgR2JlNuPQvDfEpmB30Jk0twzhCc7Df9F1Lu9jWgUFfNRYB/goFA//jJ9rpm9nUjZ/YTIxAmp507STkTzY8nyOCCYbBYA35A0tyBrBySep68kwsvkLeZJYDdJL0uEpevIAqJObB5PJtsEovmcZPrp+rGJ8c9IIzKVpUxarwF+U5BGbruUU7fS5SyitiZ5zUWh7swFPiTpDZK2B64mKsvdwzWvI7vc0hS2zSXyeSPRSO/vKKcgJ1VhXQZ8StLMMC/xaaJRRC2+B7xD0uGhF7eDpEMkzW6xfBuJGq28e/JJItNCs5whaUYwG3wIuCKEv4xo1LMh2IbPSJyzgqg3/Y5gHz4WeLOkfcLc0NFE80Yxf0dkH787R4b/DD2w9wCflrR3TrxvA5+TNE8Rr5P08hr5u5XoXn5M0bq1Q4B3MH7epJZ8EPUC7yAyzW3FzDYTKdx/lvSyMOr5R16qS98mGlUfGGR+dYiTi5mtCdf7qqRdJE2T9CpJ/z0R7dXAQUQjr0Ik/UlQ2CIy8Y2GQy8jqmPPEDU4X8g4fYWZbSKaJztJ0hsS544CI4rm0c5KXG+apP1CIzUtdc3LgHdLmh8apy8AtwZTaprNRJ2J/lp5zKBM3gAwsyeIFPMXw/P8OuBUQhkqWuN2XJC9ES4DPiJpL0XzgV8Argj3tSGZ6qFE/g4mcjhYViK5ce1SQd26EnibpDcrmkf+aDjvvzLS3By+ZxKZ7LYn6hRvknQk0fxtGXLbZknTJX2AaHrgf+ec/1Fg2MyuKnm9SfUS3AE4n8gLa034vUPO+Wcz3kvwICKPuPXhxv4EmJtzbr1eguuJJkefJPK+6yPbS/DrifPGpZu6/ikkPMoyZIu9BJ8hmnuJPdH2IzLjPA/cGQoz6VHzNqIezT1Ek9nXE5mFfguckZJtFJiTkn8bL8Hw/5+IzHLKkLeHyDHmESJT022M90wbl3YifL9QXhuIPN2ObVS+nHKdQfSwrAv35NOM9xL8AJH30fPAvcCCvLQSYbsSORysDnKvAk5MlKmR8KAjo44njv04pLGBqMF4QwjfGbgm3MvHiOY0iurrcUTeW9sTmXz+PeTpN8D74/tGpGRWEvVWR4h6rq9N3Y+HiOp62rsw6SX4JPD/FjzXuV6CtfKWkdbsIMv6INsHEsdeZFtPvi3AaDh+CLW9BD8d6sa6UFdmFNXZWjJlxE2XVbptyUwL2JfIa/C9qfTSXoLbtEtFdSscO5boedtA9PwlPVAf5SUvwbVE1ou47fl7otHnCNF88eWk2jdy2jVy2mai+nkrcHAi7tZyI7KCPM1L7cB0SngJKkR2JgFJBswzs6Em0zmbqHK/qyWCOU4HIelRM9szI/xnZvaWNojkdAi+NZPjOJ3GmpzwIicMpwuoqbAkzZF0i6RfSbpP0odC+G6SbpT0YPieEcIl6XxJQ5LuVvDnD8cWh/gPSlqcCD9Q0j3hnPODLT73Go7jTF3M7A054SdlhTvdQ02ToKIFprPM7I7g9XI70YThKUSum+dIWkJkI/64pKOIPM+OIrJv/quZHRQmilcSLZq1kM6BZvaspF8Sze3cSuShcr6ZXS/py1nXaPVNcBzHcTqfmiMsM1tjZneE378jmgQeIHJhXRqiLSVSYoTwSywi9m6bBRwO3GjRotlniSaGjwjHdjGzFRZpz0tSaWVdw3Ecx+ky6tr8VtHq+AVEI6HdLXIHhmj/sHhR3gDjF8euDmFF4aszwim4Rlqu04i2KWKnnXY68LWvfW092XIcx+lKRjaO8dRzf2Bs8xbGRp7asmX0dz21z2ofpRVWWM9wNdH2Nc8psUGCmVnwgJswiq5hZhcCFwIMDg7aypUrJ1IUx3GcKYekVbVjtZdSXoJhIdrVRHvP/TAEPx3MefE819oQPsz43Rxmh7Ci8NkZ4UXXcBzHcbqMMl6CItoh+Ndm9i+JQ8sJO2qH72sS4ScHb8GFwIZg1rsBOEzRLg8ziFZT3xCOPSdpYbjWyam0sq7hOI7jdBllTIIHE22lc4+kO0PYJ4j2+7tS0qlEK9uPD8euI/IQHCLaVuTdAGa2XtLniHZLgGjn9vitrR8kWjneR7SDw/UhPO8ajuM4Tpcx5Xa68Dksx3Gc+pF0u5kNtluOInynC8dxHKcSuMJyHMdxKoErLMdxHKcSuMJyHMdxKoErLMdxHKcSuMJyHMdxKoErLMdxHKcSuMJyHMdxKoErLMdxHKcSuMJyHMdxKoErLMdxHKcSuMJyHMdxKoErLMdxHKcSuMJyHMdxKoErLMdxHKcSuMJyHMdxKoErLMdxHKcSuMJyHMdxKkFNhSXpIklrJd2bCLtC0p3h86ikO0P4npJGE8e+mTjnQEn3SBqSdL4khfDdJN0o6cHwPSOEK8QbknS3pANannvHcRynMpQZYV0MHJEMMLMTzGy+mc0HrgZ+mDj8UHzMzD6QCL8AeB8wL3ziNJcAN5nZPOCm8B/gyETc08L5juM4TpdSU2GZ2c+B9VnHwijpeOCyojQkzQJ2MbMVZmbAJcCicPgYYGn4vTQVfolFrAD6QzqO4zhOF9LsHNYbgafN7MFE2F6SVkn6D0lvDGEDwOpEnNUhDGB3M1sTfj8F7J4454mccxzHcZwuY3qT55/E+NHVGmCumT0j6UBgmaT9yiZmZibJ6hVC0mlEZkPmzp1b7+mO4zhOBWh4hCVpOvBXwBVxmJm9YGbPhN+3Aw8BrwGGgdmJ02eHMICnY1Nf+F4bwoeBOTnnjMPMLjSzQTMbnDlzZqNZchzHcTqYZkyCbwHuN7Otpj5JMyX1hN97EzlMPBxMfs9JWhjmvU4GrgmnLQcWh9+LU+EnB2/BhcCGhOnQcRzH6TLKuLVfBvwfYB9JqyWdGg6dyLbOFn8J3B3c3H8AfMDMYoeNDwLfBoaIRl7Xh/BzgLdKepBICZ4Twq8DHg7x/y2c7ziO43Qpipz2pg6Dg4O2cuXKdovhOI5TKSTdbmaD7ZajCN/pwnEcx6kErrAcx3GcSuAKy3Ecx6kErrAcx3GcSuAKy3Ecx6kErrAcx3GcSuAKy3Ecx6kErrAcx3GcSuAKy3Ecx6kErrAcx3GcSuAKy3Ecx6kErrAcx3GcSuAKy3Ecx6kErrAcx3GcSuAKy3Ecx6kErrAcx3GcSuAKy3Ecx6kErrAcx3GcSuAKy3Ecx6kENRWWpIskrZV0byLsbEnDku4Mn6MSx86UNCTpAUmHJ8KPCGFDkpYkwveSdGsIv0LSdiF8+/B/KBzfs2W5dhzHcSpHmRHWxcARGeHnmdn88LkOQNK+wInAfuGcb0jqkdQDfB04EtgXOCnEBfhSSOvVwLPAqSH8VODZEH5eiOc4juN0KTUVlpn9HFhfMr1jgMvN7AUzewQYAl4fPkNm9rCZvQhcDhwjScChwA/C+UuBRYm0lobfPwDeHOI7juM4XUgzc1inS7o7mAxnhLAB4IlEnNUhLC/85cCImW1KhY9LKxzfEOJvg6TTJK2UtHLdunVNZMlxHMfpVBpVWBcArwLmA2uAr7ZKoEYwswvNbNDMBmfOnNlOURzHcZwJoiGFZWZPm9lmM9sC/BuRyQ9gGJiTiDo7hOWFPwP0S5qeCh+XVji+a4jvOI7jdCENKSxJsxJ/jwViD8LlwInBw28vYB7wS+A2YF7wCNyOyDFjuZkZcAtwXDh/MXBNIq3F4fdxwM0hvuM4jtOFTK8VQdJlwCHAKyStBs4CDpE0HzDgUeD9AGZ2n6QrgV8Bm4C/N7PNIZ3TgRuAHuAiM7svXOLjwOWSPg+sAr4Twr8DfFfSEJHTx4nNZtZxHMepLppqg5bBwUFbuXJlu8VwHMepFJJuN7PBdstRhO904TiO41QCV1iO4zhOJXCF5TiO41QCV1iO4zhOJXCF5TiO41QCV1iO4zhOJXCF5TiO41QCV1iO4zhOJXCF5TiO41QCV1iO4zhOJXCF5TiO41QCV1iO4zhOJXCF5TiO41QCV1iO4zhOJXCF5TiO41QCV1iO4zhOJXCF5TiO41QCV1iO4zhOJaipsCRdJGmtpHsTYedKul/S3ZJ+JKk/hO8paVTSneHzzcQ5B0q6R9KQpPMlKYTvJulGSQ+G7xkhXCHeULjOAS3PveM4jlMZyoywLgaOSIXdCPyJmb0O+A1wZuLYQ2Y2P3w+kAi/AHgfMC984jSXADeZ2TzgpvAf4MhE3NPC+Y7jOE6XUlNhmdnPgfWpsJ+a2abwdwUwuygNSbOAXcxshZkZcAmwKBw+Blgafi9NhV9iESuA/pCO4ziO04W0Yg7rPcD1if97SVol6T8kvTGEDQCrE3FWhzCA3c1sTfj9FLB74pwncs4Zh6TTJK2UtHLdunVNZMVxHMfpVJpSWJI+CWwCLg1Ba4C5ZrYA+Efg+5J2KZteGH1ZvXKY2YVmNmhmgzNnzqz3dMdxHKcCTG/0REmnAG8H3hwUDWb2AvBC+H27pIeA1wDDjDcbzg5hAE9LmmVma4LJb20IHwbm5JzjOI7jdBkNjbAkHQF8DDjazDYmwmdK6gm/9yZymHg4mPyek7QweAeeDFwTTlsOLA6/F6fCTw7egguBDQnToeM4jtNl1BxhSboMOAR4haTVwFlEXoHbAzcG7/QVwSPwL4HPShoDtgAfMLPYYeODRB6HfURzXvG81znAlZJOBR4Djg/h1wFHAUPARuDdzWTUcRzHqTYK1rwpw+DgoK1cubLdYjiO41QKSbeb2WC75SjCd7pwHMdxKoErLMdxHKcSuMJyHMdxKoErLMdxHKcSuMJyHMdxKoErLMdxHKcSuMJyHMdxKoErLMdxHKcSuMJyHMdxKoErLMdxHKcSuMJyHMdxKoErLMdxHKcSuMJyHMdxKoErLMdxHKcSuMJyHMdxKoErLMdxHKcSuMJyHMdxKoErLMdxHKcSlFJYki6StFbSvYmw3STdKOnB8D0jhEvS+ZKGJN0t6YDEOYtD/AclLU6EHyjpnnDO+ZJUdA3HcRyn+yg7wroYOCIVtgS4yczmATeF/wBHAvPC5zTgAoiUD3AWcBDweuCshAK6AHhf4rwjalzDcRzH6TJKKSwz+zmwPhV8DLA0/F4KLEqEX2IRK4B+SbOAw4EbzWy9mT0L3AgcEY7tYmYrzMyAS1JpZV3DcRzH6TKamcPa3czWhN9PAbuH3wPAE4l4q0NYUfjqjPCia4xD0mmSVkpauW7dugaz4ziO43QyLXG6CCMja0VajVzDzC40s0EzG5w5c+ZEiuE4juO0iWYU1tPBnEf4XhvCh4E5iXizQ1hR+OyM8KJrOI7jOF1GMwprORB7+i0GrkmEnxy8BRcCG4JZ7wbgMEkzgrPFYcAN4dhzkhYG78CTU2llXcNxHMfpMqaXiSTpMuAQ4BWSVhN5+50DXCnpVOAx4PgQ/TrgKGAI2Ai8G8DM1kv6HHBbiPdZM4sdOT5I5InYB1wfPhRcw3GcKcKyVcOce8MDPDkyyh79fZxx+D4sWjBQ+0Sn61A0NTR1GBwctJUrV7ZbDMdxSrBs1TBn/vAeRsc2bw3r6+3hi3/1p660atBqRS/pdjMbbKGILcd3unAcp22ce8MD45QVwOjYZs694YE2SVQNYkU/PDKKAcMjo5z5w3tYtmq45rlVxhWW4zht48mR0brCnYhuVfSusBzHaRt79PfVFe5EdKuid4XlOE7bOOPwfejr7RkX1tfbwxmH79MmiapBtyp6V1iO47SNRQsG+OJf/SkD/X0IGOjvc4eLEnSroi/l1u44jjNRLFow4AqqTuL71W3LAVxhOY7ja6EqSDcqeldYjtPlpNdCxS7SQNc1iE5n43NYjtPldKuLtFM9XGE5TpfTrS7STvVwheU4XU63ukg71cMVluN0Od3qIu1UD3e6cJwup1tdpJ3q4QrLcZyudJF2qocrLMepCFlrpcBHRk734ArLcSpA1lqpM666CwRjm21rmK+fcqYy7nThOBUga63U2BbbqqxifP2UM5VxheU4FaCeNVG+fsqZqjSssCTtI+nOxOc5SR+WdLak4UT4UYlzzpQ0JOkBSYcnwo8IYUOSliTC95J0awi/QtJ2jWfVcapLPWuifP2UM1VpWGGZ2QNmNt/M5gMHAhuBH4XD58XHzOw6AEn7AicC+wFHAN+Q1COpB/g6cCSwL3BSiAvwpZDWq4FngVMblddxqkzWWqneaaK3R+PCfP2UM5VplUnwzcBDZvZYQZxjgMvN7AUzewQYAl4fPkNm9rCZvQhcDhwjScChwA/C+UuBRS2S13EqRdZ7o879m/0597j9/V1STtfQKi/BE4HLEv9Pl3QysBL4qJk9CwwAKxJxVocwgCdS4QcBLwdGzGxTRvxxSDoNOA1g7ty5zeXEcTqUvLVSrqCcbqHpEVaYVzoauCoEXQC8CpgPrAG+2uw1amFmF5rZoJkNzpw5c6Iv5ziO47SBVoywjgTuMLOnAeJvAEn/Blwb/g4DcxLnzQ5h5IQ/A/RLmh5GWcn4juM4TpfRijmsk0iYAyXNShw7Frg3/F4OnChpe0l7AfOAXwK3AfOCR+B2RObF5WZmwC3AceH8xcA1LZDXcRzHqSBNjbAk7QS8FXh/IvjLkuYDBjwaHzOz+yRdCfwK2AT8vZltDumcDtwA9AAXmdl9Ia2PA5dL+jywCvhOM/I6juM41UXRQGbqMDg4aCtXrmy3GI5TGbL2KHRHju5D0u1mNthuOYrwvQQdp4vJ2qPQ9yN0OhVXWI7TxWTtURjvR+gKqz0sWzXM2cvvY2R0DIAZO/Zy1jv28/LAFZbjdDV5+w76foTtYdmqYc646i7Gtrw0VfPsxjHO+MFdgI96ffNbx+li8vYd9P0I28O5NzwwTlnFjG0234UfV1iO09Vk7VHo+xG2j6KRrY96XWE5TleTtUeh70fYPopGtj7q9Tksx+l68vYodCafMw7fZ5s5LIDeHvmoF1dYjuN0CVVYbxbL416C2bjCchxnylOl9WY+4s3HFZbjOFOWeFQ1nOGw4OvNqocrLMdxOo5WmO/So6osWuF5VwVT41TBFVYCr3iO035aZb7L2sUjTbOed1UyNU4F3K09EFe84ZFRjJcq3rJV/goux5lMiraLqodao6dWrDdrlaxOOVxhBbziOU5n0KrtoopGT61ab+ZbW00ubhIMTETFq5KJsUqyVh2/18Xs0d+X6SRRr/nujMP32WYOq6+3p6ULo1slq1MOV1iBVle8Ktm2qyRr1fF7XZs8RVOv+S6+n63qHGR1NFolazN0UwfIX+AYyPIoaqY3dvA5N2cqwIH+Pn6x5NC605tIqiRr1fF7XY5Oa4SL2gdonVKsV6bkAuO0XPXK4C9wrBCt7o1VybZdJVmrjt/rcnTa4tmiOe5fLDl00mUtctmfyuvLmlZYkh4FfgdsBjaZ2aCk3YArgD2BR4HjzexZSQL+FTgK2AicYmZ3hHQWA58KyX7ezJaG8AOBi4E+4DrgQzZBw8JWPiRVsm1XSdaq4/e6mnRaR6OWy/5U7QC1ykvwTWY2PzGcXALcZGbzgJvCf4AjgXnhcxpwAUBQcGcBBwGvB86SNCOccwHwvsR5R7RI5gmlSq9tqJKsVadT7/WyVcMcfM7N7LXkJxx8zs2+nCNFp703rJZCmqodoIlyaz8GWBp+LwUWJcIvsYgVQL+kWcDhwI1mtt7MngVuBI4Ix3YxsxVhVHVJIq2OpkqvbaiSrFWnE++1r0GsTad1NIoUUid0gCaKVsxhGfBTSQZ8y8wuBHY3szXh+FPA7uH3APBE4tzVIawofHVG+DgknUY0YmPu3LnN5qdldJodvogqyVp1Ou1eF83PdJKc7aTVc9zNkuWdCFN/Z/dWKKy/MLNhSX8E3Cjp/uRBM7OgzCaMoCQvhMhLcCKv5ThTjU6bn+lUOqmj0WkKdLJoWmGZ2XD4XivpR0RzUE9LmmVma4JZb22IPgzMSZw+O4QNA4ekwv89hM/OiO84TgnKuIfnOYIYkRt+NzSEVaSTFOhk0dQclqSdJL0s/g0cBtwLLAcWh2iLgWvC7+XAyYpYCGwIpsMbgMMkzQjOFocBN4Rjz0laGDwMT06k5ThOAWXnprLmZ2J8PsvpJJodYe0O/CjSJUwHvm9m/7+k24ArJZ0KPAYcH+JfR+TSPkTk1v5uADNbL+lzwG0h3mfNbH34/UFecmu/PnwcZ0LphIWrzcpQdm4qaV7y90Y5nYzvdOE4KVq968lEy5Cn2PZa8hOynm4Bj5zztszrNnKOMzWowk4Xvlu746TohJ37y8pQZPZrZO1Qp603cpwkrrCcpplqi047wWuurAxFiq2RtUOdtt7IcZL4XoI16IS5jE5mKu4+3gnbJ5WVoUixNeL63K3u0k41cIVVwFRsjFvNVFx0OtmvjGjmtRW1FFsjrs/d6C7dTrxTXB43CRYwmXMZVTWrdYL5rNVM5vZJeXNQQCkZ3IRXbXxbrPrwEVYBk9UYV3kkN5Hms3b2PCdrlNHsaysm4yWFnV4Hq8xUtFBMJK6wCpisuYwqV9qJMp9VWYnXQys6Ra1Srt1yzzuJqWihmEhcYRUwWXMZVa60EzVJ34lKPD36eNNrZ3LL/euayncnOHjEdMI977YRXieVfxVwhVXAZHlMTXSlnehGYCLMZ52mxLNGH99b8fjW442ORsp0iiarEW/3PW/FCK9qCm+yHXyqjiusGkzGXMZEVtq8RmDlY+ubHh1MJO3seWY1erXe8AqNjUZqdYom00zX7t5+syO8Kpo0fRlBffjWTB3CRPUMDz7n5sxGSDBuC57J3nqoFu3aHinvurWUVUyrtzDKK7+B/j5+seTQll0H2r8lVbPbQuXdq/6+Xu4867DmBZwE2jlCrMLWTD7CqsFkVaCJGsnlmXPSDUO754fSxHKcvfw+RkbHANihd+JXYeT18nskNpfo3PXv2NtSeSbTTNfu3n6zI7y8ezIyOsayVcMdU7fzmMwRYla7VgVcYRXQiSaGehVoXiOQRSc6ebywacvW389uHGt6TqOWo0TePdhsVmqk1erGsZFGvJlOVjsXDReZxpt5rxfQUZ2xPCbL6SWvXZvWt8tuLbvIBOELhwvohE1QkzSyyDBrYaly4naaZ1Kz9z/rfn1vxeOF9y/vHsQLd+OFvHmY0dKFn/UuDK7yQtS8BdtA6fd65dGJnbE0kzWazrUi7LxbZ2t0XGHlsmzVcG5vrV2Vv5EGPKsReOfCuZXYHaHZB7geR4mYIgWxaMEAv1hyKI+c8zYGCpR7Kzs19e66UaaOdPKuKsl7HC+cLlvvFy0YYEaOSbbTOmNZTNZO+XnPj3qmb9fSC00AbhLMIO6l5lFPBWrlHFijDXiWmWfwlbt1vGfSRM1pFMUrO4+TZb5q5NplqMdMV6uOfGrZPVy64vGtc5idYOauRT31/qx37FfK43ai5qabSbeWt3CrZM57rmzzphfrTmyScYWVQVHPvJ6RSKvnwIoa8HorcyducJo133T17cMNu/uXnb9LK8Cie5OUcde+Xl7YtJktGb4Y7XK/r1VHksoqptMcbtLU03Ep0+GYqLnpZtMtkr2VMucpxs3Pr++coXYO7taeQZ57LcC7Fs4tvX6p1S7JeW7Hf33gQGbD3klu6rUoylvZ+11G4aWp5z5lyTgN2JIR910L5/L5RX9aM71Ge8yN1IVzb3ggV4F38huFW+1uP1FLBSZyCcJEtCXpunfsAbM73q294TksSXMk3SLpV5Luk/ShEH62pGFJd4bPUYlzzpQ0JOkBSYcnwo8IYUOSliTC95J0awi/QtKk2Fjzesf9fb1cfftw6QntVk+i5s1n3HL/uo5yDmmEvHmKW+5ft82cRhZZzgZX3z7MXx84MO5+vWvh3IZ3Yc+SMUtZAdxy/7rCtLLk/cgVd7JnyXmlovuVN+dVVO86eY6nzDxePfNyE+XcMJFOE61KO75PH7niTgDOO2F+qU2WO4VmTIKbgI+a2R2SXgbcLunGcOw8M/tKMrKkfYETgf2APYCfSXpNOPx14K3AauA2ScvN7FfAl0Jal0v6JnAqcEETMpcib8gsUZfb6UTsHJBlroorX5oqeEbF5Mk6PDJayk28lsJrBWWXB0Dte58lbz3zSrVe3Jg+b9mqYablrCUT4z3sOm17o1rylDWXxenkWU+aVdoTuVNIXtrTpNLLKDpxmU69NDzCMrM1ZnZH+P074NdAUa6PAS43sxfM7BFgCHh9+AyZ2cNm9iJwOXCMJAGHAj8I5y8FFjUqbz3k9ehGNo5lxs9rPCbrXUWt9C5qlwdZkaxl3LIn2iV42arhQnf2NLXufS25ao2Q6ynzuKHKU1bvXDh3m62gOsUtvow8ZT0j43SyaMVzOZHPe1baEK0PLFs+nbZMpxFa4tYuaU9gAXBrCDpd0t2SLpI0I4QNAE8kTlsdwvLCXw6MmNmmVHhTlG2Qs9xr61UM9bokN0qrHpR2NlZ5DySUe6gm2iW4qGfe2zNelZW592XkKlJq9ZR5nhNRj8R5J8wfN9c2WY1a2eewjDxlOitFjlStei4n8nmP0+7Rtt2msuXT7s2NW0HTXoKSdgauBj5sZs9JugD4HJGF43PAV4H3NHudGjKcBpwGMHfu3Nx4zQ6JG9mkdjK88Vq1pU5e43D28vsmLQ8fbtC82coNhLNMUEXXP/e4/eu+97Xc4qFYqdVT5nmybzHbJv5kNGr1PIdl5CljistdewQt3ZNxIp/3RQsGmjL/t3tz41bQlMKS1EukrC41sx8CmNnTieP/Blwb/g4DcxKnzw5h5IQ/A/RLmh5GWcn44zCzC4ELIfISzJO32a1P2r3XWhGteFAmcy+2ZauGx+0TOGPHXs56x34MNPhQtaps8hrT/h17eTbDJDzQ39fQvU/KOzwymrkZcS1lW/a69TRUk9Go1fMc5q4ZIvKcO+PwfUp1VqZCYw3N5WMqvMqkYbf2MMe0FFhvZh9OhM8yszXh90eAg8zsREn7Ad8nmrPaA7gJmEfUyfkN8GYihXQb8Ldmdp+kq4CrE04Xd5vZN4rkKnJrb3Y36KlOnussROajLWYNKYIsd/MrfvkEY6kFTL094oQ/m5Prlg3NKaQyzgRF92Aid7ifSEeHetzC0wuLi+KWkTkrzkeuuLP0c5gle5KydaPdO9G3imbzUVRmVditvRmF9RfA/wbu4SXv3k8AJwHziZ7tR4H3JxTYJ4nMg5uITIjXh/CjgK8BPcBFZvbPIXxvIieM3YBVwLvM7IUiuYoUVtnXD0yWl1S7vLHydmpOjniKaHbtUrrhT9Pf14sEIxvHxslX74OaXuT7+xc3MbbZCs8vWoOXlH2gjga66D7F8YdHRrfuCD+QyHMz67TqfTtylrKKnTLSa8rKNJx5cXbonZY7Ws0yzyXvUR7p8sir48n6kK5jVVFcRXWmmTxMaYXVqRQprGWrhjnjqru26dnHDBTsrtCKHn5aljIPfKsVWtZ1e6cJxLjGvBZlFywWjViKSN+LonSyHtZaPfPkucl8lJG3R+Krx++fqazqUapZCmLcdaaJzYm6mqUs00pZina1T3cKeqeJnXeYnttAL1s1nDvyySrrooWs8Qsv8+5jf18vL2zaktmJGShQrrU6E8nnNK/seyQW7j2DOx7f0JLRVj0dg1Y9z2lzerN5iHGF1QZq7XSx4LM/zezdxeT1/rMeslqNQBG1Vq7XavzqqfzJuHlrceqlrBm1ViNTRLKh3HPJTwrj1qPgkoho8WTRSKzM9YqumaXgihREGeJ6Wmu0Wuv8Mgomq6yLyrXWa1iS9zxr/i4rvVo7dcTEmxI30kkq0wmrNWrPkv2vDxzg2rvWlFIw9a45ayQPeVRBYU3pvQSzCj9vLVVMXtXLMpWNbbGtyq9ej8Na3k+13HnLelmlK3i9yirvxYVlJnmXrRpuvEXlpXsRr4EqSib2ZozLu+wld+3rHXd/RkbH6J0mZuQ4WSSvl3YSKHqXVrp8itzky2Cp70bPj+tOPd6KRYuQe6Sao9o9Eo4qZToW8b0+4/B9Ci0k0Jw3Y61z089SGfP56Njm3FF0ug6V8Z6s9QaCsvmv6gscp+zrRT617B4+csWd22x9s+N22Wt9WkE961VqrRsqUmh5yize2mfPJT9hwWd/yqeW3cNHr7yrZgOSx0B/H189fv/C9T5562li82szg7n4XpRt3EdGx7aWdxnydi8Z22LsuN10vnbC/Ny1YbBtGRUp8bJrh9pB/EblLLJ2wchbhNzX21OqQzQ8Mrq1rtSzo/6iBQPsvENxH3uP/r6GPf9qnVfmdTVZFN2RWmvF6q03ZfKe1Tb6CxzbSN6u1Ab8/sXN2yz0rEVvj3Lfs5Mm3kqoFrUWfhYptLxKm8zvsxvH+N6Kx0s1IL3TlLv4tWgxZNFC48/8+L7CnnCS/r7ewnvRqsY9HjmV3b2kaLEmbFtGRYuf4zTzzm03ZXbBgOJFyHE9KcPwyChnXHUXObd2G+L7VWQhietMrXLIO/dNr525Tecr2SFrxMxYizJrxcrWmzIu6kU79lfhBY5Tbg7r1fvub3bMFwsb6v6+Xnbafnqm/bx3WmTqSLa1vdPECa/f1t06j7KTn0X26qI5rLLefGWIG6VG3o9V5HVZj3zpOY2051OZuYta9EicdNCcbbzdivKw0/bT6/IwhKjcPnrlXZn1r1aaE0nagaMW8bq4dP6K5q6+dsJ8IN/hoVGS820jG1/k9y9um7aA/h17t84nx84PRfUmuVQjy9mqEWekeig775qcl8qbw8orrzRFJtg1Sz/MC2serK83P8lMOYXVt8drbPeTzyuMk5xETiuNjS9uypy76O+LRlhxQ7xj7zTGtlhhZW7W1TRPodVyHKmX9INb9nUezThUZF0/TzFkvTIj7fCSV25J8ia5y3hN1uNgU9ZDEWCn7XrY+OJmduidxuhY3t7vEfGi6nQnK/7f39fLc38Yy3w/V1EnLe9a6cn7ImUM4730mu1UxZ2WMrJOU6SQ8zoUeQ47yXaglc/UQLCC1HJw+toJ88fVoU8tu4fvrXh8m3jpV9U0421Y9Mw+edHpL7649pHtSyXUJqac08WWEgo4OaxO7xawV07lTj98hjjhz2ZnVrCYWs4QtSpd3k4GtRxH6iV+qIZHRsflJy1/Wua83R8avX5WA5d8ZUYz3lNxWmlHiawdMrKU39gW47nRTZQhTrNMo/37Fzdz8Kt2447HNxTG65HG9bLz7kVR/T376P22lmPeFlgxafNU0dxVTHx/f7HkUM694YGmFFZZZUWIk+44Jsu61u4py1YNt0xZ9Uhby6XW6O4jV9y51Zlk0YKB3FfSfG/F41x715qWrBvLk0vgL3BsB9vPmmezFn8t93gtc10964bKutCme6v1rNfJapxaYSKrh3ikWGYkUrQwNM00kTkayEJQ1zqXWot/85Re2Xtbxuzb6Bq0PAQ1F7zW2qkjXgRcS7ZG1qfF13jknLe1bPTdDLEseaPoeMTcqqUeWdcvk2pcl+pZ5tDMurGsjt1O2/Vw/1dOeGTzxg1715XgJNNVCkuC846fX1jItRYXj0uPaO6lVs8+bYLMM6uUUWxNeIk3TNzA15rrKdqVIitNaD4veYutyzaucQNejxkvJm8BcUyttWOtYsfeaWzf28PIxrGac2NxnQU44wd3ZcbLWihftpziOly0Jq2e0VMZ8pZepOd+6l1r1wrK5rOR9WONrLnKW3QMsObiD2154amhiXOjbgFTziRYhBmZvfFkT3XRggE+8+P7So0QjOiBjl/jnlfZ4pesrXxsfaEJMW2GKXrJ32RS5Jk4MjrGTttP57yUPX7lY+sLd3HYo4EHNIuk6afWzhFpDLaWR9Zbm2uRtb4qSV5D2mo2jm1hY5j/qmWGi+vsGYfvw+acBvuvD4zyUq8CT3qp5Y7IMTbbtvU4r2Ev0+CfdFD2/pNJj7n42a41D5ekXuehLAy2rukrqg/DI6Ps2DuN3h6VVqRZZtuiXTeyHEvGIXW813hXjbAAHs0xEcST+7U8iyaSdI+pE8wq9ewyEHsqAYWj1GQPvtZcShniUUMzO0c0Q15Pd7JGWPVSNGKG+nr7sdNIer++tHPHjr3T+MOmLaVNwPDSZshFz2S8D2jZjXjrUcLxUpZm57eyPI/zmKbI7FvPNfO2lEtTS/m7l2AbqKWwoL65k8lkp+16+OdjXzJvtdobsBZxDzD9XfaBgNpzWGkzWisadRGZe9tVpsm5kjIep1nnT6botUZ+9Zhr09uFtdKlva93Gr/+3JFAY7uUZ20SW0RWOUy0a3sWeXPGRbSiDlVBYXWVSTCmE5UVRB5jsYkJ4Pk/lPNKa5b0Qxk/2EnvwatvH87dEy3J6Njmwocs/dLAVpjNDJraUaNZ9ujvy9xWJzKB1caYXKVV637XY65NmmQb3QkiP+0tLPjsT8etL8raTujgc27eZmRV75ZkAnbcrmebNV5jW6L5thlhjddEOWgkGR4Z5aqVj9d1Lzu0SWs5XTnC6nTaPWLII2sD4EZoh+PIRNKq/EzUfYnXuZVtbGfs2MvbXjeLK257YlJHFnnkrYErGtG12opSZif4qlOFEZYrLMfpAvLWIuXRO02lt9ZqB62aX6qX/r5efv/CGDXWeFeSKiisKWcSnFZ2czLH6SLqdSTqZGUFk6+oYlq1JZrTGB3vxlgvZXa6cBzHcarHlFNYjuM4ztTEFZbjOI5TCTpeYUk6QtIDkoYkLWm3PI7jOE576GiFJakH+DpwJLAvcJKkfdsrleM4jtMOOlphAa8HhszsYTN7EbgcOKbNMjmO4zhtoNPd2geAJxL/VwMHpSNJOg04DYCe6axZ+uHJkK0tbN64gZ4dd223GBPGVM7fVM4beP6qztgzq9stQk06XWGVwswuBC4EkLTyhTUPDrZZpAlD0spNG9Z6/irIVM4beP6qjqSV7ZahFp1uEhwG5iT+zw5hjuM4TpfR6QrrNmCepL0kbQecCCxvs0yO4zhOG+hok6CZbZJ0OnAD0ANcZGb31TjtwomXrK14/qrLVM4beP6qTsfnb8ptfus4juNMTTrdJOg4juM4gCssx3EcpyJMKYVV9W2cJM2RdIukX0m6T9KHQvhukm6U9GD4nhHCJen8kN+7JR3Q3hyUQ1KPpFWSrg3/95J0a8jHFcHBBknbh/9D4fiebRW8BJL6Jf1A0v2Sfi3pDVOp/CR9JNTNeyVdJmmHKpefpIskrZV0byKs7vKStDjEf1DS4nbkJU1O3s4NdfNuST+S1J84dmbI2wOSDk+Ed067amZT4kPklPEQsDewHXAXsG+75aozD7OAA8LvlwG/IdqS6svAkhC+BPhS+H0UcD3Ry2oXAre2Ow8l8/mPwPeBa8P/K4ETw+9vAv8j/P4g8M3w+0TginbLXiJvS4H3ht/bAf1TpfyIFvI/AvQlyu2UKpcf8JfAAcC9ibC6ygvYDXg4fM8Iv2d0aN4OA6aH319K5G3f0GZuD+wV2tKeTmtX215hWlg4bwBuSPw/Eziz3XI1madrgLcCDwCzQtgs4IHw+1vASYn4W+N16odoLd1NwKHAteHh/23iIdpajkTeoW8Iv6eHeGp3Hgrytmto0JUKnxLlx0s7z+wWyuNa4PCqlx+wZ6pRr6u8gJOAbyXCx8XrpLyljh0LXBp+j2sv47LrtHZ1KpkEs7ZxGmiTLE0TzCcLgFuB3c1sTTj0FLB7+F3FPH8N+BgQv2T85cCImW0K/5N52Jq/cHxDiN+p7AWsA/5XMHl+W9JOTJHyM7Nh4CvA48AaovK4nalTfjH1llelyjHBe4hGjFCRvE0lhTVlkLQzcDXwYTN7LnnMom5OJdciSHo7sNbMbm+3LBPEdCITzAVmtgD4PZFJaSsVL78ZRJtP7wXsAewEHNFWoSaYKpdXEZI+CWwCLm23LPUwlRTWlNjGSVIvkbK61Mx+GIKfljQrHJ8FrA3hVcvzwcDRkh4l2nn/UOBfgX5J8SL2ZB625i8c3xV4ZjIFrpPVwGozuzX8/wGRApsq5fcW4BEzW2dmY8APicp0qpRfTL3lValylHQK8HbgnUEhQ0XyNpUUVuW3cZIk4DvAr83sXxKHlgOx59FiormtOPzk4L20ENiQMGV0HGZ2ppnNNrM9icrnZjN7J3ALcFyIls5fnO/jQvyO7e2a2VPAE5L2CUFvBn7FFCk/IlPgQkk7hroa529KlF+CesvrBuAwSTPCKPSwENZxSDqCyCR/tJltTBxaDpwYPDv3AuYBv6TT2tV2Twq28kPkxfMbIq+WT7Zbngbk/wsi88PdwJ3hcxSR3f8m4EHgZ8BuIb6IXnD5EHAPMNjuPNSR10N4yUtwb6KHYwi4Ctg+hO8Q/g+F43u3W+4S+ZoPrAxluIzIa2zKlB/wGeB+4F7gu0ReZZUtP+Ayovm4MaIR8qmNlBfRfNBQ+Ly73fkqyNsQ0ZxU3L58MxH/kyFvDwBHJsI7pl31rZkcx3GcSjCVTIKO4zjOFMYVluM4jlMJXGE5juM4lcAVluM4jlMJXGE5juM4lcAVluM4jlMJXGE5juM4leD/ArE0Azvx3okWAAAAAElFTkSuQmCC\n",
      "text/plain": [
       "<Figure size 432x288 with 1 Axes>"
      ]
     },
     "metadata": {
      "needs_background": "light"
     },
     "output_type": "display_data"
    }
   ],
   "source": [
    "x_values = pd.Series(range(0, len(orders['revenue'])))\n",
    "plt.scatter(x_values, orders['revenue']) \n",
    "plt.axis([0, 1200, 0, 200000])\n",
    "plt.title('Точечный график стоимостей заказов на одного пользователя');"
   ]
  },
  {
   "cell_type": "markdown",
   "metadata": {},
   "source": [
    "Вывод  \n",
    "Большинство покупок не дороже 25000 рублей\n"
   ]
  },
  {
   "cell_type": "markdown",
   "metadata": {},
   "source": [
    "#####  Посчитайте 95-й и 99-й перцентили стоимости заказов. Выберите границу для определения аномальных заказов."
   ]
  },
  {
   "cell_type": "code",
   "execution_count": 30,
   "metadata": {},
   "outputs": [
    {
     "name": "stdout",
     "output_type": "stream",
     "text": [
      "[28000.  58233.2]\n"
     ]
    }
   ],
   "source": [
    "print(np.percentile(orders['revenue'], [95, 99]))"
   ]
  },
  {
   "cell_type": "markdown",
   "metadata": {},
   "source": [
    "Вывод  \n",
    "Больше 28000 рублей заказ делают 5% пользователей, больше 58233 рублей заказов - 1%"
   ]
  },
  {
   "cell_type": "markdown",
   "metadata": {},
   "source": [
    "Вывод  \n",
    "За аномалии будем принимать:    \n",
    "Количество заказов больше 2 - 95 перцентиль   \n",
    "Стоимость заказов выше 28000 рублей - 95 перцентиль"
   ]
  },
  {
   "cell_type": "markdown",
   "metadata": {},
   "source": [
    "<div class=\"alert alert-warning\">\n",
    "<h2> Комментарий ревьюера 🤓<a class=\"tocSkip\"> </h2>\n",
    "Расчеты верные, а вот по выводам так и не ясно, что же мы будем принимать за аномалии. Можешь детализировать этот момент и указать принятые границы аномалий.\n",
    "</div>"
   ]
  },
  {
   "cell_type": "markdown",
   "metadata": {},
   "source": [
    "<div class=\"alert alert-info\"> <b>Комментарий студента:</b> Добавила вывод по аномалиям</div>"
   ]
  },
  {
   "cell_type": "markdown",
   "metadata": {},
   "source": [
    "<div class=\"alert alert-warning\">\n",
    "<h2> Комментарий ревьюера 🤓 v_2 <a class=\"tocSkip\"> </h2>\n",
    "Использовать 95% перцентиль для отсечения выбросов - возможный вариант. Но в данном случае лучше использовать 99% перцентиль. Мы фильтруем по двум параметрам. А значит при последовательном отсечении 5%, мы отбросим больше 5%, а это не очень хорошо."
   ]
  },
  {
   "cell_type": "markdown",
   "metadata": {},
   "source": [
    "#####  Посчитайте статистическую значимость различий в среднем количестве заказов на посетителя между группами по «сырым» данным. Сделайте выводы и предположения."
   ]
  },
  {
   "cell_type": "markdown",
   "metadata": {},
   "source": [
    "H0: различий в конверсии между группами нет.\n",
    "\n",
    "H1: различия в конверсии между группами есть."
   ]
  },
  {
   "cell_type": "code",
   "execution_count": 31,
   "metadata": {},
   "outputs": [
    {
     "name": "stdout",
     "output_type": "stream",
     "text": [
      "         date  ordersPerDateA  revenuePerDateA  ordersPerDateB  \\\n",
      "0  2019-08-01              24           148579              21   \n",
      "1  2019-08-02              20            93822              24   \n",
      "2  2019-08-03              24           112473              16   \n",
      "3  2019-08-04              16            70825              17   \n",
      "4  2019-08-05              25           124218              23   \n",
      "\n",
      "   revenuePerDateB  ordersCummulativeA  revenueCummulativeA  \\\n",
      "0           101217                  24               148579   \n",
      "1           165531                  44               242401   \n",
      "2           114248                  68               354874   \n",
      "3           108571                  84               425699   \n",
      "4            92428                 109               549917   \n",
      "\n",
      "   ordersCummulativeB  revenueCummulativeB  visitorsPerDateA  \\\n",
      "0                  21               101217               719   \n",
      "1                  45               266748               619   \n",
      "2                  61               380996               507   \n",
      "3                  78               489567               717   \n",
      "4                 101               581995               756   \n",
      "\n",
      "   visitorsPerDateB  visitorsCummulativeA  visitorsCummulativeB  \n",
      "0               713                   719                   713  \n",
      "1               581                  1338                  1294  \n",
      "2               509                  1845                  1803  \n",
      "3               770                  2562                  2573  \n",
      "4               707                  3318                  3280  \n"
     ]
    }
   ],
   "source": [
    "\n",
    "visitorsADaily = visitors[visitors['group'] == 'A'][['date', 'visitors']]\n",
    "visitorsADaily.columns = ['date', 'visitorsPerDateA']\n",
    "\n",
    "visitorsACummulative = visitorsADaily.apply(\n",
    "    lambda x: visitorsADaily[visitorsADaily['date'] <= x['date']].agg(\n",
    "        {'date': 'max', 'visitorsPerDateA': 'sum'}\n",
    "    ),\n",
    "    axis=1,\n",
    ")\n",
    "visitorsACummulative.columns = ['date', 'visitorsCummulativeA']\n",
    "\n",
    "visitorsBDaily = visitors[visitors['group'] == 'B'][['date', 'visitors']]\n",
    "visitorsBDaily.columns = ['date', 'visitorsPerDateB']\n",
    "\n",
    "visitorsBCummulative = visitorsBDaily.apply(\n",
    "    lambda x: visitorsBDaily[visitorsBDaily['date'] <= x['date']].agg(\n",
    "        {'date': 'max', 'visitorsPerDateB': 'sum'}\n",
    "    ),\n",
    "    axis=1,\n",
    ")\n",
    "visitorsBCummulative.columns = ['date', 'visitorsCummulativeB']\n",
    "\n",
    "ordersADaily = (\n",
    "    orders[orders['group'] == 'A'][['date', 'transactionId', 'visitorId', 'revenue']]\n",
    "    .groupby('date', as_index=False)\n",
    "    .agg({'transactionId': pd.Series.nunique, 'revenue': 'sum'})\n",
    ")\n",
    "ordersADaily.columns = ['date', 'ordersPerDateA', 'revenuePerDateA']\n",
    "\n",
    "ordersACummulative = ordersADaily.apply(\n",
    "    lambda x: ordersADaily[ordersADaily['date'] <= x['date']].agg(\n",
    "        {'date': 'max', 'ordersPerDateA': 'sum', 'revenuePerDateA': 'sum'}\n",
    "    ),\n",
    "    axis=1,\n",
    ").sort_values(by=['date'])\n",
    "ordersACummulative.columns = [\n",
    "    'date',\n",
    "    'ordersCummulativeA',\n",
    "    'revenueCummulativeA',\n",
    "]\n",
    "\n",
    "ordersBDaily = (\n",
    "    orders[orders['group'] == 'B'][['date', 'transactionId', 'visitorId', 'revenue']]\n",
    "    .groupby('date', as_index=False)\n",
    "    .agg({'transactionId': pd.Series.nunique, 'revenue': 'sum'})\n",
    ")\n",
    "ordersBDaily.columns = ['date', 'ordersPerDateB', 'revenuePerDateB']\n",
    "\n",
    "ordersBCummulative = ordersBDaily.apply(\n",
    "    lambda x: ordersBDaily[ordersBDaily['date'] <= x['date']].agg(\n",
    "        {'date': 'max', 'ordersPerDateB': 'sum', 'revenuePerDateB': 'sum'}\n",
    "    ),\n",
    "    axis=1,\n",
    ").sort_values(by=['date'])\n",
    "ordersBCummulative.columns = [\n",
    "    'date',\n",
    "    'ordersCummulativeB',\n",
    "    'revenueCummulativeB',\n",
    "]\n",
    "\n",
    "data = (\n",
    "    ordersADaily.merge(\n",
    "        ordersBDaily, left_on='date', right_on='date', how='left'\n",
    "    )\n",
    "    .merge(ordersACummulative, left_on='date', right_on='date', how='left')\n",
    "    .merge(ordersBCummulative, left_on='date', right_on='date', how='left')\n",
    "    .merge(visitorsADaily, left_on='date', right_on='date', how='left')\n",
    "    .merge(visitorsBDaily, left_on='date', right_on='date', how='left')\n",
    "    .merge(visitorsACummulative, left_on='date', right_on='date', how='left')\n",
    "    .merge(visitorsBCummulative, left_on='date', right_on='date', how='left')\n",
    ")\n",
    "\n",
    "print(data.head(5))"
   ]
  },
  {
   "cell_type": "markdown",
   "metadata": {},
   "source": [
    "Имеем следующие данные:  \n",
    "date — дата;  \n",
    "ordersPerDateA — количество заказов в выбранную дату в группе A;     \n",
    "revenuePerDateA— суммарная выручка в выбранную дату в группе A;     \n",
    "ordersPerDateB — количество заказов в выбранную дату в группе B;     \n",
    "revenuePerDateB — суммарная выручка в выбранную дату в группе B;    \n",
    "ordersCummulativeA — суммарное число заказов до выбранной даты включительно в группе A;  \n",
    "revenueCummulativeA — суммарная выручка до выбранной даты включительно в группе A;  \n",
    "ordersCummulativeB — суммарное количество заказов до выбранной даты включительно в группе B;   \n",
    "revenueCummulativeB — суммарная выручка до выбранной даты включительно в группе B;   \n",
    "visitorsPerDateA — количество пользователей в выбранную дату в группе A;   \n",
    "visitorsPerDateB — количество пользователей в выбранную дату в группе B;   \n",
    "visitorsCummulativeA — количество пользователей до выбранной даты включительно в группе A;     \n",
    "visitorsCummulativeB — количество пользователей до выбранной даты включительно в группе B  "
   ]
  },
  {
   "cell_type": "markdown",
   "metadata": {},
   "source": [
    "<div class=\"alert alert-warning\">\n",
    "<h2> Комментарий ревьюера 🤓<a class=\"tocSkip\"> </h2>\n",
    "\n",
    "Нужно ли нам собирать всю таблицу, если мы используем не все показатели в расчетах?)"
   ]
  },
  {
   "cell_type": "code",
   "execution_count": 32,
   "metadata": {},
   "outputs": [
    {
     "name": "stdout",
     "output_type": "stream",
     "text": [
      "\n",
      "P-value: 0.017\n",
      "\n",
      "Относительный прирост конверсии группы B по отношению к группе A: 0.138\n"
     ]
    }
   ],
   "source": [
    "ordersByUsersA = (\n",
    "    orders[orders['group'] == 'A']\n",
    "    .groupby('visitorId', as_index=False)\n",
    "    .agg({'transactionId': pd.Series.nunique})\n",
    ")\n",
    "ordersByUsersA.columns = ['visitorId', 'orders']\n",
    "\n",
    "ordersByUsersB = (\n",
    "    orders[orders['group'] == 'B']\n",
    "    .groupby('visitorId', as_index=False)\n",
    "    .agg({'transactionId': pd.Series.nunique})\n",
    ")\n",
    "ordersByUsersB.columns = ['visitorId', 'orders']\n",
    "\n",
    "sampleA = pd.concat(\n",
    "    [\n",
    "        ordersByUsersA['orders'],\n",
    "        pd.Series(\n",
    "            0,\n",
    "            index=np.arange(\n",
    "                data['visitorsPerDateA'].sum() - len(ordersByUsersA['orders'])\n",
    "            ),\n",
    "            name='orders',\n",
    "        ),\n",
    "    ],\n",
    "    axis=0,\n",
    ")\n",
    "\n",
    "sampleB = pd.concat(\n",
    "    [\n",
    "        ordersByUsersB['orders'],\n",
    "        pd.Series(\n",
    "            0,\n",
    "            index=np.arange(\n",
    "                data['visitorsPerDateB'].sum() - len(ordersByUsersB['orders'])\n",
    "            ),\n",
    "            name='orders',\n",
    "        ),\n",
    "    ],\n",
    "    axis=0,\n",
    ")\n",
    "\n",
    "print(\"\\nP-value: {0:.3f}\".format(stats.mannwhitneyu(sampleA, sampleB)[1]))\n",
    "\n",
    "#alpha = 0.05\n",
    "#results = stats.mannwhitneyu(sampleA, sampleB)\n",
    "#print('P-value: {}'.format(results.pvalue))\n",
    "print(\"\\nОтносительный прирост конверсии группы B по отношению к группе A: {0:.3f}\".format(sampleB.mean() / sampleA.mean() - 1))"
   ]
  },
  {
   "cell_type": "markdown",
   "metadata": {},
   "source": [
    "<div class=\"alert alert-warning\">\n",
    "<h2> Комментарий ревьюера 🤓<a class=\"tocSkip\"> </h2>\n",
    "     \n",
    "Чтобы не возникало путаницы, следует подписать значения, какое из них - p-value, а какое - различие в средних. \n",
    "</div>"
   ]
  },
  {
   "cell_type": "markdown",
   "metadata": {},
   "source": [
    "<div class=\"alert alert-info\"> <b>Комментарий студента:</b> Подписала </div>"
   ]
  },
  {
   "cell_type": "markdown",
   "metadata": {},
   "source": [
    "<div class=\"alert alert-success\">\n",
    "<h2> Комментарий ревьюера 😊 v_2 <a class=\"tocSkip\"> </h2>\n",
    "\n",
    "👍"
   ]
  },
  {
   "cell_type": "markdown",
   "metadata": {},
   "source": [
    "Вывод  \n",
    "P-value = 0.017, что меньше 0.05, статистичсекая значимость между группами есть.  \n",
    "Относительный прирост среднего группы B к конверсии группы A равен 13.8%."
   ]
  },
  {
   "cell_type": "markdown",
   "metadata": {},
   "source": [
    "<div class=\"alert alert-success\">\n",
    "<h2> Комментарий ревьюера 😊<a class=\"tocSkip\"> </h2>\n",
    "\n",
    "Тест провеен верно)"
   ]
  },
  {
   "cell_type": "markdown",
   "metadata": {},
   "source": [
    "<div class=\"alert alert-block alert-danger\">\n",
    "<h2> Комментарий ревьюера ⛔️<a class=\"tocSkip\"></h2>\n",
    "   <s>\n",
    "Отсутствуют статистические гипотезы по которым проводится проверка. Давай добавим нулевую и альтернативную гипотезы к каждому тесту)\n",
    "</div>"
   ]
  },
  {
   "cell_type": "markdown",
   "metadata": {},
   "source": [
    "<div class=\"alert alert-info\"> <b>Комментарий студента:</b> Написала </div>"
   ]
  },
  {
   "cell_type": "markdown",
   "metadata": {},
   "source": [
    "<div class=\"alert alert-success\">\n",
    "<h2> Комментарий ревьюера 😊 v_2 <a class=\"tocSkip\"> </h2>\n",
    "\n",
    "Гипотезы составлены верно)"
   ]
  },
  {
   "cell_type": "markdown",
   "metadata": {},
   "source": [
    "#####  Посчитайте статистическую значимость различий в среднем чеке заказа между группами по «сырым» данным. Сделайте выводы и предположения."
   ]
  },
  {
   "cell_type": "markdown",
   "metadata": {},
   "source": [
    "H0: различий в в среднем чеке между группами нет.\n",
    "\n",
    "H1: различия в в среднем чеке между группами есть."
   ]
  },
  {
   "cell_type": "code",
   "execution_count": 33,
   "metadata": {},
   "outputs": [
    {
     "name": "stdout",
     "output_type": "stream",
     "text": [
      "0.729\n",
      "0.259\n"
     ]
    }
   ],
   "source": [
    "print('{0:.3f}'.format(stats.mannwhitneyu(orders[orders['group']=='A']['revenue'], orders[orders['group']=='B']['revenue'])[1]))\n",
    "print('{0:.3f}'.format(orders[orders['group']=='B']['revenue'].mean()/orders[orders['group']=='A']['revenue'].mean()-1))"
   ]
  },
  {
   "cell_type": "markdown",
   "metadata": {},
   "source": [
    "Вывод  \n",
    "P-value больше 0.05 — статистически значимых отличий в среднем чеке между группами нет.   \n",
    "Относительное различие среднего чека между сегментами 25%, следовательно наблюдаемые различия не являются значимыми при таком уровне значимости, а следовательно были получены случайно. \n"
   ]
  },
  {
   "cell_type": "markdown",
   "metadata": {},
   "source": [
    "<div class=\"alert alert-warning\">\n",
    "<h2> Комментарий ревьюера 🤓<a class=\"tocSkip\"> </h2>\n",
    "    \n",
    "Стоит дополнить, что поскольку относительное различие среднего чека между сегментами составляет ~26%, наблюдаемые различия не являются значимыми при таком уровне значимости, а следовательно были получены случайно. </div>"
   ]
  },
  {
   "cell_type": "markdown",
   "metadata": {},
   "source": [
    "<div class=\"alert alert-info\"> <b>Комментарий студента:</b> Дописала </div>"
   ]
  },
  {
   "cell_type": "markdown",
   "metadata": {},
   "source": [
    "##### Посчитайте статистическую значимость различий в среднем количестве заказов на посетителя между группами по «очищенным» данным. Сделайте выводы и предположения."
   ]
  },
  {
   "cell_type": "markdown",
   "metadata": {},
   "source": [
    "передельное количество заказов: 2\n",
    "предельная сумма заказов: 25000"
   ]
  },
  {
   "cell_type": "code",
   "execution_count": 34,
   "metadata": {},
   "outputs": [
    {
     "name": "stdout",
     "output_type": "stream",
     "text": [
      "1099    148427295\n",
      "18      199603092\n",
      "928     204675465\n",
      "23      237748145\n",
      "37      249864742\n",
      "Name: visitorId, dtype: int64\n",
      "74\n"
     ]
    }
   ],
   "source": [
    "usersWithManyOrders = pd.concat(\n",
    "    [\n",
    "        ordersByUsersA[ordersByUsersA['orders'] > 2]['visitorId'],\n",
    "        ordersByUsersB[ordersByUsersB['orders'] > 2]['visitorId'],\n",
    "    ],\n",
    "    axis=0,\n",
    ")\n",
    "usersWithExpensiveOrders = orders[orders['revenue'] > 28000]['visitorId']\n",
    "abnormalUsers = (\n",
    "    pd.concat([usersWithManyOrders, usersWithExpensiveOrders], axis=0)\n",
    "    .drop_duplicates()\n",
    "    .sort_values()\n",
    ")\n",
    "print(abnormalUsers.head(5))\n",
    "print(abnormalUsers.shape[0])"
   ]
  },
  {
   "cell_type": "markdown",
   "metadata": {},
   "source": [
    "<div class=\"alert alert-warning\">\n",
    "<h2> Комментарий ревьюера 🤓<a class=\"tocSkip\"> </h2>\n",
    "\n",
    "Чтобы в дальнейшем мы могли использовать анализ повторно, будет лучше отказаться от  ручного ввода обозначаемых границ, и заменить на соответствующие коду обозначения (перцентили))\n"
   ]
  },
  {
   "cell_type": "markdown",
   "metadata": {},
   "source": [
    "<div class=\"alert alert-info\"> <b>Комментарий студента:</b> Так? (ниже) </div>"
   ]
  },
  {
   "cell_type": "markdown",
   "metadata": {},
   "source": [
    "<div class=\"alert alert-success\">\n",
    "<h2> Комментарий ревьюера 😊 v_2 <a class=\"tocSkip\"> </h2>\n",
    "\n",
    "Можно использовать 'np.percentile(ordersByUsers['orders'], 99)'"
   ]
  },
  {
   "cell_type": "code",
   "execution_count": 35,
   "metadata": {},
   "outputs": [
    {
     "name": "stdout",
     "output_type": "stream",
     "text": [
      "1099    148427295\n",
      "18      199603092\n",
      "928     204675465\n",
      "23      237748145\n",
      "37      249864742\n",
      "Name: visitorId, dtype: int64\n",
      "74\n"
     ]
    }
   ],
   "source": [
    "limit_orders = 2\n",
    "limit_revenue = 28000\n",
    "usersWithManyOrders = pd.concat(\n",
    "    [\n",
    "        ordersByUsersA[ordersByUsersA['orders'] > limit_orders]['visitorId'],\n",
    "        ordersByUsersB[ordersByUsersB['orders'] > limit_orders]['visitorId'],\n",
    "    ],\n",
    "    axis=0,\n",
    ")\n",
    "usersWithExpensiveOrders = orders[orders['revenue'] > limit_revenue]['visitorId']\n",
    "abnormalUsers = (\n",
    "    pd.concat([usersWithManyOrders, usersWithExpensiveOrders], axis=0)\n",
    "    .drop_duplicates()\n",
    "    .sort_values()\n",
    ")\n",
    "print(abnormalUsers.head(5))\n",
    "print(abnormalUsers.shape[0])"
   ]
  },
  {
   "cell_type": "markdown",
   "metadata": {},
   "source": [
    "Количество аномальных пользователей 74"
   ]
  },
  {
   "cell_type": "code",
   "execution_count": 36,
   "metadata": {},
   "outputs": [
    {
     "name": "stdout",
     "output_type": "stream",
     "text": [
      "0.013\n",
      "0.173\n"
     ]
    }
   ],
   "source": [
    "\n",
    "sampleAFiltered = pd.concat(\n",
    "    [\n",
    "        ordersByUsersA[\n",
    "            np.logical_not(ordersByUsersA['visitorId'].isin(abnormalUsers))\n",
    "        ]['orders'],\n",
    "        pd.Series(\n",
    "            0,\n",
    "            index=np.arange(\n",
    "                data['visitorsPerDateA'].sum() - len(ordersByUsersA['orders'])\n",
    "            ),\n",
    "            name='orders',\n",
    "        ),\n",
    "    ],\n",
    "    axis=0,\n",
    ")\n",
    "\n",
    "sampleBFiltered = pd.concat(\n",
    "    [\n",
    "        ordersByUsersB[\n",
    "            np.logical_not(ordersByUsersB['visitorId'].isin(abnormalUsers))\n",
    "        ]['orders'],\n",
    "        pd.Series(\n",
    "            0,\n",
    "            index=np.arange(\n",
    "                data['visitorsPerDateB'].sum() - len(ordersByUsersB['orders'])\n",
    "            ),\n",
    "            name='orders',\n",
    "        ),\n",
    "    ],\n",
    "    axis=0,\n",
    ")\n",
    "print('{0:.3f}'.format(stats.mannwhitneyu(sampleAFiltered, sampleBFiltered)[1]))\n",
    "print('{0:.3f}'.format(sampleBFiltered.mean()/sampleAFiltered.mean()-1))"
   ]
  },
  {
   "cell_type": "markdown",
   "metadata": {},
   "source": [
    "Вывод  \n",
    "Относительный прирост конверсии группы B по отношению к группе A после очистки данных 15%  \n",
    "P-value: 0.024  \n",
    "По очищенным данным статистическая значимость достигнута"
   ]
  },
  {
   "cell_type": "markdown",
   "metadata": {},
   "source": []
  },
  {
   "cell_type": "markdown",
   "metadata": {},
   "source": [
    "#####  Посчитайте статистическую значимость различий в среднем чеке заказа между группами по «очищенным» данным. Сделайте выводы и предположения."
   ]
  },
  {
   "cell_type": "code",
   "execution_count": 37,
   "metadata": {},
   "outputs": [
    {
     "name": "stdout",
     "output_type": "stream",
     "text": [
      "0.738\n",
      "-0.020\n"
     ]
    }
   ],
   "source": [
    "print(\n",
    "    '{0:.3f}'.format(\n",
    "        stats.mannwhitneyu(\n",
    "            orders[\n",
    "                np.logical_and(\n",
    "                    orders['group'] == 'A',\n",
    "                    np.logical_not(orders['visitorId'].isin(abnormalUsers)),\n",
    "                )\n",
    "            ]['revenue'],\n",
    "            orders[\n",
    "                np.logical_and(\n",
    "                    orders['group'] == 'B',\n",
    "                    np.logical_not(orders['visitorId'].isin(abnormalUsers)),\n",
    "                )\n",
    "            ]['revenue'],\n",
    "        )[1]\n",
    "    )\n",
    ")\n",
    "\n",
    "print(\n",
    "    \"{0:.3f}\".format(\n",
    "        orders[\n",
    "            np.logical_and(\n",
    "                orders['group'] == 'B',\n",
    "                np.logical_not(orders['visitorId'].isin(abnormalUsers)),\n",
    "            )\n",
    "        ]['revenue'].mean()\n",
    "        / orders[\n",
    "            np.logical_and(\n",
    "                orders['group'] == 'A',\n",
    "                np.logical_not(orders['visitorId'].isin(abnormalUsers)),\n",
    "            )\n",
    "        ]['revenue'].mean()\n",
    "        - 1\n",
    "    )\n",
    ")"
   ]
  },
  {
   "cell_type": "markdown",
   "metadata": {},
   "source": [
    "Вывод  \n",
    "P-value: 0.484  \n",
    "Относительное изменение среднего чека группы B по отношению к группе A 7%  \n",
    "Нет статистически значимого различия "
   ]
  },
  {
   "cell_type": "markdown",
   "metadata": {},
   "source": [
    "<div class=\"alert alert-success\">\n",
    "<h2> Комментарий ревьюера 😊<a class=\"tocSkip\"> </h2>\n",
    "\n",
    "Статистический анализ проведен верно) Но нужно добавить гипотезы к тестам"
   ]
  },
  {
   "cell_type": "markdown",
   "metadata": {},
   "source": [
    "#####  Примите решение по результатам теста и объясните его. Варианты решений:\n",
    "1. Остановить тест, зафиксировать победу одной из групп.\n",
    "2. Остановить тест, зафиксировать отсутствие различий между группами.\n",
    "3. Продолжить тест."
   ]
  },
  {
   "cell_type": "markdown",
   "metadata": {},
   "source": [
    "Вывод:  \n",
    "Есть статистически значимое различие по среднему количеству заказов между группами и по «сырым», и по данным после фильтрации аномалий;  \n",
    "Нет статистически значимого различия по среднему чеку между группами ни по «сырым», ни по данным после фильтрации аномалий;  \n",
    "График различия среднего количества заказов между группами сообщает, что результаты группы B лучше группы A;  \n",
    "График различия среднего чека говорит о том, что результаты группы B стабильно лучше и сейчас почти на 7% лучше;  \n",
    "Необходимо остановить тест с победой группы В\n"
   ]
  },
  {
   "cell_type": "markdown",
   "metadata": {},
   "source": [
    "<div class=\"alert alert-success\">\n",
    "<h2> Комментарий ревьюера 😊<a class=\"tocSkip\"> </h2>\n",
    "\n",
    "Верно)"
   ]
  },
  {
   "cell_type": "markdown",
   "metadata": {},
   "source": [
    "<div class=\"alert alert-info\"> <b>Комментарий студента:</b> Спасибо большое за проверку!</div>"
   ]
  },
  {
   "cell_type": "markdown",
   "metadata": {},
   "source": [
    "<div style=\"border:solid Purple 2px; padding: 40px\">\n",
    "\n",
    "<h2> Общий комментарий ревьюера 😊 v_2<a class=\"tocSkip\"> </h2>\n",
    "    <br/>\n",
    "Анастасия, спасибо за проект! Успехов в дальнейшем обучении!)\n",
    "    "
   ]
  },
  {
   "cell_type": "markdown",
   "metadata": {},
   "source": [
    "<div style=\"border:solid Purple 2px; padding: 40px\">\n",
    "\n",
    "<h2> Общий комментарий ревьюера 😊<a class=\"tocSkip\"> </h2>\n",
    "    <br/>\n",
    "Анастасия, замечательная работа по проекту, отлично справилась расчетами. Осталось совсем немного)\n",
    "    \n",
    "Необходимо доработать:\n",
    "    \n",
    "* Добавить комментарий к графику и оформить\n",
    "* Остальные комментарии ты найдешь в работе\n",
    "    \n",
    " \n",
    "**Желаю удачи и жду твой проект на повторное ревью! Если вдруг у тебя возникнут вопросы, то я с радостью отвечу на них.    😊**\n",
    "    \n",
    "\n",
    "<br>   \n",
    "             \n",
    "**Дополнительные материалы:**\n",
    " \n",
    "[Вебинары под эгидой Практикума](https://vk.com/yandex.praktikum?w=wall-176471180_2144), \n",
    "    \n",
    "[Лекции Анатолия Карпова 1](https://www.youtube.com/watch?v=jnFVmtaeSA0&list=WL&index=19&t=2s) [2](https://www.youtube.com/watch?v=gljfGAkgX_o&list=WL&index=4)\n",
    "    \n",
    "Материалы [gopractice](https://gopractice.ru/summary/)\n",
    "\n",
    "Лекцию Карта статистических методов [Смотреть видео](https://www.youtube.com/watch?v=-zps6hm0nX8&t=1269s)\n",
    "        \n",
    "</div>"
   ]
  },
  {
   "cell_type": "code",
   "execution_count": null,
   "metadata": {},
   "outputs": [],
   "source": []
  }
 ],
 "metadata": {
  "ExecuteTimeLog": [
   {
    "duration": 1537,
    "start_time": "2024-05-20T11:09:15.288Z"
   },
   {
    "duration": 220,
    "start_time": "2024-05-20T11:09:16.827Z"
   },
   {
    "duration": 19,
    "start_time": "2024-05-20T11:09:19.482Z"
   },
   {
    "duration": 9,
    "start_time": "2024-05-20T11:09:20.655Z"
   },
   {
    "duration": 9,
    "start_time": "2024-05-20T11:09:21.755Z"
   },
   {
    "duration": 12,
    "start_time": "2024-05-20T11:10:40.108Z"
   },
   {
    "duration": 11,
    "start_time": "2024-05-20T11:10:41.198Z"
   },
   {
    "duration": 11,
    "start_time": "2024-05-20T11:10:41.825Z"
   },
   {
    "duration": 108,
    "start_time": "2024-05-20T11:15:48.488Z"
   },
   {
    "duration": 7,
    "start_time": "2024-05-20T11:16:06.376Z"
   },
   {
    "duration": 12,
    "start_time": "2024-05-20T11:16:07.469Z"
   },
   {
    "duration": 10,
    "start_time": "2024-05-20T11:20:49.907Z"
   },
   {
    "duration": 9,
    "start_time": "2024-05-20T11:24:04.450Z"
   },
   {
    "duration": 16,
    "start_time": "2024-05-20T11:24:35.014Z"
   },
   {
    "duration": 11,
    "start_time": "2024-05-20T11:25:59.744Z"
   },
   {
    "duration": 12,
    "start_time": "2024-05-20T11:26:42.558Z"
   },
   {
    "duration": 12,
    "start_time": "2024-05-20T11:26:47.199Z"
   },
   {
    "duration": 19,
    "start_time": "2024-05-20T11:26:48.793Z"
   },
   {
    "duration": 4,
    "start_time": "2024-05-20T11:27:10.993Z"
   },
   {
    "duration": 75,
    "start_time": "2024-05-20T11:27:11.773Z"
   },
   {
    "duration": 9,
    "start_time": "2024-05-20T11:27:12.167Z"
   },
   {
    "duration": 10,
    "start_time": "2024-05-20T11:27:12.337Z"
   },
   {
    "duration": 8,
    "start_time": "2024-05-20T11:27:12.515Z"
   },
   {
    "duration": 10,
    "start_time": "2024-05-20T11:27:12.887Z"
   },
   {
    "duration": 12,
    "start_time": "2024-05-20T11:27:13.074Z"
   },
   {
    "duration": 16,
    "start_time": "2024-05-20T11:27:13.266Z"
   },
   {
    "duration": 6,
    "start_time": "2024-05-20T11:27:14.147Z"
   },
   {
    "duration": 7,
    "start_time": "2024-05-20T11:27:14.435Z"
   },
   {
    "duration": 20,
    "start_time": "2024-05-20T11:27:14.890Z"
   },
   {
    "duration": 33,
    "start_time": "2024-05-20T12:08:02.417Z"
   },
   {
    "duration": 306,
    "start_time": "2024-05-20T12:16:28.325Z"
   },
   {
    "duration": 65,
    "start_time": "2024-05-20T12:18:37.288Z"
   },
   {
    "duration": 276,
    "start_time": "2024-05-20T12:18:47.745Z"
   },
   {
    "duration": 278,
    "start_time": "2024-05-20T12:20:00.654Z"
   },
   {
    "duration": 282,
    "start_time": "2024-05-20T12:22:33.981Z"
   },
   {
    "duration": 267,
    "start_time": "2024-05-20T12:23:41.783Z"
   },
   {
    "duration": 294,
    "start_time": "2024-05-20T12:32:19.303Z"
   },
   {
    "duration": 183,
    "start_time": "2024-05-20T12:34:19.076Z"
   },
   {
    "duration": 348,
    "start_time": "2024-05-20T12:34:39.252Z"
   },
   {
    "duration": 216,
    "start_time": "2024-05-20T12:35:10.298Z"
   },
   {
    "duration": 211,
    "start_time": "2024-05-20T12:37:26.881Z"
   },
   {
    "duration": 330,
    "start_time": "2024-05-20T12:38:08.021Z"
   },
   {
    "duration": 347,
    "start_time": "2024-05-20T12:38:22.869Z"
   },
   {
    "duration": 12,
    "start_time": "2024-05-20T12:44:16.817Z"
   },
   {
    "duration": 12,
    "start_time": "2024-05-20T12:44:56.042Z"
   },
   {
    "duration": 216,
    "start_time": "2024-05-20T12:45:56.868Z"
   },
   {
    "duration": 150,
    "start_time": "2024-05-20T12:47:48.087Z"
   },
   {
    "duration": 120,
    "start_time": "2024-05-20T12:48:22.582Z"
   },
   {
    "duration": 125,
    "start_time": "2024-05-20T12:48:42.169Z"
   },
   {
    "duration": 4,
    "start_time": "2024-05-20T12:49:47.524Z"
   },
   {
    "duration": 4,
    "start_time": "2024-05-20T12:51:26.800Z"
   },
   {
    "duration": 134,
    "start_time": "2024-05-20T12:54:10.233Z"
   },
   {
    "duration": 133,
    "start_time": "2024-05-20T12:54:21.260Z"
   },
   {
    "duration": 9,
    "start_time": "2024-05-20T12:54:52.402Z"
   },
   {
    "duration": 131,
    "start_time": "2024-05-20T12:55:05.206Z"
   },
   {
    "duration": 242,
    "start_time": "2024-05-20T12:55:34.701Z"
   },
   {
    "duration": 120,
    "start_time": "2024-05-20T12:58:13.692Z"
   },
   {
    "duration": 116,
    "start_time": "2024-05-20T12:58:57.995Z"
   },
   {
    "duration": 234,
    "start_time": "2024-05-20T12:59:09.521Z"
   },
   {
    "duration": 148,
    "start_time": "2024-05-20T13:00:13.735Z"
   },
   {
    "duration": 154,
    "start_time": "2024-05-20T13:01:04.919Z"
   },
   {
    "duration": 129,
    "start_time": "2024-05-20T13:01:31.895Z"
   },
   {
    "duration": 211,
    "start_time": "2024-05-20T13:02:12.934Z"
   },
   {
    "duration": 294,
    "start_time": "2024-05-20T13:02:50.623Z"
   },
   {
    "duration": 191,
    "start_time": "2024-05-20T13:03:13.462Z"
   },
   {
    "duration": 203,
    "start_time": "2024-05-20T13:03:36.494Z"
   },
   {
    "duration": 360,
    "start_time": "2024-05-20T13:04:21.159Z"
   },
   {
    "duration": 72,
    "start_time": "2024-05-20T13:04:57.693Z"
   },
   {
    "duration": 128,
    "start_time": "2024-05-20T13:05:11.846Z"
   },
   {
    "duration": 244,
    "start_time": "2024-05-20T13:05:34.829Z"
   },
   {
    "duration": 348,
    "start_time": "2024-05-20T13:05:55.045Z"
   },
   {
    "duration": 9,
    "start_time": "2024-05-20T13:06:40.689Z"
   },
   {
    "duration": 4,
    "start_time": "2024-05-20T13:06:49.587Z"
   },
   {
    "duration": 319,
    "start_time": "2024-05-20T13:49:09.497Z"
   },
   {
    "duration": 103,
    "start_time": "2024-05-20T13:49:41.925Z"
   },
   {
    "duration": 111,
    "start_time": "2024-05-20T13:51:32.574Z"
   },
   {
    "duration": 119,
    "start_time": "2024-05-20T13:51:57.012Z"
   },
   {
    "duration": 224,
    "start_time": "2024-05-20T13:52:26.073Z"
   },
   {
    "duration": 155,
    "start_time": "2024-05-20T13:55:10.385Z"
   },
   {
    "duration": 146,
    "start_time": "2024-05-20T13:57:03.321Z"
   },
   {
    "duration": 148,
    "start_time": "2024-05-20T13:58:47.846Z"
   },
   {
    "duration": 152,
    "start_time": "2024-05-20T13:59:16.238Z"
   },
   {
    "duration": 3,
    "start_time": "2024-05-20T14:01:14.650Z"
   },
   {
    "duration": 4,
    "start_time": "2024-05-20T14:01:17.053Z"
   },
   {
    "duration": 74,
    "start_time": "2024-05-20T14:01:18.295Z"
   },
   {
    "duration": 8,
    "start_time": "2024-05-20T14:01:18.629Z"
   },
   {
    "duration": 10,
    "start_time": "2024-05-20T14:01:18.806Z"
   },
   {
    "duration": 8,
    "start_time": "2024-05-20T14:01:18.954Z"
   },
   {
    "duration": 13,
    "start_time": "2024-05-20T14:01:19.255Z"
   },
   {
    "duration": 11,
    "start_time": "2024-05-20T14:01:19.426Z"
   },
   {
    "duration": 10,
    "start_time": "2024-05-20T14:01:19.580Z"
   },
   {
    "duration": 6,
    "start_time": "2024-05-20T14:01:19.935Z"
   },
   {
    "duration": 9,
    "start_time": "2024-05-20T14:01:20.105Z"
   },
   {
    "duration": 15,
    "start_time": "2024-05-20T14:01:20.459Z"
   },
   {
    "duration": 12,
    "start_time": "2024-05-20T14:01:20.646Z"
   },
   {
    "duration": 274,
    "start_time": "2024-05-20T14:01:21.372Z"
   },
   {
    "duration": 214,
    "start_time": "2024-05-20T14:01:21.649Z"
   },
   {
    "duration": 204,
    "start_time": "2024-05-20T14:01:21.921Z"
   },
   {
    "duration": 311,
    "start_time": "2024-05-20T14:01:22.277Z"
   },
   {
    "duration": 214,
    "start_time": "2024-05-20T14:01:23.067Z"
   },
   {
    "duration": 389,
    "start_time": "2024-05-20T14:01:23.443Z"
   },
   {
    "duration": 128,
    "start_time": "2024-05-20T14:01:23.848Z"
   },
   {
    "duration": 145,
    "start_time": "2024-05-20T14:01:24.038Z"
   },
   {
    "duration": 4,
    "start_time": "2024-05-20T14:01:24.658Z"
   },
   {
    "duration": 240,
    "start_time": "2024-05-20T14:01:25.603Z"
   },
   {
    "duration": 166,
    "start_time": "2024-05-20T14:01:25.845Z"
   },
   {
    "duration": 5,
    "start_time": "2024-05-20T14:01:26.461Z"
   },
   {
    "duration": 219,
    "start_time": "2024-05-20T14:01:27.551Z"
   },
   {
    "duration": 160,
    "start_time": "2024-05-20T14:01:27.783Z"
   },
   {
    "duration": 186,
    "start_time": "2024-05-20T14:01:50.011Z"
   },
   {
    "duration": 163,
    "start_time": "2024-05-20T14:02:11.430Z"
   },
   {
    "duration": 171,
    "start_time": "2024-05-20T14:03:47.076Z"
   },
   {
    "duration": 10,
    "start_time": "2024-05-20T14:07:35.240Z"
   },
   {
    "duration": 10,
    "start_time": "2024-05-20T14:13:05.630Z"
   },
   {
    "duration": 11,
    "start_time": "2024-05-20T14:14:47.837Z"
   },
   {
    "duration": 51,
    "start_time": "2024-05-20T14:16:34.273Z"
   },
   {
    "duration": 36,
    "start_time": "2024-05-20T14:17:24.480Z"
   },
   {
    "duration": 10,
    "start_time": "2024-05-20T14:21:43.191Z"
   },
   {
    "duration": 32,
    "start_time": "2024-05-20T14:23:22.964Z"
   },
   {
    "duration": 1282,
    "start_time": "2024-05-20T18:42:51.494Z"
   },
   {
    "duration": 218,
    "start_time": "2024-05-20T18:42:52.777Z"
   },
   {
    "duration": 11,
    "start_time": "2024-05-20T18:42:55.836Z"
   },
   {
    "duration": 8,
    "start_time": "2024-05-20T18:43:00.444Z"
   },
   {
    "duration": 7,
    "start_time": "2024-05-20T18:43:01.921Z"
   },
   {
    "duration": 10,
    "start_time": "2024-05-20T18:43:07.521Z"
   },
   {
    "duration": 9,
    "start_time": "2024-05-20T18:43:08.002Z"
   },
   {
    "duration": 9,
    "start_time": "2024-05-20T18:43:08.447Z"
   },
   {
    "duration": 6,
    "start_time": "2024-05-20T18:43:09.181Z"
   },
   {
    "duration": 7,
    "start_time": "2024-05-20T18:43:09.571Z"
   },
   {
    "duration": 13,
    "start_time": "2024-05-20T18:43:10.111Z"
   },
   {
    "duration": 10,
    "start_time": "2024-05-20T18:43:10.378Z"
   },
   {
    "duration": 89,
    "start_time": "2024-05-20T18:45:07.306Z"
   },
   {
    "duration": 3,
    "start_time": "2024-05-20T18:45:17.359Z"
   },
   {
    "duration": 74,
    "start_time": "2024-05-20T18:45:17.761Z"
   },
   {
    "duration": 8,
    "start_time": "2024-05-20T18:45:18.185Z"
   },
   {
    "duration": 8,
    "start_time": "2024-05-20T18:45:18.376Z"
   },
   {
    "duration": 7,
    "start_time": "2024-05-20T18:45:18.585Z"
   },
   {
    "duration": 9,
    "start_time": "2024-05-20T18:45:18.919Z"
   },
   {
    "duration": 9,
    "start_time": "2024-05-20T18:45:19.125Z"
   },
   {
    "duration": 9,
    "start_time": "2024-05-20T18:45:19.311Z"
   },
   {
    "duration": 6,
    "start_time": "2024-05-20T18:45:19.741Z"
   },
   {
    "duration": 7,
    "start_time": "2024-05-20T18:45:19.931Z"
   },
   {
    "duration": 12,
    "start_time": "2024-05-20T18:45:20.350Z"
   },
   {
    "duration": 10,
    "start_time": "2024-05-20T18:45:20.581Z"
   },
   {
    "duration": 247,
    "start_time": "2024-05-20T18:45:21.474Z"
   },
   {
    "duration": 235,
    "start_time": "2024-05-20T18:45:21.742Z"
   },
   {
    "duration": 172,
    "start_time": "2024-05-20T18:45:22.251Z"
   },
   {
    "duration": 311,
    "start_time": "2024-05-20T18:45:23.612Z"
   },
   {
    "duration": 160,
    "start_time": "2024-05-20T18:46:09.896Z"
   },
   {
    "duration": 160,
    "start_time": "2024-05-20T18:46:10.880Z"
   },
   {
    "duration": 269,
    "start_time": "2024-05-20T18:46:12.307Z"
   },
   {
    "duration": 174,
    "start_time": "2024-05-20T18:46:13.854Z"
   },
   {
    "duration": 318,
    "start_time": "2024-05-20T18:46:15.390Z"
   },
   {
    "duration": 160,
    "start_time": "2024-05-20T18:46:21.849Z"
   },
   {
    "duration": 104,
    "start_time": "2024-05-20T18:46:23.613Z"
   },
   {
    "duration": 4,
    "start_time": "2024-05-20T18:46:31.792Z"
   },
   {
    "duration": 196,
    "start_time": "2024-05-20T18:46:36.013Z"
   },
   {
    "duration": 125,
    "start_time": "2024-05-20T18:46:46.892Z"
   },
   {
    "duration": 120,
    "start_time": "2024-05-20T18:46:54.858Z"
   },
   {
    "duration": 4,
    "start_time": "2024-05-20T18:47:02.915Z"
   },
   {
    "duration": 9,
    "start_time": "2024-05-20T18:48:13.800Z"
   },
   {
    "duration": 10,
    "start_time": "2024-05-20T18:48:52.084Z"
   },
   {
    "duration": 3,
    "start_time": "2024-05-20T19:03:08.365Z"
   },
   {
    "duration": 74,
    "start_time": "2024-05-20T19:03:08.853Z"
   },
   {
    "duration": 8,
    "start_time": "2024-05-20T19:03:09.202Z"
   },
   {
    "duration": 7,
    "start_time": "2024-05-20T19:03:09.357Z"
   },
   {
    "duration": 6,
    "start_time": "2024-05-20T19:03:09.529Z"
   },
   {
    "duration": 9,
    "start_time": "2024-05-20T19:03:09.867Z"
   },
   {
    "duration": 10,
    "start_time": "2024-05-20T19:03:10.057Z"
   },
   {
    "duration": 10,
    "start_time": "2024-05-20T19:03:10.211Z"
   },
   {
    "duration": 6,
    "start_time": "2024-05-20T19:03:10.553Z"
   },
   {
    "duration": 9,
    "start_time": "2024-05-20T19:03:10.721Z"
   },
   {
    "duration": 12,
    "start_time": "2024-05-20T19:03:11.063Z"
   },
   {
    "duration": 9,
    "start_time": "2024-05-20T19:03:11.226Z"
   },
   {
    "duration": 242,
    "start_time": "2024-05-20T19:03:11.978Z"
   },
   {
    "duration": 164,
    "start_time": "2024-05-20T19:03:12.221Z"
   },
   {
    "duration": 161,
    "start_time": "2024-05-20T19:03:12.553Z"
   },
   {
    "duration": 270,
    "start_time": "2024-05-20T19:03:12.909Z"
   },
   {
    "duration": 172,
    "start_time": "2024-05-20T19:03:13.310Z"
   },
   {
    "duration": 322,
    "start_time": "2024-05-20T19:03:13.691Z"
   },
   {
    "duration": 195,
    "start_time": "2024-05-20T19:03:14.098Z"
   },
   {
    "duration": 121,
    "start_time": "2024-05-20T19:03:14.294Z"
   },
   {
    "duration": 4,
    "start_time": "2024-05-20T19:03:14.865Z"
   },
   {
    "duration": 201,
    "start_time": "2024-05-20T19:03:15.429Z"
   },
   {
    "duration": 128,
    "start_time": "2024-05-20T19:03:15.632Z"
   },
   {
    "duration": 4,
    "start_time": "2024-05-20T19:03:16.263Z"
   },
   {
    "duration": 184,
    "start_time": "2024-05-20T19:03:16.864Z"
   },
   {
    "duration": 168,
    "start_time": "2024-05-20T19:03:17.097Z"
   },
   {
    "duration": 8,
    "start_time": "2024-05-20T19:03:18.571Z"
   },
   {
    "duration": 8,
    "start_time": "2024-05-20T19:03:20.844Z"
   },
   {
    "duration": 27,
    "start_time": "2024-05-20T19:03:23.971Z"
   },
   {
    "duration": 29,
    "start_time": "2024-05-20T19:04:41.816Z"
   },
   {
    "duration": 12,
    "start_time": "2024-05-20T19:07:07.736Z"
   },
   {
    "duration": 1121,
    "start_time": "2024-05-20T19:25:48.574Z"
   },
   {
    "duration": 75,
    "start_time": "2024-05-20T19:25:49.697Z"
   },
   {
    "duration": 10,
    "start_time": "2024-05-20T19:25:49.773Z"
   },
   {
    "duration": 8,
    "start_time": "2024-05-20T19:25:49.786Z"
   },
   {
    "duration": 7,
    "start_time": "2024-05-20T19:25:49.795Z"
   },
   {
    "duration": 12,
    "start_time": "2024-05-20T19:25:49.803Z"
   },
   {
    "duration": 9,
    "start_time": "2024-05-20T19:25:49.816Z"
   },
   {
    "duration": 9,
    "start_time": "2024-05-20T19:25:49.826Z"
   },
   {
    "duration": 9,
    "start_time": "2024-05-20T19:25:49.836Z"
   },
   {
    "duration": 7,
    "start_time": "2024-05-20T19:25:49.848Z"
   },
   {
    "duration": 15,
    "start_time": "2024-05-20T19:25:49.857Z"
   },
   {
    "duration": 10,
    "start_time": "2024-05-20T19:25:49.899Z"
   },
   {
    "duration": 262,
    "start_time": "2024-05-20T19:25:49.911Z"
   },
   {
    "duration": 294,
    "start_time": "2024-05-20T19:25:50.175Z"
   },
   {
    "duration": 233,
    "start_time": "2024-05-20T19:25:50.471Z"
   },
   {
    "duration": 272,
    "start_time": "2024-05-20T19:25:50.705Z"
   },
   {
    "duration": 180,
    "start_time": "2024-05-20T19:25:50.979Z"
   },
   {
    "duration": 350,
    "start_time": "2024-05-20T19:25:51.161Z"
   },
   {
    "duration": 109,
    "start_time": "2024-05-20T19:25:51.512Z"
   },
   {
    "duration": 120,
    "start_time": "2024-05-20T19:25:51.624Z"
   },
   {
    "duration": 4,
    "start_time": "2024-05-20T19:25:51.746Z"
   },
   {
    "duration": 288,
    "start_time": "2024-05-20T19:25:51.751Z"
   },
   {
    "duration": 133,
    "start_time": "2024-05-20T19:25:52.041Z"
   },
   {
    "duration": 4,
    "start_time": "2024-05-20T19:25:52.175Z"
   },
   {
    "duration": 220,
    "start_time": "2024-05-20T19:25:52.180Z"
   },
   {
    "duration": 157,
    "start_time": "2024-05-20T19:25:52.401Z"
   },
   {
    "duration": 9,
    "start_time": "2024-05-20T19:25:52.559Z"
   },
   {
    "duration": 39,
    "start_time": "2024-05-20T19:25:52.570Z"
   },
   {
    "duration": 28,
    "start_time": "2024-05-20T19:25:52.611Z"
   },
   {
    "duration": 12,
    "start_time": "2024-05-20T19:25:52.641Z"
   },
   {
    "duration": 328,
    "start_time": "2024-05-20T19:35:04.335Z"
   },
   {
    "duration": 318,
    "start_time": "2024-05-20T19:37:33.592Z"
   },
   {
    "duration": 316,
    "start_time": "2024-05-20T19:37:47.203Z"
   },
   {
    "duration": 1128,
    "start_time": "2024-05-20T19:45:29.393Z"
   },
   {
    "duration": 76,
    "start_time": "2024-05-20T19:45:30.522Z"
   },
   {
    "duration": 10,
    "start_time": "2024-05-20T19:45:30.600Z"
   },
   {
    "duration": 90,
    "start_time": "2024-05-20T19:45:30.612Z"
   },
   {
    "duration": 89,
    "start_time": "2024-05-20T19:45:30.704Z"
   },
   {
    "duration": 53,
    "start_time": "2024-05-20T19:45:30.794Z"
   },
   {
    "duration": 66,
    "start_time": "2024-05-20T19:45:30.848Z"
   },
   {
    "duration": 67,
    "start_time": "2024-05-20T19:45:30.915Z"
   },
   {
    "duration": 54,
    "start_time": "2024-05-20T19:45:30.983Z"
   },
   {
    "duration": 54,
    "start_time": "2024-05-20T19:45:31.040Z"
   },
   {
    "duration": 63,
    "start_time": "2024-05-20T19:45:31.095Z"
   },
   {
    "duration": 33,
    "start_time": "2024-05-20T19:45:31.160Z"
   },
   {
    "duration": 257,
    "start_time": "2024-05-20T19:45:31.194Z"
   },
   {
    "duration": 246,
    "start_time": "2024-05-20T19:45:31.453Z"
   },
   {
    "duration": 161,
    "start_time": "2024-05-20T19:45:31.701Z"
   },
   {
    "duration": 303,
    "start_time": "2024-05-20T19:45:31.863Z"
   },
   {
    "duration": 184,
    "start_time": "2024-05-20T19:45:32.168Z"
   },
   {
    "duration": 278,
    "start_time": "2024-05-20T19:45:32.354Z"
   },
   {
    "duration": 111,
    "start_time": "2024-05-20T19:45:32.633Z"
   },
   {
    "duration": 123,
    "start_time": "2024-05-20T19:45:32.745Z"
   },
   {
    "duration": 4,
    "start_time": "2024-05-20T19:45:32.869Z"
   },
   {
    "duration": 286,
    "start_time": "2024-05-20T19:45:32.874Z"
   },
   {
    "duration": 127,
    "start_time": "2024-05-20T19:45:33.161Z"
   },
   {
    "duration": 12,
    "start_time": "2024-05-20T19:45:33.290Z"
   },
   {
    "duration": 185,
    "start_time": "2024-05-20T19:45:33.303Z"
   },
   {
    "duration": 164,
    "start_time": "2024-05-20T19:45:33.490Z"
   },
   {
    "duration": 9,
    "start_time": "2024-05-20T19:45:33.656Z"
   },
   {
    "duration": 72,
    "start_time": "2024-05-20T19:45:33.667Z"
   },
   {
    "duration": 34,
    "start_time": "2024-05-20T19:45:33.741Z"
   },
   {
    "duration": 11,
    "start_time": "2024-05-20T19:45:33.777Z"
   },
   {
    "duration": 1122,
    "start_time": "2024-05-20T19:53:43.287Z"
   },
   {
    "duration": 76,
    "start_time": "2024-05-20T19:53:44.410Z"
   },
   {
    "duration": 10,
    "start_time": "2024-05-20T19:53:44.487Z"
   },
   {
    "duration": 26,
    "start_time": "2024-05-20T19:53:44.499Z"
   },
   {
    "duration": 7,
    "start_time": "2024-05-20T19:53:44.526Z"
   },
   {
    "duration": 10,
    "start_time": "2024-05-20T19:53:44.534Z"
   },
   {
    "duration": 8,
    "start_time": "2024-05-20T19:53:44.546Z"
   },
   {
    "duration": 8,
    "start_time": "2024-05-20T19:53:44.555Z"
   },
   {
    "duration": 16,
    "start_time": "2024-05-20T19:53:44.564Z"
   },
   {
    "duration": 7,
    "start_time": "2024-05-20T19:53:44.582Z"
   },
   {
    "duration": 17,
    "start_time": "2024-05-20T19:53:44.590Z"
   },
   {
    "duration": 16,
    "start_time": "2024-05-20T19:53:44.608Z"
   },
   {
    "duration": 264,
    "start_time": "2024-05-20T19:53:44.625Z"
   },
   {
    "duration": 250,
    "start_time": "2024-05-20T19:53:44.891Z"
   },
   {
    "duration": 169,
    "start_time": "2024-05-20T19:53:45.142Z"
   },
   {
    "duration": 266,
    "start_time": "2024-05-20T19:53:45.313Z"
   },
   {
    "duration": 181,
    "start_time": "2024-05-20T19:53:45.581Z"
   },
   {
    "duration": 328,
    "start_time": "2024-05-20T19:53:45.764Z"
   },
   {
    "duration": 108,
    "start_time": "2024-05-20T19:53:46.094Z"
   },
   {
    "duration": 116,
    "start_time": "2024-05-20T19:53:46.203Z"
   },
   {
    "duration": 4,
    "start_time": "2024-05-20T19:53:46.320Z"
   },
   {
    "duration": 287,
    "start_time": "2024-05-20T19:53:46.326Z"
   },
   {
    "duration": 124,
    "start_time": "2024-05-20T19:53:46.614Z"
   },
   {
    "duration": 4,
    "start_time": "2024-05-20T19:53:46.739Z"
   },
   {
    "duration": 203,
    "start_time": "2024-05-20T19:53:46.744Z"
   },
   {
    "duration": 167,
    "start_time": "2024-05-20T19:53:46.948Z"
   },
   {
    "duration": 8,
    "start_time": "2024-05-20T19:53:47.116Z"
   },
   {
    "duration": 8,
    "start_time": "2024-05-20T19:53:47.127Z"
   },
   {
    "duration": 26,
    "start_time": "2024-05-20T19:53:47.136Z"
   },
   {
    "duration": 39,
    "start_time": "2024-05-20T19:53:47.164Z"
   },
   {
    "duration": 1042,
    "start_time": "2024-05-20T20:03:47.350Z"
   },
   {
    "duration": 75,
    "start_time": "2024-05-20T20:03:48.394Z"
   },
   {
    "duration": 10,
    "start_time": "2024-05-20T20:03:48.471Z"
   },
   {
    "duration": 8,
    "start_time": "2024-05-20T20:03:48.483Z"
   },
   {
    "duration": 67,
    "start_time": "2024-05-20T20:03:48.492Z"
   },
   {
    "duration": 10,
    "start_time": "2024-05-20T20:03:48.560Z"
   },
   {
    "duration": 10,
    "start_time": "2024-05-20T20:03:48.571Z"
   },
   {
    "duration": 9,
    "start_time": "2024-05-20T20:03:48.582Z"
   },
   {
    "duration": 14,
    "start_time": "2024-05-20T20:03:48.592Z"
   },
   {
    "duration": 9,
    "start_time": "2024-05-20T20:03:48.608Z"
   },
   {
    "duration": 15,
    "start_time": "2024-05-20T20:03:48.619Z"
   },
   {
    "duration": 37,
    "start_time": "2024-05-20T20:03:48.635Z"
   },
   {
    "duration": 248,
    "start_time": "2024-05-20T20:03:48.674Z"
   },
   {
    "duration": 247,
    "start_time": "2024-05-20T20:03:48.924Z"
   },
   {
    "duration": 161,
    "start_time": "2024-05-20T20:03:49.172Z"
   },
   {
    "duration": 253,
    "start_time": "2024-05-20T20:03:49.334Z"
   },
   {
    "duration": 187,
    "start_time": "2024-05-20T20:03:49.589Z"
   },
   {
    "duration": 333,
    "start_time": "2024-05-20T20:03:49.778Z"
   },
   {
    "duration": 121,
    "start_time": "2024-05-20T20:03:50.113Z"
   },
   {
    "duration": 117,
    "start_time": "2024-05-20T20:03:50.235Z"
   },
   {
    "duration": 3,
    "start_time": "2024-05-20T20:03:50.354Z"
   },
   {
    "duration": 350,
    "start_time": "2024-05-20T20:03:50.358Z"
   },
   {
    "duration": 131,
    "start_time": "2024-05-20T20:03:50.710Z"
   },
   {
    "duration": 5,
    "start_time": "2024-05-20T20:03:50.842Z"
   },
   {
    "duration": 202,
    "start_time": "2024-05-20T20:03:50.848Z"
   },
   {
    "duration": 153,
    "start_time": "2024-05-20T20:03:51.052Z"
   },
   {
    "duration": 9,
    "start_time": "2024-05-20T20:03:51.206Z"
   },
   {
    "duration": 7,
    "start_time": "2024-05-20T20:03:51.219Z"
   },
   {
    "duration": 29,
    "start_time": "2024-05-20T20:03:51.228Z"
   },
   {
    "duration": 10,
    "start_time": "2024-05-20T20:03:51.258Z"
   },
   {
    "duration": 1186,
    "start_time": "2024-05-21T10:03:04.943Z"
   },
   {
    "duration": 204,
    "start_time": "2024-05-21T10:03:06.131Z"
   },
   {
    "duration": 13,
    "start_time": "2024-05-21T10:03:06.337Z"
   },
   {
    "duration": 157,
    "start_time": "2024-05-21T10:03:06.352Z"
   },
   {
    "duration": 12,
    "start_time": "2024-05-21T10:03:06.511Z"
   },
   {
    "duration": 11,
    "start_time": "2024-05-21T10:03:06.525Z"
   },
   {
    "duration": 15,
    "start_time": "2024-05-21T10:03:06.538Z"
   },
   {
    "duration": 27,
    "start_time": "2024-05-21T10:03:06.555Z"
   },
   {
    "duration": 14,
    "start_time": "2024-05-21T10:03:06.583Z"
   },
   {
    "duration": 18,
    "start_time": "2024-05-21T10:03:06.599Z"
   },
   {
    "duration": 15,
    "start_time": "2024-05-21T10:03:06.618Z"
   },
   {
    "duration": 10,
    "start_time": "2024-05-21T10:03:06.635Z"
   },
   {
    "duration": 285,
    "start_time": "2024-05-21T10:03:06.646Z"
   },
   {
    "duration": 294,
    "start_time": "2024-05-21T10:03:06.933Z"
   },
   {
    "duration": 195,
    "start_time": "2024-05-21T10:03:07.229Z"
   },
   {
    "duration": 291,
    "start_time": "2024-05-21T10:03:07.426Z"
   },
   {
    "duration": 204,
    "start_time": "2024-05-21T10:03:07.718Z"
   },
   {
    "duration": 326,
    "start_time": "2024-05-21T10:03:07.924Z"
   },
   {
    "duration": 139,
    "start_time": "2024-05-21T10:03:08.251Z"
   },
   {
    "duration": 146,
    "start_time": "2024-05-21T10:03:08.392Z"
   },
   {
    "duration": 4,
    "start_time": "2024-05-21T10:03:08.540Z"
   },
   {
    "duration": 326,
    "start_time": "2024-05-21T10:03:08.545Z"
   },
   {
    "duration": 146,
    "start_time": "2024-05-21T10:03:08.872Z"
   },
   {
    "duration": 4,
    "start_time": "2024-05-21T10:03:09.020Z"
   },
   {
    "duration": 244,
    "start_time": "2024-05-21T10:03:09.025Z"
   },
   {
    "duration": 154,
    "start_time": "2024-05-21T10:03:09.271Z"
   },
   {
    "duration": 36,
    "start_time": "2024-05-21T10:03:09.426Z"
   },
   {
    "duration": 12,
    "start_time": "2024-05-21T10:03:09.465Z"
   },
   {
    "duration": 50,
    "start_time": "2024-05-21T10:03:09.478Z"
   },
   {
    "duration": 12,
    "start_time": "2024-05-21T10:03:09.529Z"
   },
   {
    "duration": 1265,
    "start_time": "2024-05-21T17:00:49.594Z"
   },
   {
    "duration": 220,
    "start_time": "2024-05-21T17:00:51.462Z"
   },
   {
    "duration": 15,
    "start_time": "2024-05-21T17:00:55.396Z"
   },
   {
    "duration": 8,
    "start_time": "2024-05-21T17:00:57.761Z"
   },
   {
    "duration": 7,
    "start_time": "2024-05-21T17:00:59.178Z"
   },
   {
    "duration": 10,
    "start_time": "2024-05-21T17:01:00.852Z"
   },
   {
    "duration": 10,
    "start_time": "2024-05-21T17:01:01.352Z"
   },
   {
    "duration": 9,
    "start_time": "2024-05-21T17:01:01.979Z"
   },
   {
    "duration": 6,
    "start_time": "2024-05-21T17:01:03.455Z"
   },
   {
    "duration": 8,
    "start_time": "2024-05-21T17:01:03.897Z"
   },
   {
    "duration": 14,
    "start_time": "2024-05-21T17:01:06.715Z"
   },
   {
    "duration": 3,
    "start_time": "2024-05-21T17:02:14.444Z"
   },
   {
    "duration": 73,
    "start_time": "2024-05-21T17:02:15.683Z"
   },
   {
    "duration": 3,
    "start_time": "2024-05-21T17:02:16.780Z"
   },
   {
    "duration": 8,
    "start_time": "2024-05-21T17:02:25.436Z"
   },
   {
    "duration": 6,
    "start_time": "2024-05-21T17:02:26.862Z"
   },
   {
    "duration": 9,
    "start_time": "2024-05-21T17:02:29.148Z"
   },
   {
    "duration": 11,
    "start_time": "2024-05-21T17:02:29.646Z"
   },
   {
    "duration": 11,
    "start_time": "2024-05-21T17:02:30.126Z"
   },
   {
    "duration": 8,
    "start_time": "2024-05-21T17:02:43.719Z"
   },
   {
    "duration": 8,
    "start_time": "2024-05-21T17:02:54.050Z"
   },
   {
    "duration": 17,
    "start_time": "2024-05-21T17:02:54.520Z"
   },
   {
    "duration": 13,
    "start_time": "2024-05-21T17:02:55.025Z"
   },
   {
    "duration": 20,
    "start_time": "2024-05-21T17:02:55.419Z"
   },
   {
    "duration": 9,
    "start_time": "2024-05-21T17:02:55.697Z"
   },
   {
    "duration": 7,
    "start_time": "2024-05-21T17:02:56.201Z"
   },
   {
    "duration": 8,
    "start_time": "2024-05-21T17:02:56.477Z"
   },
   {
    "duration": 13,
    "start_time": "2024-05-21T17:02:58.097Z"
   },
   {
    "duration": 88,
    "start_time": "2024-05-21T17:03:53.560Z"
   },
   {
    "duration": 61,
    "start_time": "2024-05-21T17:04:08.176Z"
   },
   {
    "duration": 56,
    "start_time": "2024-05-21T17:05:01.999Z"
   },
   {
    "duration": 61,
    "start_time": "2024-05-21T17:05:35.856Z"
   },
   {
    "duration": 59,
    "start_time": "2024-05-21T17:05:43.272Z"
   },
   {
    "duration": 13,
    "start_time": "2024-05-21T17:06:21.604Z"
   },
   {
    "duration": 7,
    "start_time": "2024-05-21T17:06:22.196Z"
   },
   {
    "duration": 9,
    "start_time": "2024-05-21T17:06:23.171Z"
   },
   {
    "duration": 11,
    "start_time": "2024-05-21T17:06:23.582Z"
   },
   {
    "duration": 12,
    "start_time": "2024-05-21T17:06:24.086Z"
   },
   {
    "duration": 8,
    "start_time": "2024-05-21T17:06:24.895Z"
   },
   {
    "duration": 12,
    "start_time": "2024-05-21T17:06:25.333Z"
   },
   {
    "duration": 17,
    "start_time": "2024-05-21T17:06:31.567Z"
   },
   {
    "duration": 22,
    "start_time": "2024-05-21T17:06:39.910Z"
   },
   {
    "duration": 3,
    "start_time": "2024-05-21T17:09:31.269Z"
   },
   {
    "duration": 77,
    "start_time": "2024-05-21T17:09:33.250Z"
   },
   {
    "duration": 8,
    "start_time": "2024-05-21T17:09:34.100Z"
   },
   {
    "duration": 7,
    "start_time": "2024-05-21T17:09:34.888Z"
   },
   {
    "duration": 16,
    "start_time": "2024-05-21T17:09:35.122Z"
   },
   {
    "duration": 10,
    "start_time": "2024-05-21T17:09:35.535Z"
   },
   {
    "duration": 10,
    "start_time": "2024-05-21T17:09:35.737Z"
   },
   {
    "duration": 10,
    "start_time": "2024-05-21T17:09:35.945Z"
   },
   {
    "duration": 5,
    "start_time": "2024-05-21T17:09:36.379Z"
   },
   {
    "duration": 8,
    "start_time": "2024-05-21T17:09:36.589Z"
   },
   {
    "duration": 13,
    "start_time": "2024-05-21T17:09:37.688Z"
   },
   {
    "duration": 10,
    "start_time": "2024-05-21T17:09:38.592Z"
   },
   {
    "duration": 265,
    "start_time": "2024-05-21T17:09:40.396Z"
   },
   {
    "duration": 264,
    "start_time": "2024-05-21T17:09:40.921Z"
   },
   {
    "duration": 264,
    "start_time": "2024-05-21T17:10:28.870Z"
   },
   {
    "duration": 191,
    "start_time": "2024-05-21T17:12:08.095Z"
   },
   {
    "duration": 182,
    "start_time": "2024-05-21T17:12:52.825Z"
   },
   {
    "duration": 185,
    "start_time": "2024-05-21T17:13:14.205Z"
   },
   {
    "duration": 394,
    "start_time": "2024-05-21T17:13:54.306Z"
   },
   {
    "duration": 332,
    "start_time": "2024-05-21T17:14:14.896Z"
   },
   {
    "duration": 204,
    "start_time": "2024-05-21T17:15:03.137Z"
   },
   {
    "duration": 375,
    "start_time": "2024-05-21T17:15:41.622Z"
   },
   {
    "duration": 288,
    "start_time": "2024-05-21T17:16:25.762Z"
   },
   {
    "duration": 7,
    "start_time": "2024-05-21T17:18:00.929Z"
   },
   {
    "duration": 16,
    "start_time": "2024-05-21T17:18:23.206Z"
   },
   {
    "duration": 143,
    "start_time": "2024-05-21T17:24:25.996Z"
   },
   {
    "duration": 5,
    "start_time": "2024-05-21T17:24:37.006Z"
   },
   {
    "duration": 72,
    "start_time": "2024-05-21T17:24:42.464Z"
   },
   {
    "duration": 8,
    "start_time": "2024-05-21T17:24:43.032Z"
   },
   {
    "duration": 8,
    "start_time": "2024-05-21T17:24:43.885Z"
   },
   {
    "duration": 8,
    "start_time": "2024-05-21T17:24:44.123Z"
   },
   {
    "duration": 9,
    "start_time": "2024-05-21T17:24:44.558Z"
   },
   {
    "duration": 10,
    "start_time": "2024-05-21T17:24:44.772Z"
   },
   {
    "duration": 19,
    "start_time": "2024-05-21T17:24:45.006Z"
   },
   {
    "duration": 6,
    "start_time": "2024-05-21T17:24:45.430Z"
   },
   {
    "duration": 8,
    "start_time": "2024-05-21T17:24:45.640Z"
   },
   {
    "duration": 14,
    "start_time": "2024-05-21T17:24:46.708Z"
   },
   {
    "duration": 11,
    "start_time": "2024-05-21T17:24:47.510Z"
   },
   {
    "duration": 240,
    "start_time": "2024-05-21T17:24:49.156Z"
   },
   {
    "duration": 180,
    "start_time": "2024-05-21T17:24:49.556Z"
   },
   {
    "duration": 188,
    "start_time": "2024-05-21T17:24:50.637Z"
   },
   {
    "duration": 267,
    "start_time": "2024-05-21T17:24:51.472Z"
   },
   {
    "duration": 193,
    "start_time": "2024-05-21T17:24:52.234Z"
   },
   {
    "duration": 283,
    "start_time": "2024-05-21T17:24:52.950Z"
   },
   {
    "duration": 115,
    "start_time": "2024-05-21T17:24:53.919Z"
   },
   {
    "duration": 115,
    "start_time": "2024-05-21T17:24:54.168Z"
   },
   {
    "duration": 4,
    "start_time": "2024-05-21T17:24:54.873Z"
   },
   {
    "duration": 206,
    "start_time": "2024-05-21T17:24:55.622Z"
   },
   {
    "duration": 193,
    "start_time": "2024-05-21T17:24:55.887Z"
   },
   {
    "duration": 3,
    "start_time": "2024-05-21T17:24:57.086Z"
   },
   {
    "duration": 197,
    "start_time": "2024-05-21T17:25:11.232Z"
   },
   {
    "duration": 173,
    "start_time": "2024-05-21T17:25:12.770Z"
   },
   {
    "duration": 168,
    "start_time": "2024-05-21T17:26:02.772Z"
   },
   {
    "duration": 173,
    "start_time": "2024-05-21T17:26:22.975Z"
   },
   {
    "duration": 161,
    "start_time": "2024-05-21T17:26:33.080Z"
   },
   {
    "duration": 9,
    "start_time": "2024-05-21T17:33:16.041Z"
   },
   {
    "duration": 8,
    "start_time": "2024-05-21T17:40:35.883Z"
   },
   {
    "duration": 8,
    "start_time": "2024-05-21T17:40:54.894Z"
   },
   {
    "duration": 1059,
    "start_time": "2024-05-21T17:46:21.631Z"
   },
   {
    "duration": 73,
    "start_time": "2024-05-21T17:46:22.691Z"
   },
   {
    "duration": 11,
    "start_time": "2024-05-21T17:46:22.767Z"
   },
   {
    "duration": 7,
    "start_time": "2024-05-21T17:46:22.779Z"
   },
   {
    "duration": 7,
    "start_time": "2024-05-21T17:46:22.787Z"
   },
   {
    "duration": 12,
    "start_time": "2024-05-21T17:46:22.795Z"
   },
   {
    "duration": 8,
    "start_time": "2024-05-21T17:46:22.808Z"
   },
   {
    "duration": 8,
    "start_time": "2024-05-21T17:46:22.817Z"
   },
   {
    "duration": 10,
    "start_time": "2024-05-21T17:46:22.827Z"
   },
   {
    "duration": 8,
    "start_time": "2024-05-21T17:46:22.838Z"
   },
   {
    "duration": 13,
    "start_time": "2024-05-21T17:46:22.847Z"
   },
   {
    "duration": 9,
    "start_time": "2024-05-21T17:46:22.861Z"
   },
   {
    "duration": 270,
    "start_time": "2024-05-21T17:46:22.871Z"
   },
   {
    "duration": 263,
    "start_time": "2024-05-21T17:46:23.143Z"
   },
   {
    "duration": 192,
    "start_time": "2024-05-21T17:46:23.407Z"
   },
   {
    "duration": 296,
    "start_time": "2024-05-21T17:46:23.600Z"
   },
   {
    "duration": 201,
    "start_time": "2024-05-21T17:46:23.898Z"
   },
   {
    "duration": 322,
    "start_time": "2024-05-21T17:46:24.100Z"
   },
   {
    "duration": 114,
    "start_time": "2024-05-21T17:46:24.423Z"
   },
   {
    "duration": 121,
    "start_time": "2024-05-21T17:46:24.538Z"
   },
   {
    "duration": 4,
    "start_time": "2024-05-21T17:46:24.661Z"
   },
   {
    "duration": 249,
    "start_time": "2024-05-21T17:46:24.666Z"
   },
   {
    "duration": 131,
    "start_time": "2024-05-21T17:46:24.917Z"
   },
   {
    "duration": 4,
    "start_time": "2024-05-21T17:46:25.050Z"
   },
   {
    "duration": 197,
    "start_time": "2024-05-21T17:46:25.055Z"
   },
   {
    "duration": 159,
    "start_time": "2024-05-21T17:46:25.254Z"
   },
   {
    "duration": 8,
    "start_time": "2024-05-21T17:46:25.416Z"
   },
   {
    "duration": 7,
    "start_time": "2024-05-21T17:46:25.426Z"
   },
   {
    "duration": 13,
    "start_time": "2024-05-21T17:46:25.435Z"
   },
   {
    "duration": 24,
    "start_time": "2024-05-21T17:46:25.450Z"
   },
   {
    "duration": 11,
    "start_time": "2024-05-21T17:46:25.475Z"
   },
   {
    "duration": 3,
    "start_time": "2024-05-21T17:56:04.857Z"
   },
   {
    "duration": 72,
    "start_time": "2024-05-21T17:56:05.808Z"
   },
   {
    "duration": 10,
    "start_time": "2024-05-21T17:56:06.176Z"
   },
   {
    "duration": 8,
    "start_time": "2024-05-21T17:56:06.734Z"
   },
   {
    "duration": 6,
    "start_time": "2024-05-21T17:56:06.914Z"
   },
   {
    "duration": 9,
    "start_time": "2024-05-21T17:56:07.276Z"
   },
   {
    "duration": 9,
    "start_time": "2024-05-21T17:56:07.455Z"
   },
   {
    "duration": 9,
    "start_time": "2024-05-21T17:56:07.630Z"
   },
   {
    "duration": 5,
    "start_time": "2024-05-21T17:56:08.216Z"
   },
   {
    "duration": 13,
    "start_time": "2024-05-21T17:56:08.222Z"
   },
   {
    "duration": 14,
    "start_time": "2024-05-21T17:56:09.104Z"
   },
   {
    "duration": 9,
    "start_time": "2024-05-21T17:56:09.892Z"
   },
   {
    "duration": 234,
    "start_time": "2024-05-21T17:56:11.948Z"
   },
   {
    "duration": 171,
    "start_time": "2024-05-21T17:56:13.653Z"
   },
   {
    "duration": 166,
    "start_time": "2024-05-21T17:56:16.174Z"
   },
   {
    "duration": 169,
    "start_time": "2024-05-21T17:56:18.937Z"
   },
   {
    "duration": 303,
    "start_time": "2024-05-21T17:56:42.092Z"
   },
   {
    "duration": 184,
    "start_time": "2024-05-21T17:56:44.920Z"
   },
   {
    "duration": 321,
    "start_time": "2024-05-21T17:56:52.212Z"
   },
   {
    "duration": 109,
    "start_time": "2024-05-21T17:56:59.511Z"
   },
   {
    "duration": 111,
    "start_time": "2024-05-21T17:57:02.347Z"
   },
   {
    "duration": 113,
    "start_time": "2024-05-21T17:57:04.863Z"
   },
   {
    "duration": 4,
    "start_time": "2024-05-21T17:57:08.484Z"
   },
   {
    "duration": 257,
    "start_time": "2024-05-21T17:57:10.855Z"
   },
   {
    "duration": 122,
    "start_time": "2024-05-21T17:57:11.738Z"
   },
   {
    "duration": 5,
    "start_time": "2024-05-21T17:57:19.130Z"
   },
   {
    "duration": 181,
    "start_time": "2024-05-21T17:57:26.617Z"
   },
   {
    "duration": 166,
    "start_time": "2024-05-21T17:57:28.699Z"
   },
   {
    "duration": 9,
    "start_time": "2024-05-21T17:57:35.966Z"
   },
   {
    "duration": 8,
    "start_time": "2024-05-21T17:57:38.416Z"
   },
   {
    "duration": 8,
    "start_time": "2024-05-21T17:57:39.245Z"
   },
   {
    "duration": 26,
    "start_time": "2024-05-21T17:57:40.033Z"
   },
   {
    "duration": 13,
    "start_time": "2024-05-21T17:57:41.126Z"
   },
   {
    "duration": 3,
    "start_time": "2024-05-21T18:04:09.490Z"
   },
   {
    "duration": 99,
    "start_time": "2024-05-21T18:04:30.673Z"
   },
   {
    "duration": 3,
    "start_time": "2024-05-21T18:05:04.543Z"
   },
   {
    "duration": 3,
    "start_time": "2024-05-21T18:05:07.676Z"
   },
   {
    "duration": 5,
    "start_time": "2024-05-21T18:05:57.559Z"
   },
   {
    "duration": 8,
    "start_time": "2024-05-21T18:08:50.417Z"
   },
   {
    "duration": 7,
    "start_time": "2024-05-21T18:12:16.775Z"
   },
   {
    "duration": 8,
    "start_time": "2024-05-21T18:13:25.454Z"
   },
   {
    "duration": 11,
    "start_time": "2024-05-21T18:17:28.654Z"
   },
   {
    "duration": 15,
    "start_time": "2024-05-21T18:18:02.746Z"
   },
   {
    "duration": 6,
    "start_time": "2024-05-21T18:18:44.444Z"
   },
   {
    "duration": 15,
    "start_time": "2024-05-21T18:19:18.811Z"
   },
   {
    "duration": 2,
    "start_time": "2024-05-21T18:20:22.522Z"
   },
   {
    "duration": 72,
    "start_time": "2024-05-21T18:20:23.687Z"
   },
   {
    "duration": 8,
    "start_time": "2024-05-21T18:20:24.521Z"
   },
   {
    "duration": 7,
    "start_time": "2024-05-21T18:20:25.497Z"
   },
   {
    "duration": 7,
    "start_time": "2024-05-21T18:20:25.787Z"
   },
   {
    "duration": 10,
    "start_time": "2024-05-21T18:20:26.350Z"
   },
   {
    "duration": 9,
    "start_time": "2024-05-21T18:20:26.636Z"
   },
   {
    "duration": 8,
    "start_time": "2024-05-21T18:20:26.955Z"
   },
   {
    "duration": 5,
    "start_time": "2024-05-21T18:20:27.614Z"
   },
   {
    "duration": 7,
    "start_time": "2024-05-21T18:20:28.717Z"
   },
   {
    "duration": 7,
    "start_time": "2024-05-21T18:20:31.656Z"
   },
   {
    "duration": 8,
    "start_time": "2024-05-21T18:20:35.033Z"
   },
   {
    "duration": 7,
    "start_time": "2024-05-21T18:20:39.606Z"
   },
   {
    "duration": 6,
    "start_time": "2024-05-21T18:20:44.848Z"
   },
   {
    "duration": 14,
    "start_time": "2024-05-21T18:20:46.048Z"
   },
   {
    "duration": 11,
    "start_time": "2024-05-21T18:23:15.629Z"
   },
   {
    "duration": 220,
    "start_time": "2024-05-21T18:23:33.628Z"
   },
   {
    "duration": 245,
    "start_time": "2024-05-21T18:24:42.240Z"
   },
   {
    "duration": 219,
    "start_time": "2024-05-21T18:26:50.446Z"
   },
   {
    "duration": 3,
    "start_time": "2024-05-21T18:30:27.130Z"
   },
   {
    "duration": 71,
    "start_time": "2024-05-21T18:30:28.071Z"
   },
   {
    "duration": 8,
    "start_time": "2024-05-21T18:30:28.515Z"
   },
   {
    "duration": 8,
    "start_time": "2024-05-21T18:30:29.301Z"
   },
   {
    "duration": 7,
    "start_time": "2024-05-21T18:30:29.701Z"
   },
   {
    "duration": 10,
    "start_time": "2024-05-21T18:30:29.869Z"
   },
   {
    "duration": 9,
    "start_time": "2024-05-21T18:30:30.136Z"
   },
   {
    "duration": 9,
    "start_time": "2024-05-21T18:30:30.307Z"
   },
   {
    "duration": 5,
    "start_time": "2024-05-21T18:30:30.808Z"
   },
   {
    "duration": 8,
    "start_time": "2024-05-21T18:30:31.076Z"
   },
   {
    "duration": 7,
    "start_time": "2024-05-21T18:30:32.240Z"
   },
   {
    "duration": 8,
    "start_time": "2024-05-21T18:30:32.925Z"
   },
   {
    "duration": 231,
    "start_time": "2024-05-21T18:30:33.348Z"
   },
   {
    "duration": 6,
    "start_time": "2024-05-21T18:30:34.025Z"
   },
   {
    "duration": 4,
    "start_time": "2024-05-21T18:30:36.733Z"
   },
   {
    "duration": 12,
    "start_time": "2024-05-21T18:30:37.834Z"
   },
   {
    "duration": 14,
    "start_time": "2024-05-21T18:30:38.929Z"
   },
   {
    "duration": 240,
    "start_time": "2024-05-21T18:30:43.024Z"
   },
   {
    "duration": 234,
    "start_time": "2024-05-21T18:30:46.447Z"
   },
   {
    "duration": 6,
    "start_time": "2024-05-21T18:30:48.095Z"
   },
   {
    "duration": 1114,
    "start_time": "2024-05-21T18:33:04.474Z"
   },
   {
    "duration": 72,
    "start_time": "2024-05-21T18:33:05.590Z"
   },
   {
    "duration": 10,
    "start_time": "2024-05-21T18:33:05.663Z"
   },
   {
    "duration": 9,
    "start_time": "2024-05-21T18:33:05.675Z"
   },
   {
    "duration": 7,
    "start_time": "2024-05-21T18:33:05.685Z"
   },
   {
    "duration": 12,
    "start_time": "2024-05-21T18:33:05.693Z"
   },
   {
    "duration": 19,
    "start_time": "2024-05-21T18:33:05.706Z"
   },
   {
    "duration": 20,
    "start_time": "2024-05-21T18:33:05.726Z"
   },
   {
    "duration": 10,
    "start_time": "2024-05-21T18:33:05.748Z"
   },
   {
    "duration": 7,
    "start_time": "2024-05-21T18:33:05.760Z"
   },
   {
    "duration": 7,
    "start_time": "2024-05-21T18:33:05.769Z"
   },
   {
    "duration": 10,
    "start_time": "2024-05-21T18:33:05.777Z"
   },
   {
    "duration": 322,
    "start_time": "2024-05-21T18:33:05.789Z"
   },
   {
    "duration": 0,
    "start_time": "2024-05-21T18:33:06.113Z"
   },
   {
    "duration": 0,
    "start_time": "2024-05-21T18:33:06.114Z"
   },
   {
    "duration": 0,
    "start_time": "2024-05-21T18:33:06.115Z"
   },
   {
    "duration": 0,
    "start_time": "2024-05-21T18:33:06.116Z"
   },
   {
    "duration": 0,
    "start_time": "2024-05-21T18:33:06.116Z"
   },
   {
    "duration": 0,
    "start_time": "2024-05-21T18:33:06.117Z"
   },
   {
    "duration": 0,
    "start_time": "2024-05-21T18:33:06.118Z"
   },
   {
    "duration": 0,
    "start_time": "2024-05-21T18:33:06.119Z"
   },
   {
    "duration": 0,
    "start_time": "2024-05-21T18:33:06.120Z"
   },
   {
    "duration": 0,
    "start_time": "2024-05-21T18:33:06.120Z"
   },
   {
    "duration": 0,
    "start_time": "2024-05-21T18:33:06.122Z"
   },
   {
    "duration": 0,
    "start_time": "2024-05-21T18:33:06.123Z"
   },
   {
    "duration": 0,
    "start_time": "2024-05-21T18:33:06.123Z"
   },
   {
    "duration": 0,
    "start_time": "2024-05-21T18:33:06.124Z"
   },
   {
    "duration": 0,
    "start_time": "2024-05-21T18:33:06.125Z"
   },
   {
    "duration": 0,
    "start_time": "2024-05-21T18:33:06.126Z"
   },
   {
    "duration": 0,
    "start_time": "2024-05-21T18:33:06.127Z"
   },
   {
    "duration": 0,
    "start_time": "2024-05-21T18:33:06.128Z"
   },
   {
    "duration": 0,
    "start_time": "2024-05-21T18:33:06.128Z"
   },
   {
    "duration": 0,
    "start_time": "2024-05-21T18:33:06.129Z"
   },
   {
    "duration": 0,
    "start_time": "2024-05-21T18:33:06.130Z"
   },
   {
    "duration": 0,
    "start_time": "2024-05-21T18:33:06.131Z"
   },
   {
    "duration": 0,
    "start_time": "2024-05-21T18:33:06.131Z"
   },
   {
    "duration": 65,
    "start_time": "2024-05-21T18:34:47.162Z"
   },
   {
    "duration": 10,
    "start_time": "2024-05-21T18:41:06.966Z"
   },
   {
    "duration": 1037,
    "start_time": "2024-05-21T18:41:43.733Z"
   },
   {
    "duration": 1042,
    "start_time": "2024-05-21T18:43:00.289Z"
   },
   {
    "duration": 219,
    "start_time": "2024-05-21T18:43:10.874Z"
   },
   {
    "duration": 1048,
    "start_time": "2024-05-21T18:43:19.053Z"
   },
   {
    "duration": 73,
    "start_time": "2024-05-21T18:43:20.103Z"
   },
   {
    "duration": 10,
    "start_time": "2024-05-21T18:43:20.177Z"
   },
   {
    "duration": 8,
    "start_time": "2024-05-21T18:43:20.189Z"
   },
   {
    "duration": 10,
    "start_time": "2024-05-21T18:43:20.198Z"
   },
   {
    "duration": 13,
    "start_time": "2024-05-21T18:43:20.210Z"
   },
   {
    "duration": 12,
    "start_time": "2024-05-21T18:43:20.224Z"
   },
   {
    "duration": 11,
    "start_time": "2024-05-21T18:43:20.238Z"
   },
   {
    "duration": 8,
    "start_time": "2024-05-21T18:43:20.250Z"
   },
   {
    "duration": 6,
    "start_time": "2024-05-21T18:43:20.260Z"
   },
   {
    "duration": 14,
    "start_time": "2024-05-21T18:43:20.267Z"
   },
   {
    "duration": 15,
    "start_time": "2024-05-21T18:43:20.283Z"
   },
   {
    "duration": 227,
    "start_time": "2024-05-21T18:43:20.299Z"
   },
   {
    "duration": 4,
    "start_time": "2024-05-21T18:43:20.528Z"
   },
   {
    "duration": 1064,
    "start_time": "2024-05-21T18:43:20.533Z"
   },
   {
    "duration": 20,
    "start_time": "2024-05-21T18:43:21.599Z"
   },
   {
    "duration": 9,
    "start_time": "2024-05-21T18:43:21.620Z"
   },
   {
    "duration": 255,
    "start_time": "2024-05-21T18:43:21.630Z"
   },
   {
    "duration": 5,
    "start_time": "2024-05-21T18:43:21.887Z"
   },
   {
    "duration": 256,
    "start_time": "2024-05-21T18:43:21.893Z"
   },
   {
    "duration": 184,
    "start_time": "2024-05-21T18:43:22.151Z"
   },
   {
    "duration": 295,
    "start_time": "2024-05-21T18:43:22.336Z"
   },
   {
    "duration": 214,
    "start_time": "2024-05-21T18:43:22.633Z"
   },
   {
    "duration": 303,
    "start_time": "2024-05-21T18:43:22.849Z"
   },
   {
    "duration": 179,
    "start_time": "2024-05-21T18:43:23.154Z"
   },
   {
    "duration": 120,
    "start_time": "2024-05-21T18:43:23.334Z"
   },
   {
    "duration": 4,
    "start_time": "2024-05-21T18:43:23.455Z"
   },
   {
    "duration": 236,
    "start_time": "2024-05-21T18:43:23.462Z"
   },
   {
    "duration": 153,
    "start_time": "2024-05-21T18:43:23.699Z"
   },
   {
    "duration": 4,
    "start_time": "2024-05-21T18:43:23.854Z"
   },
   {
    "duration": 199,
    "start_time": "2024-05-21T18:43:23.860Z"
   },
   {
    "duration": 164,
    "start_time": "2024-05-21T18:43:24.060Z"
   },
   {
    "duration": 9,
    "start_time": "2024-05-21T18:43:24.225Z"
   },
   {
    "duration": 19,
    "start_time": "2024-05-21T18:43:24.235Z"
   },
   {
    "duration": 10,
    "start_time": "2024-05-21T18:43:24.255Z"
   },
   {
    "duration": 47,
    "start_time": "2024-05-21T18:43:24.267Z"
   },
   {
    "duration": 13,
    "start_time": "2024-05-21T18:43:24.316Z"
   },
   {
    "duration": 1078,
    "start_time": "2024-05-21T18:45:27.211Z"
   },
   {
    "duration": 72,
    "start_time": "2024-05-21T18:45:28.290Z"
   },
   {
    "duration": 11,
    "start_time": "2024-05-21T18:45:28.364Z"
   },
   {
    "duration": 8,
    "start_time": "2024-05-21T18:45:28.376Z"
   },
   {
    "duration": 6,
    "start_time": "2024-05-21T18:45:28.385Z"
   },
   {
    "duration": 10,
    "start_time": "2024-05-21T18:45:28.393Z"
   },
   {
    "duration": 8,
    "start_time": "2024-05-21T18:45:28.405Z"
   },
   {
    "duration": 9,
    "start_time": "2024-05-21T18:45:28.415Z"
   },
   {
    "duration": 6,
    "start_time": "2024-05-21T18:45:28.425Z"
   },
   {
    "duration": 7,
    "start_time": "2024-05-21T18:45:28.433Z"
   },
   {
    "duration": 7,
    "start_time": "2024-05-21T18:45:28.441Z"
   },
   {
    "duration": 7,
    "start_time": "2024-05-21T18:45:28.450Z"
   },
   {
    "duration": 251,
    "start_time": "2024-05-21T18:45:28.458Z"
   },
   {
    "duration": 5,
    "start_time": "2024-05-21T18:45:28.711Z"
   },
   {
    "duration": 1046,
    "start_time": "2024-05-21T18:45:28.717Z"
   },
   {
    "duration": 14,
    "start_time": "2024-05-21T18:45:29.764Z"
   },
   {
    "duration": 8,
    "start_time": "2024-05-21T18:45:29.780Z"
   },
   {
    "duration": 261,
    "start_time": "2024-05-21T18:45:29.790Z"
   },
   {
    "duration": 5,
    "start_time": "2024-05-21T18:45:30.053Z"
   },
   {
    "duration": 260,
    "start_time": "2024-05-21T18:45:30.059Z"
   },
   {
    "duration": 181,
    "start_time": "2024-05-21T18:45:30.320Z"
   },
   {
    "duration": 294,
    "start_time": "2024-05-21T18:45:30.502Z"
   },
   {
    "duration": 203,
    "start_time": "2024-05-21T18:45:30.797Z"
   },
   {
    "duration": 332,
    "start_time": "2024-05-21T18:45:31.001Z"
   },
   {
    "duration": 174,
    "start_time": "2024-05-21T18:45:31.334Z"
   },
   {
    "duration": 117,
    "start_time": "2024-05-21T18:45:31.511Z"
   },
   {
    "duration": 4,
    "start_time": "2024-05-21T18:45:31.629Z"
   },
   {
    "duration": 241,
    "start_time": "2024-05-21T18:45:31.636Z"
   },
   {
    "duration": 136,
    "start_time": "2024-05-21T18:45:31.878Z"
   },
   {
    "duration": 4,
    "start_time": "2024-05-21T18:45:32.015Z"
   },
   {
    "duration": 196,
    "start_time": "2024-05-21T18:45:32.020Z"
   },
   {
    "duration": 163,
    "start_time": "2024-05-21T18:45:32.217Z"
   },
   {
    "duration": 9,
    "start_time": "2024-05-21T18:45:32.381Z"
   },
   {
    "duration": 23,
    "start_time": "2024-05-21T18:45:32.391Z"
   },
   {
    "duration": 16,
    "start_time": "2024-05-21T18:45:32.415Z"
   },
   {
    "duration": 24,
    "start_time": "2024-05-21T18:45:32.433Z"
   },
   {
    "duration": 11,
    "start_time": "2024-05-21T18:45:32.458Z"
   },
   {
    "duration": 1065,
    "start_time": "2024-05-21T18:45:56.779Z"
   },
   {
    "duration": 1068,
    "start_time": "2024-05-21T18:47:09.124Z"
   },
   {
    "duration": 72,
    "start_time": "2024-05-21T18:47:10.194Z"
   },
   {
    "duration": 10,
    "start_time": "2024-05-21T18:47:10.268Z"
   },
   {
    "duration": 8,
    "start_time": "2024-05-21T18:47:10.280Z"
   },
   {
    "duration": 7,
    "start_time": "2024-05-21T18:47:10.290Z"
   },
   {
    "duration": 10,
    "start_time": "2024-05-21T18:47:10.298Z"
   },
   {
    "duration": 11,
    "start_time": "2024-05-21T18:47:10.309Z"
   },
   {
    "duration": 18,
    "start_time": "2024-05-21T18:47:10.321Z"
   },
   {
    "duration": 7,
    "start_time": "2024-05-21T18:47:10.341Z"
   },
   {
    "duration": 13,
    "start_time": "2024-05-21T18:47:10.350Z"
   },
   {
    "duration": 7,
    "start_time": "2024-05-21T18:47:10.365Z"
   },
   {
    "duration": 25,
    "start_time": "2024-05-21T18:47:10.373Z"
   },
   {
    "duration": 223,
    "start_time": "2024-05-21T18:47:10.400Z"
   },
   {
    "duration": 4,
    "start_time": "2024-05-21T18:47:10.625Z"
   },
   {
    "duration": 1094,
    "start_time": "2024-05-21T18:47:10.630Z"
   },
   {
    "duration": 13,
    "start_time": "2024-05-21T18:47:11.725Z"
   },
   {
    "duration": 10,
    "start_time": "2024-05-21T18:47:11.740Z"
   },
   {
    "duration": 263,
    "start_time": "2024-05-21T18:47:11.751Z"
   },
   {
    "duration": 6,
    "start_time": "2024-05-21T18:47:12.015Z"
   },
   {
    "duration": 272,
    "start_time": "2024-05-21T18:47:12.022Z"
   },
   {
    "duration": 182,
    "start_time": "2024-05-21T18:47:12.295Z"
   },
   {
    "duration": 306,
    "start_time": "2024-05-21T18:47:12.479Z"
   },
   {
    "duration": 200,
    "start_time": "2024-05-21T18:47:12.787Z"
   },
   {
    "duration": 334,
    "start_time": "2024-05-21T18:47:12.988Z"
   },
   {
    "duration": 170,
    "start_time": "2024-05-21T18:47:13.323Z"
   },
   {
    "duration": 138,
    "start_time": "2024-05-21T18:47:13.494Z"
   },
   {
    "duration": 4,
    "start_time": "2024-05-21T18:47:13.634Z"
   },
   {
    "duration": 205,
    "start_time": "2024-05-21T18:47:13.642Z"
   },
   {
    "duration": 133,
    "start_time": "2024-05-21T18:47:13.849Z"
   },
   {
    "duration": 4,
    "start_time": "2024-05-21T18:47:13.984Z"
   },
   {
    "duration": 194,
    "start_time": "2024-05-21T18:47:13.990Z"
   },
   {
    "duration": 166,
    "start_time": "2024-05-21T18:47:14.186Z"
   },
   {
    "duration": 8,
    "start_time": "2024-05-21T18:47:14.354Z"
   },
   {
    "duration": 8,
    "start_time": "2024-05-21T18:47:14.363Z"
   },
   {
    "duration": 17,
    "start_time": "2024-05-21T18:47:14.372Z"
   },
   {
    "duration": 42,
    "start_time": "2024-05-21T18:47:14.391Z"
   },
   {
    "duration": 14,
    "start_time": "2024-05-21T18:47:14.435Z"
   },
   {
    "duration": 1176,
    "start_time": "2024-05-21T19:50:30.352Z"
   },
   {
    "duration": 216,
    "start_time": "2024-05-21T19:50:31.530Z"
   },
   {
    "duration": 15,
    "start_time": "2024-05-21T19:50:31.748Z"
   },
   {
    "duration": 19,
    "start_time": "2024-05-21T19:50:31.766Z"
   },
   {
    "duration": 29,
    "start_time": "2024-05-21T19:50:31.787Z"
   },
   {
    "duration": 35,
    "start_time": "2024-05-21T19:50:31.818Z"
   },
   {
    "duration": 35,
    "start_time": "2024-05-21T19:50:31.855Z"
   },
   {
    "duration": 28,
    "start_time": "2024-05-21T19:50:31.892Z"
   },
   {
    "duration": 24,
    "start_time": "2024-05-21T19:50:31.922Z"
   },
   {
    "duration": 12,
    "start_time": "2024-05-21T19:50:31.950Z"
   },
   {
    "duration": 57,
    "start_time": "2024-05-21T19:50:31.964Z"
   },
   {
    "duration": 15,
    "start_time": "2024-05-21T19:50:32.023Z"
   },
   {
    "duration": 289,
    "start_time": "2024-05-21T19:50:32.040Z"
   },
   {
    "duration": 6,
    "start_time": "2024-05-21T19:50:32.330Z"
   },
   {
    "duration": 1235,
    "start_time": "2024-05-21T19:50:32.337Z"
   },
   {
    "duration": 15,
    "start_time": "2024-05-21T19:50:33.574Z"
   },
   {
    "duration": 41,
    "start_time": "2024-05-21T19:50:33.591Z"
   },
   {
    "duration": 279,
    "start_time": "2024-05-21T19:50:33.634Z"
   },
   {
    "duration": 7,
    "start_time": "2024-05-21T19:50:33.915Z"
   },
   {
    "duration": 303,
    "start_time": "2024-05-21T19:50:33.924Z"
   },
   {
    "duration": 206,
    "start_time": "2024-05-21T19:50:34.229Z"
   },
   {
    "duration": 333,
    "start_time": "2024-05-21T19:50:34.437Z"
   },
   {
    "duration": 214,
    "start_time": "2024-05-21T19:50:34.771Z"
   },
   {
    "duration": 324,
    "start_time": "2024-05-21T19:50:34.987Z"
   },
   {
    "duration": 218,
    "start_time": "2024-05-21T19:50:35.313Z"
   },
   {
    "duration": 141,
    "start_time": "2024-05-21T19:50:35.532Z"
   },
   {
    "duration": 4,
    "start_time": "2024-05-21T19:50:35.675Z"
   },
   {
    "duration": 250,
    "start_time": "2024-05-21T19:50:35.682Z"
   },
   {
    "duration": 155,
    "start_time": "2024-05-21T19:50:35.934Z"
   },
   {
    "duration": 4,
    "start_time": "2024-05-21T19:50:36.090Z"
   },
   {
    "duration": 231,
    "start_time": "2024-05-21T19:50:36.095Z"
   },
   {
    "duration": 178,
    "start_time": "2024-05-21T19:50:36.328Z"
   },
   {
    "duration": 11,
    "start_time": "2024-05-21T19:50:36.508Z"
   },
   {
    "duration": 164,
    "start_time": "2024-05-21T19:50:36.521Z"
   },
   {
    "duration": 59,
    "start_time": "2024-05-21T19:50:36.687Z"
   },
   {
    "duration": 31,
    "start_time": "2024-05-21T19:50:36.747Z"
   },
   {
    "duration": 22,
    "start_time": "2024-05-21T19:50:36.779Z"
   }
  ],
  "kernelspec": {
   "display_name": "Python 3 (ipykernel)",
   "language": "python",
   "name": "python3"
  },
  "language_info": {
   "codemirror_mode": {
    "name": "ipython",
    "version": 3
   },
   "file_extension": ".py",
   "mimetype": "text/x-python",
   "name": "python",
   "nbconvert_exporter": "python",
   "pygments_lexer": "ipython3",
   "version": "3.9.5"
  },
  "toc": {
   "base_numbering": 1,
   "nav_menu": {},
   "number_sections": true,
   "sideBar": true,
   "skip_h1_title": true,
   "title_cell": "Table of Contents",
   "title_sidebar": "Contents",
   "toc_cell": false,
   "toc_position": {},
   "toc_section_display": true,
   "toc_window_display": false
  }
 },
 "nbformat": 4,
 "nbformat_minor": 2
}
